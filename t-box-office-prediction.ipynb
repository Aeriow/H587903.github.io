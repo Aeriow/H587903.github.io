{
 "cells": [
  {
   "cell_type": "markdown",
   "id": "505ee641",
   "metadata": {
    "papermill": {
     "duration": 0.015152,
     "end_time": "2022-11-16T14:38:05.702276",
     "exception": false,
     "start_time": "2022-11-16T14:38:05.687124",
     "status": "completed"
    },
    "tags": []
   },
   "source": [
    "# Setup"
   ]
  },
  {
   "cell_type": "code",
   "execution_count": 1,
   "id": "9013eed5",
   "metadata": {
    "execution": {
     "iopub.execute_input": "2022-11-16T14:38:05.732959Z",
     "iopub.status.busy": "2022-11-16T14:38:05.732504Z",
     "iopub.status.idle": "2022-11-16T14:38:06.908101Z",
     "shell.execute_reply": "2022-11-16T14:38:06.907331Z"
    },
    "papermill": {
     "duration": 1.193894,
     "end_time": "2022-11-16T14:38:06.910642",
     "exception": false,
     "start_time": "2022-11-16T14:38:05.716748",
     "status": "completed"
    },
    "tags": []
   },
   "outputs": [],
   "source": [
    "%matplotlib inline\n",
    "import numpy as np, pandas as pd, seaborn as sns, matplotlib.pyplot as plt\n",
    "from pathlib import Path\n",
    "from pandas.plotting import scatter_matrix\n",
    "from sklearn.preprocessing import OneHotEncoder"
   ]
  },
  {
   "cell_type": "markdown",
   "id": "135b2dae",
   "metadata": {
    "papermill": {
     "duration": 0.014179,
     "end_time": "2022-11-16T14:38:06.941234",
     "exception": false,
     "start_time": "2022-11-16T14:38:06.927055",
     "status": "completed"
    },
    "tags": []
   },
   "source": [
    "Load Data"
   ]
  },
  {
   "cell_type": "code",
   "execution_count": 2,
   "id": "3d45e41d",
   "metadata": {
    "execution": {
     "iopub.execute_input": "2022-11-16T14:38:06.972127Z",
     "iopub.status.busy": "2022-11-16T14:38:06.971189Z",
     "iopub.status.idle": "2022-11-16T14:38:06.980067Z",
     "shell.execute_reply": "2022-11-16T14:38:06.979412Z"
    },
    "papermill": {
     "duration": 0.026117,
     "end_time": "2022-11-16T14:38:06.981825",
     "exception": false,
     "start_time": "2022-11-16T14:38:06.955708",
     "status": "completed"
    },
    "tags": []
   },
   "outputs": [
    {
     "data": {
      "text/plain": [
       "[PosixPath('/kaggle/input/tmdb-box-office-prediction/sample_submission.csv'),\n",
       " PosixPath('/kaggle/input/tmdb-box-office-prediction/train.csv'),\n",
       " PosixPath('/kaggle/input/tmdb-box-office-prediction/test.csv')]"
      ]
     },
     "execution_count": 2,
     "metadata": {},
     "output_type": "execute_result"
    }
   ],
   "source": [
    "DATA = Path('/kaggle/input/tmdb-box-office-prediction')\n",
    "list(DATA.iterdir())"
   ]
  },
  {
   "cell_type": "code",
   "execution_count": 3,
   "id": "3e50de4a",
   "metadata": {
    "execution": {
     "iopub.execute_input": "2022-11-16T14:38:07.013262Z",
     "iopub.status.busy": "2022-11-16T14:38:07.012742Z",
     "iopub.status.idle": "2022-11-16T14:38:08.841293Z",
     "shell.execute_reply": "2022-11-16T14:38:08.839919Z"
    },
    "papermill": {
     "duration": 1.847441,
     "end_time": "2022-11-16T14:38:08.843838",
     "exception": false,
     "start_time": "2022-11-16T14:38:06.996397",
     "status": "completed"
    },
    "tags": []
   },
   "outputs": [],
   "source": [
    "train = pd.read_csv(DATA/'train.csv')\n",
    "train2 = pd.read_csv(DATA/'train.csv')\n",
    "test = pd.read_csv(DATA/'test.csv')\n",
    "sampleSubmission = pd.read_csv(DATA/'sample_submission.csv')"
   ]
  },
  {
   "cell_type": "markdown",
   "id": "19da0848",
   "metadata": {
    "papermill": {
     "duration": 0.013974,
     "end_time": "2022-11-16T14:38:08.872206",
     "exception": false,
     "start_time": "2022-11-16T14:38:08.858232",
     "status": "completed"
    },
    "tags": []
   },
   "source": [
    "# Inspect Data"
   ]
  },
  {
   "cell_type": "code",
   "execution_count": 4,
   "id": "82040208",
   "metadata": {
    "execution": {
     "iopub.execute_input": "2022-11-16T14:38:08.901709Z",
     "iopub.status.busy": "2022-11-16T14:38:08.901332Z",
     "iopub.status.idle": "2022-11-16T14:38:08.937547Z",
     "shell.execute_reply": "2022-11-16T14:38:08.936189Z"
    },
    "papermill": {
     "duration": 0.05329,
     "end_time": "2022-11-16T14:38:08.939556",
     "exception": false,
     "start_time": "2022-11-16T14:38:08.886266",
     "status": "completed"
    },
    "tags": []
   },
   "outputs": [
    {
     "data": {
      "text/html": [
       "<div>\n",
       "<style scoped>\n",
       "    .dataframe tbody tr th:only-of-type {\n",
       "        vertical-align: middle;\n",
       "    }\n",
       "\n",
       "    .dataframe tbody tr th {\n",
       "        vertical-align: top;\n",
       "    }\n",
       "\n",
       "    .dataframe thead th {\n",
       "        text-align: right;\n",
       "    }\n",
       "</style>\n",
       "<table border=\"1\" class=\"dataframe\">\n",
       "  <thead>\n",
       "    <tr style=\"text-align: right;\">\n",
       "      <th></th>\n",
       "      <th>id</th>\n",
       "      <th>belongs_to_collection</th>\n",
       "      <th>budget</th>\n",
       "      <th>genres</th>\n",
       "      <th>homepage</th>\n",
       "      <th>imdb_id</th>\n",
       "      <th>original_language</th>\n",
       "      <th>original_title</th>\n",
       "      <th>overview</th>\n",
       "      <th>popularity</th>\n",
       "      <th>...</th>\n",
       "      <th>release_date</th>\n",
       "      <th>runtime</th>\n",
       "      <th>spoken_languages</th>\n",
       "      <th>status</th>\n",
       "      <th>tagline</th>\n",
       "      <th>title</th>\n",
       "      <th>Keywords</th>\n",
       "      <th>cast</th>\n",
       "      <th>crew</th>\n",
       "      <th>revenue</th>\n",
       "    </tr>\n",
       "  </thead>\n",
       "  <tbody>\n",
       "    <tr>\n",
       "      <th>0</th>\n",
       "      <td>1</td>\n",
       "      <td>[{'id': 313576, 'name': 'Hot Tub Time Machine ...</td>\n",
       "      <td>14000000</td>\n",
       "      <td>[{'id': 35, 'name': 'Comedy'}]</td>\n",
       "      <td>NaN</td>\n",
       "      <td>tt2637294</td>\n",
       "      <td>en</td>\n",
       "      <td>Hot Tub Time Machine 2</td>\n",
       "      <td>When Lou, who has become the \"father of the In...</td>\n",
       "      <td>6.575393</td>\n",
       "      <td>...</td>\n",
       "      <td>2/20/15</td>\n",
       "      <td>93.0</td>\n",
       "      <td>[{'iso_639_1': 'en', 'name': 'English'}]</td>\n",
       "      <td>Released</td>\n",
       "      <td>The Laws of Space and Time are About to be Vio...</td>\n",
       "      <td>Hot Tub Time Machine 2</td>\n",
       "      <td>[{'id': 4379, 'name': 'time travel'}, {'id': 9...</td>\n",
       "      <td>[{'cast_id': 4, 'character': 'Lou', 'credit_id...</td>\n",
       "      <td>[{'credit_id': '59ac067c92514107af02c8c8', 'de...</td>\n",
       "      <td>12314651</td>\n",
       "    </tr>\n",
       "    <tr>\n",
       "      <th>1</th>\n",
       "      <td>2</td>\n",
       "      <td>[{'id': 107674, 'name': 'The Princess Diaries ...</td>\n",
       "      <td>40000000</td>\n",
       "      <td>[{'id': 35, 'name': 'Comedy'}, {'id': 18, 'nam...</td>\n",
       "      <td>NaN</td>\n",
       "      <td>tt0368933</td>\n",
       "      <td>en</td>\n",
       "      <td>The Princess Diaries 2: Royal Engagement</td>\n",
       "      <td>Mia Thermopolis is now a college graduate and ...</td>\n",
       "      <td>8.248895</td>\n",
       "      <td>...</td>\n",
       "      <td>8/6/04</td>\n",
       "      <td>113.0</td>\n",
       "      <td>[{'iso_639_1': 'en', 'name': 'English'}]</td>\n",
       "      <td>Released</td>\n",
       "      <td>It can take a lifetime to find true love; she'...</td>\n",
       "      <td>The Princess Diaries 2: Royal Engagement</td>\n",
       "      <td>[{'id': 2505, 'name': 'coronation'}, {'id': 42...</td>\n",
       "      <td>[{'cast_id': 1, 'character': 'Mia Thermopolis'...</td>\n",
       "      <td>[{'credit_id': '52fe43fe9251416c7502563d', 'de...</td>\n",
       "      <td>95149435</td>\n",
       "    </tr>\n",
       "    <tr>\n",
       "      <th>2</th>\n",
       "      <td>3</td>\n",
       "      <td>NaN</td>\n",
       "      <td>3300000</td>\n",
       "      <td>[{'id': 18, 'name': 'Drama'}]</td>\n",
       "      <td>http://sonyclassics.com/whiplash/</td>\n",
       "      <td>tt2582802</td>\n",
       "      <td>en</td>\n",
       "      <td>Whiplash</td>\n",
       "      <td>Under the direction of a ruthless instructor, ...</td>\n",
       "      <td>64.299990</td>\n",
       "      <td>...</td>\n",
       "      <td>10/10/14</td>\n",
       "      <td>105.0</td>\n",
       "      <td>[{'iso_639_1': 'en', 'name': 'English'}]</td>\n",
       "      <td>Released</td>\n",
       "      <td>The road to greatness can take you to the edge.</td>\n",
       "      <td>Whiplash</td>\n",
       "      <td>[{'id': 1416, 'name': 'jazz'}, {'id': 1523, 'n...</td>\n",
       "      <td>[{'cast_id': 5, 'character': 'Andrew Neimann',...</td>\n",
       "      <td>[{'credit_id': '54d5356ec3a3683ba0000039', 'de...</td>\n",
       "      <td>13092000</td>\n",
       "    </tr>\n",
       "    <tr>\n",
       "      <th>3</th>\n",
       "      <td>4</td>\n",
       "      <td>NaN</td>\n",
       "      <td>1200000</td>\n",
       "      <td>[{'id': 53, 'name': 'Thriller'}, {'id': 18, 'n...</td>\n",
       "      <td>http://kahaanithefilm.com/</td>\n",
       "      <td>tt1821480</td>\n",
       "      <td>hi</td>\n",
       "      <td>Kahaani</td>\n",
       "      <td>Vidya Bagchi (Vidya Balan) arrives in Kolkata ...</td>\n",
       "      <td>3.174936</td>\n",
       "      <td>...</td>\n",
       "      <td>3/9/12</td>\n",
       "      <td>122.0</td>\n",
       "      <td>[{'iso_639_1': 'en', 'name': 'English'}, {'iso...</td>\n",
       "      <td>Released</td>\n",
       "      <td>NaN</td>\n",
       "      <td>Kahaani</td>\n",
       "      <td>[{'id': 10092, 'name': 'mystery'}, {'id': 1054...</td>\n",
       "      <td>[{'cast_id': 1, 'character': 'Vidya Bagchi', '...</td>\n",
       "      <td>[{'credit_id': '52fe48779251416c9108d6eb', 'de...</td>\n",
       "      <td>16000000</td>\n",
       "    </tr>\n",
       "    <tr>\n",
       "      <th>4</th>\n",
       "      <td>5</td>\n",
       "      <td>NaN</td>\n",
       "      <td>0</td>\n",
       "      <td>[{'id': 28, 'name': 'Action'}, {'id': 53, 'nam...</td>\n",
       "      <td>NaN</td>\n",
       "      <td>tt1380152</td>\n",
       "      <td>ko</td>\n",
       "      <td>마린보이</td>\n",
       "      <td>Marine Boy is the story of a former national s...</td>\n",
       "      <td>1.148070</td>\n",
       "      <td>...</td>\n",
       "      <td>2/5/09</td>\n",
       "      <td>118.0</td>\n",
       "      <td>[{'iso_639_1': 'ko', 'name': '한국어/조선말'}]</td>\n",
       "      <td>Released</td>\n",
       "      <td>NaN</td>\n",
       "      <td>Marine Boy</td>\n",
       "      <td>NaN</td>\n",
       "      <td>[{'cast_id': 3, 'character': 'Chun-soo', 'cred...</td>\n",
       "      <td>[{'credit_id': '52fe464b9251416c75073b43', 'de...</td>\n",
       "      <td>3923970</td>\n",
       "    </tr>\n",
       "    <tr>\n",
       "      <th>5</th>\n",
       "      <td>6</td>\n",
       "      <td>NaN</td>\n",
       "      <td>8000000</td>\n",
       "      <td>[{'id': 16, 'name': 'Animation'}, {'id': 12, '...</td>\n",
       "      <td>NaN</td>\n",
       "      <td>tt0093743</td>\n",
       "      <td>en</td>\n",
       "      <td>Pinocchio and the Emperor of the Night</td>\n",
       "      <td>Pinocchio and his friends, a glow worm and a m...</td>\n",
       "      <td>0.743274</td>\n",
       "      <td>...</td>\n",
       "      <td>8/6/87</td>\n",
       "      <td>83.0</td>\n",
       "      <td>[{'iso_639_1': 'en', 'name': 'English'}]</td>\n",
       "      <td>Released</td>\n",
       "      <td>NaN</td>\n",
       "      <td>Pinocchio and the Emperor of the Night</td>\n",
       "      <td>NaN</td>\n",
       "      <td>[{'cast_id': 6, 'character': 'Pinocchio (voice...</td>\n",
       "      <td>[{'credit_id': '52fe46f49251416c9106558b', 'de...</td>\n",
       "      <td>3261638</td>\n",
       "    </tr>\n",
       "    <tr>\n",
       "      <th>6</th>\n",
       "      <td>7</td>\n",
       "      <td>NaN</td>\n",
       "      <td>14000000</td>\n",
       "      <td>[{'id': 27, 'name': 'Horror'}, {'id': 53, 'nam...</td>\n",
       "      <td>http://www.thepossessionmovie.com/</td>\n",
       "      <td>tt0431021</td>\n",
       "      <td>en</td>\n",
       "      <td>The Possession</td>\n",
       "      <td>A young girl buys an antique box at a yard sal...</td>\n",
       "      <td>7.286477</td>\n",
       "      <td>...</td>\n",
       "      <td>8/30/12</td>\n",
       "      <td>92.0</td>\n",
       "      <td>[{'iso_639_1': 'en', 'name': 'English'}]</td>\n",
       "      <td>Released</td>\n",
       "      <td>Fear The Demon That Doesn't Fear God</td>\n",
       "      <td>The Possession</td>\n",
       "      <td>NaN</td>\n",
       "      <td>[{'cast_id': 23, 'character': 'Clyde', 'credit...</td>\n",
       "      <td>[{'credit_id': '52fe4981c3a368484e12ee29', 'de...</td>\n",
       "      <td>85446075</td>\n",
       "    </tr>\n",
       "    <tr>\n",
       "      <th>7</th>\n",
       "      <td>8</td>\n",
       "      <td>NaN</td>\n",
       "      <td>0</td>\n",
       "      <td>[{'id': 99, 'name': 'Documentary'}]</td>\n",
       "      <td>NaN</td>\n",
       "      <td>tt0391024</td>\n",
       "      <td>en</td>\n",
       "      <td>Control Room</td>\n",
       "      <td>A chronicle which provides a rare window into ...</td>\n",
       "      <td>1.949044</td>\n",
       "      <td>...</td>\n",
       "      <td>1/15/04</td>\n",
       "      <td>84.0</td>\n",
       "      <td>[{'iso_639_1': 'ar', 'name': 'العربية'}, {'iso...</td>\n",
       "      <td>Released</td>\n",
       "      <td>Different channels. Different truths.</td>\n",
       "      <td>Control Room</td>\n",
       "      <td>[{'id': 917, 'name': 'journalism'}, {'id': 163...</td>\n",
       "      <td>[{'cast_id': 2, 'character': 'Himself', 'credi...</td>\n",
       "      <td>[{'credit_id': '52fe47a69251416c750a0daf', 'de...</td>\n",
       "      <td>2586511</td>\n",
       "    </tr>\n",
       "    <tr>\n",
       "      <th>8</th>\n",
       "      <td>9</td>\n",
       "      <td>[{'id': 256377, 'name': 'The Muppet Collection...</td>\n",
       "      <td>0</td>\n",
       "      <td>[{'id': 28, 'name': 'Action'}, {'id': 35, 'nam...</td>\n",
       "      <td>NaN</td>\n",
       "      <td>tt0117110</td>\n",
       "      <td>en</td>\n",
       "      <td>Muppet Treasure Island</td>\n",
       "      <td>After telling the story of Flint's last journe...</td>\n",
       "      <td>6.902423</td>\n",
       "      <td>...</td>\n",
       "      <td>2/16/96</td>\n",
       "      <td>100.0</td>\n",
       "      <td>[{'iso_639_1': 'en', 'name': 'English'}]</td>\n",
       "      <td>Released</td>\n",
       "      <td>Set sail for Muppet mayhem!</td>\n",
       "      <td>Muppet Treasure Island</td>\n",
       "      <td>[{'id': 2041, 'name': 'island'}, {'id': 4418, ...</td>\n",
       "      <td>[{'cast_id': 1, 'character': 'Long John Silver...</td>\n",
       "      <td>[{'credit_id': '52fe43c89251416c7501deb3', 'de...</td>\n",
       "      <td>34327391</td>\n",
       "    </tr>\n",
       "    <tr>\n",
       "      <th>9</th>\n",
       "      <td>10</td>\n",
       "      <td>NaN</td>\n",
       "      <td>6000000</td>\n",
       "      <td>[{'id': 35, 'name': 'Comedy'}, {'id': 10402, '...</td>\n",
       "      <td>NaN</td>\n",
       "      <td>tt0310281</td>\n",
       "      <td>en</td>\n",
       "      <td>A Mighty Wind</td>\n",
       "      <td>In \"A Mighty Wind\", director Christopher Guest...</td>\n",
       "      <td>4.672036</td>\n",
       "      <td>...</td>\n",
       "      <td>4/16/03</td>\n",
       "      <td>91.0</td>\n",
       "      <td>[{'iso_639_1': 'en', 'name': 'English'}]</td>\n",
       "      <td>Released</td>\n",
       "      <td>Back together for the first time, again.</td>\n",
       "      <td>A Mighty Wind</td>\n",
       "      <td>[{'id': 11800, 'name': 'mockumentary'}, {'id':...</td>\n",
       "      <td>[{'cast_id': 24, 'character': 'Jonathan Steinb...</td>\n",
       "      <td>[{'credit_id': '52fe45609251416c750545b3', 'de...</td>\n",
       "      <td>18750246</td>\n",
       "    </tr>\n",
       "  </tbody>\n",
       "</table>\n",
       "<p>10 rows × 23 columns</p>\n",
       "</div>"
      ],
      "text/plain": [
       "   id                              belongs_to_collection    budget  \\\n",
       "0   1  [{'id': 313576, 'name': 'Hot Tub Time Machine ...  14000000   \n",
       "1   2  [{'id': 107674, 'name': 'The Princess Diaries ...  40000000   \n",
       "2   3                                                NaN   3300000   \n",
       "3   4                                                NaN   1200000   \n",
       "4   5                                                NaN         0   \n",
       "5   6                                                NaN   8000000   \n",
       "6   7                                                NaN  14000000   \n",
       "7   8                                                NaN         0   \n",
       "8   9  [{'id': 256377, 'name': 'The Muppet Collection...         0   \n",
       "9  10                                                NaN   6000000   \n",
       "\n",
       "                                              genres  \\\n",
       "0                     [{'id': 35, 'name': 'Comedy'}]   \n",
       "1  [{'id': 35, 'name': 'Comedy'}, {'id': 18, 'nam...   \n",
       "2                      [{'id': 18, 'name': 'Drama'}]   \n",
       "3  [{'id': 53, 'name': 'Thriller'}, {'id': 18, 'n...   \n",
       "4  [{'id': 28, 'name': 'Action'}, {'id': 53, 'nam...   \n",
       "5  [{'id': 16, 'name': 'Animation'}, {'id': 12, '...   \n",
       "6  [{'id': 27, 'name': 'Horror'}, {'id': 53, 'nam...   \n",
       "7                [{'id': 99, 'name': 'Documentary'}]   \n",
       "8  [{'id': 28, 'name': 'Action'}, {'id': 35, 'nam...   \n",
       "9  [{'id': 35, 'name': 'Comedy'}, {'id': 10402, '...   \n",
       "\n",
       "                             homepage    imdb_id original_language  \\\n",
       "0                                 NaN  tt2637294                en   \n",
       "1                                 NaN  tt0368933                en   \n",
       "2   http://sonyclassics.com/whiplash/  tt2582802                en   \n",
       "3          http://kahaanithefilm.com/  tt1821480                hi   \n",
       "4                                 NaN  tt1380152                ko   \n",
       "5                                 NaN  tt0093743                en   \n",
       "6  http://www.thepossessionmovie.com/  tt0431021                en   \n",
       "7                                 NaN  tt0391024                en   \n",
       "8                                 NaN  tt0117110                en   \n",
       "9                                 NaN  tt0310281                en   \n",
       "\n",
       "                             original_title  \\\n",
       "0                    Hot Tub Time Machine 2   \n",
       "1  The Princess Diaries 2: Royal Engagement   \n",
       "2                                  Whiplash   \n",
       "3                                   Kahaani   \n",
       "4                                      마린보이   \n",
       "5    Pinocchio and the Emperor of the Night   \n",
       "6                            The Possession   \n",
       "7                              Control Room   \n",
       "8                    Muppet Treasure Island   \n",
       "9                             A Mighty Wind   \n",
       "\n",
       "                                            overview  popularity  ...  \\\n",
       "0  When Lou, who has become the \"father of the In...    6.575393  ...   \n",
       "1  Mia Thermopolis is now a college graduate and ...    8.248895  ...   \n",
       "2  Under the direction of a ruthless instructor, ...   64.299990  ...   \n",
       "3  Vidya Bagchi (Vidya Balan) arrives in Kolkata ...    3.174936  ...   \n",
       "4  Marine Boy is the story of a former national s...    1.148070  ...   \n",
       "5  Pinocchio and his friends, a glow worm and a m...    0.743274  ...   \n",
       "6  A young girl buys an antique box at a yard sal...    7.286477  ...   \n",
       "7  A chronicle which provides a rare window into ...    1.949044  ...   \n",
       "8  After telling the story of Flint's last journe...    6.902423  ...   \n",
       "9  In \"A Mighty Wind\", director Christopher Guest...    4.672036  ...   \n",
       "\n",
       "  release_date runtime                                   spoken_languages  \\\n",
       "0      2/20/15    93.0           [{'iso_639_1': 'en', 'name': 'English'}]   \n",
       "1       8/6/04   113.0           [{'iso_639_1': 'en', 'name': 'English'}]   \n",
       "2     10/10/14   105.0           [{'iso_639_1': 'en', 'name': 'English'}]   \n",
       "3       3/9/12   122.0  [{'iso_639_1': 'en', 'name': 'English'}, {'iso...   \n",
       "4       2/5/09   118.0           [{'iso_639_1': 'ko', 'name': '한국어/조선말'}]   \n",
       "5       8/6/87    83.0           [{'iso_639_1': 'en', 'name': 'English'}]   \n",
       "6      8/30/12    92.0           [{'iso_639_1': 'en', 'name': 'English'}]   \n",
       "7      1/15/04    84.0  [{'iso_639_1': 'ar', 'name': 'العربية'}, {'iso...   \n",
       "8      2/16/96   100.0           [{'iso_639_1': 'en', 'name': 'English'}]   \n",
       "9      4/16/03    91.0           [{'iso_639_1': 'en', 'name': 'English'}]   \n",
       "\n",
       "     status                                            tagline  \\\n",
       "0  Released  The Laws of Space and Time are About to be Vio...   \n",
       "1  Released  It can take a lifetime to find true love; she'...   \n",
       "2  Released    The road to greatness can take you to the edge.   \n",
       "3  Released                                                NaN   \n",
       "4  Released                                                NaN   \n",
       "5  Released                                                NaN   \n",
       "6  Released               Fear The Demon That Doesn't Fear God   \n",
       "7  Released              Different channels. Different truths.   \n",
       "8  Released                        Set sail for Muppet mayhem!   \n",
       "9  Released           Back together for the first time, again.   \n",
       "\n",
       "                                      title  \\\n",
       "0                    Hot Tub Time Machine 2   \n",
       "1  The Princess Diaries 2: Royal Engagement   \n",
       "2                                  Whiplash   \n",
       "3                                   Kahaani   \n",
       "4                                Marine Boy   \n",
       "5    Pinocchio and the Emperor of the Night   \n",
       "6                            The Possession   \n",
       "7                              Control Room   \n",
       "8                    Muppet Treasure Island   \n",
       "9                             A Mighty Wind   \n",
       "\n",
       "                                            Keywords  \\\n",
       "0  [{'id': 4379, 'name': 'time travel'}, {'id': 9...   \n",
       "1  [{'id': 2505, 'name': 'coronation'}, {'id': 42...   \n",
       "2  [{'id': 1416, 'name': 'jazz'}, {'id': 1523, 'n...   \n",
       "3  [{'id': 10092, 'name': 'mystery'}, {'id': 1054...   \n",
       "4                                                NaN   \n",
       "5                                                NaN   \n",
       "6                                                NaN   \n",
       "7  [{'id': 917, 'name': 'journalism'}, {'id': 163...   \n",
       "8  [{'id': 2041, 'name': 'island'}, {'id': 4418, ...   \n",
       "9  [{'id': 11800, 'name': 'mockumentary'}, {'id':...   \n",
       "\n",
       "                                                cast  \\\n",
       "0  [{'cast_id': 4, 'character': 'Lou', 'credit_id...   \n",
       "1  [{'cast_id': 1, 'character': 'Mia Thermopolis'...   \n",
       "2  [{'cast_id': 5, 'character': 'Andrew Neimann',...   \n",
       "3  [{'cast_id': 1, 'character': 'Vidya Bagchi', '...   \n",
       "4  [{'cast_id': 3, 'character': 'Chun-soo', 'cred...   \n",
       "5  [{'cast_id': 6, 'character': 'Pinocchio (voice...   \n",
       "6  [{'cast_id': 23, 'character': 'Clyde', 'credit...   \n",
       "7  [{'cast_id': 2, 'character': 'Himself', 'credi...   \n",
       "8  [{'cast_id': 1, 'character': 'Long John Silver...   \n",
       "9  [{'cast_id': 24, 'character': 'Jonathan Steinb...   \n",
       "\n",
       "                                                crew   revenue  \n",
       "0  [{'credit_id': '59ac067c92514107af02c8c8', 'de...  12314651  \n",
       "1  [{'credit_id': '52fe43fe9251416c7502563d', 'de...  95149435  \n",
       "2  [{'credit_id': '54d5356ec3a3683ba0000039', 'de...  13092000  \n",
       "3  [{'credit_id': '52fe48779251416c9108d6eb', 'de...  16000000  \n",
       "4  [{'credit_id': '52fe464b9251416c75073b43', 'de...   3923970  \n",
       "5  [{'credit_id': '52fe46f49251416c9106558b', 'de...   3261638  \n",
       "6  [{'credit_id': '52fe4981c3a368484e12ee29', 'de...  85446075  \n",
       "7  [{'credit_id': '52fe47a69251416c750a0daf', 'de...   2586511  \n",
       "8  [{'credit_id': '52fe43c89251416c7501deb3', 'de...  34327391  \n",
       "9  [{'credit_id': '52fe45609251416c750545b3', 'de...  18750246  \n",
       "\n",
       "[10 rows x 23 columns]"
      ]
     },
     "execution_count": 4,
     "metadata": {},
     "output_type": "execute_result"
    }
   ],
   "source": [
    "train.head(10)"
   ]
  },
  {
   "cell_type": "code",
   "execution_count": 5,
   "id": "aeed22fa",
   "metadata": {
    "execution": {
     "iopub.execute_input": "2022-11-16T14:38:08.971626Z",
     "iopub.status.busy": "2022-11-16T14:38:08.971263Z",
     "iopub.status.idle": "2022-11-16T14:38:08.997975Z",
     "shell.execute_reply": "2022-11-16T14:38:08.996535Z"
    },
    "papermill": {
     "duration": 0.044843,
     "end_time": "2022-11-16T14:38:08.999982",
     "exception": false,
     "start_time": "2022-11-16T14:38:08.955139",
     "status": "completed"
    },
    "tags": []
   },
   "outputs": [
    {
     "name": "stdout",
     "output_type": "stream",
     "text": [
      "<class 'pandas.core.frame.DataFrame'>\n",
      "RangeIndex: 3000 entries, 0 to 2999\n",
      "Data columns (total 23 columns):\n",
      " #   Column                 Non-Null Count  Dtype  \n",
      "---  ------                 --------------  -----  \n",
      " 0   id                     3000 non-null   int64  \n",
      " 1   belongs_to_collection  604 non-null    object \n",
      " 2   budget                 3000 non-null   int64  \n",
      " 3   genres                 2993 non-null   object \n",
      " 4   homepage               946 non-null    object \n",
      " 5   imdb_id                3000 non-null   object \n",
      " 6   original_language      3000 non-null   object \n",
      " 7   original_title         3000 non-null   object \n",
      " 8   overview               2992 non-null   object \n",
      " 9   popularity             3000 non-null   float64\n",
      " 10  poster_path            2999 non-null   object \n",
      " 11  production_companies   2844 non-null   object \n",
      " 12  production_countries   2945 non-null   object \n",
      " 13  release_date           3000 non-null   object \n",
      " 14  runtime                2998 non-null   float64\n",
      " 15  spoken_languages       2980 non-null   object \n",
      " 16  status                 3000 non-null   object \n",
      " 17  tagline                2403 non-null   object \n",
      " 18  title                  3000 non-null   object \n",
      " 19  Keywords               2724 non-null   object \n",
      " 20  cast                   2987 non-null   object \n",
      " 21  crew                   2984 non-null   object \n",
      " 22  revenue                3000 non-null   int64  \n",
      "dtypes: float64(2), int64(3), object(18)\n",
      "memory usage: 539.2+ KB\n"
     ]
    }
   ],
   "source": [
    "train.info()"
   ]
  },
  {
   "cell_type": "code",
   "execution_count": 6,
   "id": "64802930",
   "metadata": {
    "execution": {
     "iopub.execute_input": "2022-11-16T14:38:09.032562Z",
     "iopub.status.busy": "2022-11-16T14:38:09.032182Z",
     "iopub.status.idle": "2022-11-16T14:38:09.120588Z",
     "shell.execute_reply": "2022-11-16T14:38:09.119489Z"
    },
    "papermill": {
     "duration": 0.107879,
     "end_time": "2022-11-16T14:38:09.122976",
     "exception": false,
     "start_time": "2022-11-16T14:38:09.015097",
     "status": "completed"
    },
    "tags": []
   },
   "outputs": [
    {
     "data": {
      "text/html": [
       "<div>\n",
       "<style scoped>\n",
       "    .dataframe tbody tr th:only-of-type {\n",
       "        vertical-align: middle;\n",
       "    }\n",
       "\n",
       "    .dataframe tbody tr th {\n",
       "        vertical-align: top;\n",
       "    }\n",
       "\n",
       "    .dataframe thead th {\n",
       "        text-align: right;\n",
       "    }\n",
       "</style>\n",
       "<table border=\"1\" class=\"dataframe\">\n",
       "  <thead>\n",
       "    <tr style=\"text-align: right;\">\n",
       "      <th></th>\n",
       "      <th>id</th>\n",
       "      <th>belongs_to_collection</th>\n",
       "      <th>budget</th>\n",
       "      <th>genres</th>\n",
       "      <th>homepage</th>\n",
       "      <th>imdb_id</th>\n",
       "      <th>original_language</th>\n",
       "      <th>original_title</th>\n",
       "      <th>overview</th>\n",
       "      <th>popularity</th>\n",
       "      <th>...</th>\n",
       "      <th>release_date</th>\n",
       "      <th>runtime</th>\n",
       "      <th>spoken_languages</th>\n",
       "      <th>status</th>\n",
       "      <th>tagline</th>\n",
       "      <th>title</th>\n",
       "      <th>Keywords</th>\n",
       "      <th>cast</th>\n",
       "      <th>crew</th>\n",
       "      <th>revenue</th>\n",
       "    </tr>\n",
       "  </thead>\n",
       "  <tbody>\n",
       "    <tr>\n",
       "      <th>count</th>\n",
       "      <td>3000.000000</td>\n",
       "      <td>604</td>\n",
       "      <td>3.000000e+03</td>\n",
       "      <td>2993</td>\n",
       "      <td>946</td>\n",
       "      <td>3000</td>\n",
       "      <td>3000</td>\n",
       "      <td>3000</td>\n",
       "      <td>2992</td>\n",
       "      <td>3000.000000</td>\n",
       "      <td>...</td>\n",
       "      <td>3000</td>\n",
       "      <td>2998.000000</td>\n",
       "      <td>2980</td>\n",
       "      <td>3000</td>\n",
       "      <td>2403</td>\n",
       "      <td>3000</td>\n",
       "      <td>2724</td>\n",
       "      <td>2987</td>\n",
       "      <td>2984</td>\n",
       "      <td>3.000000e+03</td>\n",
       "    </tr>\n",
       "    <tr>\n",
       "      <th>unique</th>\n",
       "      <td>NaN</td>\n",
       "      <td>422</td>\n",
       "      <td>NaN</td>\n",
       "      <td>872</td>\n",
       "      <td>941</td>\n",
       "      <td>3000</td>\n",
       "      <td>36</td>\n",
       "      <td>2975</td>\n",
       "      <td>2992</td>\n",
       "      <td>NaN</td>\n",
       "      <td>...</td>\n",
       "      <td>2398</td>\n",
       "      <td>NaN</td>\n",
       "      <td>401</td>\n",
       "      <td>2</td>\n",
       "      <td>2400</td>\n",
       "      <td>2969</td>\n",
       "      <td>2648</td>\n",
       "      <td>2975</td>\n",
       "      <td>2984</td>\n",
       "      <td>NaN</td>\n",
       "    </tr>\n",
       "    <tr>\n",
       "      <th>top</th>\n",
       "      <td>NaN</td>\n",
       "      <td>[{'id': 645, 'name': 'James Bond Collection', ...</td>\n",
       "      <td>NaN</td>\n",
       "      <td>[{'id': 18, 'name': 'Drama'}]</td>\n",
       "      <td>http://www.transformersmovie.com/</td>\n",
       "      <td>tt2637294</td>\n",
       "      <td>en</td>\n",
       "      <td>Joshua</td>\n",
       "      <td>When Lou, who has become the \"father of the In...</td>\n",
       "      <td>NaN</td>\n",
       "      <td>...</td>\n",
       "      <td>9/10/10</td>\n",
       "      <td>NaN</td>\n",
       "      <td>[{'iso_639_1': 'en', 'name': 'English'}]</td>\n",
       "      <td>Released</td>\n",
       "      <td>Based on a true story.</td>\n",
       "      <td>The Magnificent Seven</td>\n",
       "      <td>[{'id': 10183, 'name': 'independent film'}]</td>\n",
       "      <td>[]</td>\n",
       "      <td>[{'credit_id': '59ac067c92514107af02c8c8', 'de...</td>\n",
       "      <td>NaN</td>\n",
       "    </tr>\n",
       "    <tr>\n",
       "      <th>freq</th>\n",
       "      <td>NaN</td>\n",
       "      <td>16</td>\n",
       "      <td>NaN</td>\n",
       "      <td>266</td>\n",
       "      <td>4</td>\n",
       "      <td>1</td>\n",
       "      <td>2575</td>\n",
       "      <td>2</td>\n",
       "      <td>1</td>\n",
       "      <td>NaN</td>\n",
       "      <td>...</td>\n",
       "      <td>5</td>\n",
       "      <td>NaN</td>\n",
       "      <td>1817</td>\n",
       "      <td>2996</td>\n",
       "      <td>3</td>\n",
       "      <td>2</td>\n",
       "      <td>27</td>\n",
       "      <td>13</td>\n",
       "      <td>1</td>\n",
       "      <td>NaN</td>\n",
       "    </tr>\n",
       "    <tr>\n",
       "      <th>mean</th>\n",
       "      <td>1500.500000</td>\n",
       "      <td>NaN</td>\n",
       "      <td>2.253133e+07</td>\n",
       "      <td>NaN</td>\n",
       "      <td>NaN</td>\n",
       "      <td>NaN</td>\n",
       "      <td>NaN</td>\n",
       "      <td>NaN</td>\n",
       "      <td>NaN</td>\n",
       "      <td>8.463274</td>\n",
       "      <td>...</td>\n",
       "      <td>NaN</td>\n",
       "      <td>107.856571</td>\n",
       "      <td>NaN</td>\n",
       "      <td>NaN</td>\n",
       "      <td>NaN</td>\n",
       "      <td>NaN</td>\n",
       "      <td>NaN</td>\n",
       "      <td>NaN</td>\n",
       "      <td>NaN</td>\n",
       "      <td>6.672585e+07</td>\n",
       "    </tr>\n",
       "    <tr>\n",
       "      <th>std</th>\n",
       "      <td>866.169729</td>\n",
       "      <td>NaN</td>\n",
       "      <td>3.702609e+07</td>\n",
       "      <td>NaN</td>\n",
       "      <td>NaN</td>\n",
       "      <td>NaN</td>\n",
       "      <td>NaN</td>\n",
       "      <td>NaN</td>\n",
       "      <td>NaN</td>\n",
       "      <td>12.104000</td>\n",
       "      <td>...</td>\n",
       "      <td>NaN</td>\n",
       "      <td>22.086434</td>\n",
       "      <td>NaN</td>\n",
       "      <td>NaN</td>\n",
       "      <td>NaN</td>\n",
       "      <td>NaN</td>\n",
       "      <td>NaN</td>\n",
       "      <td>NaN</td>\n",
       "      <td>NaN</td>\n",
       "      <td>1.375323e+08</td>\n",
       "    </tr>\n",
       "    <tr>\n",
       "      <th>min</th>\n",
       "      <td>1.000000</td>\n",
       "      <td>NaN</td>\n",
       "      <td>0.000000e+00</td>\n",
       "      <td>NaN</td>\n",
       "      <td>NaN</td>\n",
       "      <td>NaN</td>\n",
       "      <td>NaN</td>\n",
       "      <td>NaN</td>\n",
       "      <td>NaN</td>\n",
       "      <td>0.000001</td>\n",
       "      <td>...</td>\n",
       "      <td>NaN</td>\n",
       "      <td>0.000000</td>\n",
       "      <td>NaN</td>\n",
       "      <td>NaN</td>\n",
       "      <td>NaN</td>\n",
       "      <td>NaN</td>\n",
       "      <td>NaN</td>\n",
       "      <td>NaN</td>\n",
       "      <td>NaN</td>\n",
       "      <td>1.000000e+00</td>\n",
       "    </tr>\n",
       "    <tr>\n",
       "      <th>25%</th>\n",
       "      <td>750.750000</td>\n",
       "      <td>NaN</td>\n",
       "      <td>0.000000e+00</td>\n",
       "      <td>NaN</td>\n",
       "      <td>NaN</td>\n",
       "      <td>NaN</td>\n",
       "      <td>NaN</td>\n",
       "      <td>NaN</td>\n",
       "      <td>NaN</td>\n",
       "      <td>4.018053</td>\n",
       "      <td>...</td>\n",
       "      <td>NaN</td>\n",
       "      <td>94.000000</td>\n",
       "      <td>NaN</td>\n",
       "      <td>NaN</td>\n",
       "      <td>NaN</td>\n",
       "      <td>NaN</td>\n",
       "      <td>NaN</td>\n",
       "      <td>NaN</td>\n",
       "      <td>NaN</td>\n",
       "      <td>2.379808e+06</td>\n",
       "    </tr>\n",
       "    <tr>\n",
       "      <th>50%</th>\n",
       "      <td>1500.500000</td>\n",
       "      <td>NaN</td>\n",
       "      <td>8.000000e+06</td>\n",
       "      <td>NaN</td>\n",
       "      <td>NaN</td>\n",
       "      <td>NaN</td>\n",
       "      <td>NaN</td>\n",
       "      <td>NaN</td>\n",
       "      <td>NaN</td>\n",
       "      <td>7.374861</td>\n",
       "      <td>...</td>\n",
       "      <td>NaN</td>\n",
       "      <td>104.000000</td>\n",
       "      <td>NaN</td>\n",
       "      <td>NaN</td>\n",
       "      <td>NaN</td>\n",
       "      <td>NaN</td>\n",
       "      <td>NaN</td>\n",
       "      <td>NaN</td>\n",
       "      <td>NaN</td>\n",
       "      <td>1.680707e+07</td>\n",
       "    </tr>\n",
       "    <tr>\n",
       "      <th>75%</th>\n",
       "      <td>2250.250000</td>\n",
       "      <td>NaN</td>\n",
       "      <td>2.900000e+07</td>\n",
       "      <td>NaN</td>\n",
       "      <td>NaN</td>\n",
       "      <td>NaN</td>\n",
       "      <td>NaN</td>\n",
       "      <td>NaN</td>\n",
       "      <td>NaN</td>\n",
       "      <td>10.890983</td>\n",
       "      <td>...</td>\n",
       "      <td>NaN</td>\n",
       "      <td>118.000000</td>\n",
       "      <td>NaN</td>\n",
       "      <td>NaN</td>\n",
       "      <td>NaN</td>\n",
       "      <td>NaN</td>\n",
       "      <td>NaN</td>\n",
       "      <td>NaN</td>\n",
       "      <td>NaN</td>\n",
       "      <td>6.891920e+07</td>\n",
       "    </tr>\n",
       "    <tr>\n",
       "      <th>max</th>\n",
       "      <td>3000.000000</td>\n",
       "      <td>NaN</td>\n",
       "      <td>3.800000e+08</td>\n",
       "      <td>NaN</td>\n",
       "      <td>NaN</td>\n",
       "      <td>NaN</td>\n",
       "      <td>NaN</td>\n",
       "      <td>NaN</td>\n",
       "      <td>NaN</td>\n",
       "      <td>294.337037</td>\n",
       "      <td>...</td>\n",
       "      <td>NaN</td>\n",
       "      <td>338.000000</td>\n",
       "      <td>NaN</td>\n",
       "      <td>NaN</td>\n",
       "      <td>NaN</td>\n",
       "      <td>NaN</td>\n",
       "      <td>NaN</td>\n",
       "      <td>NaN</td>\n",
       "      <td>NaN</td>\n",
       "      <td>1.519558e+09</td>\n",
       "    </tr>\n",
       "  </tbody>\n",
       "</table>\n",
       "<p>11 rows × 23 columns</p>\n",
       "</div>"
      ],
      "text/plain": [
       "                 id                              belongs_to_collection  \\\n",
       "count   3000.000000                                                604   \n",
       "unique          NaN                                                422   \n",
       "top             NaN  [{'id': 645, 'name': 'James Bond Collection', ...   \n",
       "freq            NaN                                                 16   \n",
       "mean    1500.500000                                                NaN   \n",
       "std      866.169729                                                NaN   \n",
       "min        1.000000                                                NaN   \n",
       "25%      750.750000                                                NaN   \n",
       "50%     1500.500000                                                NaN   \n",
       "75%     2250.250000                                                NaN   \n",
       "max     3000.000000                                                NaN   \n",
       "\n",
       "              budget                         genres  \\\n",
       "count   3.000000e+03                           2993   \n",
       "unique           NaN                            872   \n",
       "top              NaN  [{'id': 18, 'name': 'Drama'}]   \n",
       "freq             NaN                            266   \n",
       "mean    2.253133e+07                            NaN   \n",
       "std     3.702609e+07                            NaN   \n",
       "min     0.000000e+00                            NaN   \n",
       "25%     0.000000e+00                            NaN   \n",
       "50%     8.000000e+06                            NaN   \n",
       "75%     2.900000e+07                            NaN   \n",
       "max     3.800000e+08                            NaN   \n",
       "\n",
       "                                 homepage    imdb_id original_language  \\\n",
       "count                                 946       3000              3000   \n",
       "unique                                941       3000                36   \n",
       "top     http://www.transformersmovie.com/  tt2637294                en   \n",
       "freq                                    4          1              2575   \n",
       "mean                                  NaN        NaN               NaN   \n",
       "std                                   NaN        NaN               NaN   \n",
       "min                                   NaN        NaN               NaN   \n",
       "25%                                   NaN        NaN               NaN   \n",
       "50%                                   NaN        NaN               NaN   \n",
       "75%                                   NaN        NaN               NaN   \n",
       "max                                   NaN        NaN               NaN   \n",
       "\n",
       "       original_title                                           overview  \\\n",
       "count            3000                                               2992   \n",
       "unique           2975                                               2992   \n",
       "top            Joshua  When Lou, who has become the \"father of the In...   \n",
       "freq                2                                                  1   \n",
       "mean              NaN                                                NaN   \n",
       "std               NaN                                                NaN   \n",
       "min               NaN                                                NaN   \n",
       "25%               NaN                                                NaN   \n",
       "50%               NaN                                                NaN   \n",
       "75%               NaN                                                NaN   \n",
       "max               NaN                                                NaN   \n",
       "\n",
       "         popularity  ... release_date      runtime  \\\n",
       "count   3000.000000  ...         3000  2998.000000   \n",
       "unique          NaN  ...         2398          NaN   \n",
       "top             NaN  ...      9/10/10          NaN   \n",
       "freq            NaN  ...            5          NaN   \n",
       "mean       8.463274  ...          NaN   107.856571   \n",
       "std       12.104000  ...          NaN    22.086434   \n",
       "min        0.000001  ...          NaN     0.000000   \n",
       "25%        4.018053  ...          NaN    94.000000   \n",
       "50%        7.374861  ...          NaN   104.000000   \n",
       "75%       10.890983  ...          NaN   118.000000   \n",
       "max      294.337037  ...          NaN   338.000000   \n",
       "\n",
       "                                spoken_languages    status  \\\n",
       "count                                       2980      3000   \n",
       "unique                                       401         2   \n",
       "top     [{'iso_639_1': 'en', 'name': 'English'}]  Released   \n",
       "freq                                        1817      2996   \n",
       "mean                                         NaN       NaN   \n",
       "std                                          NaN       NaN   \n",
       "min                                          NaN       NaN   \n",
       "25%                                          NaN       NaN   \n",
       "50%                                          NaN       NaN   \n",
       "75%                                          NaN       NaN   \n",
       "max                                          NaN       NaN   \n",
       "\n",
       "                       tagline                  title  \\\n",
       "count                     2403                   3000   \n",
       "unique                    2400                   2969   \n",
       "top     Based on a true story.  The Magnificent Seven   \n",
       "freq                         3                      2   \n",
       "mean                       NaN                    NaN   \n",
       "std                        NaN                    NaN   \n",
       "min                        NaN                    NaN   \n",
       "25%                        NaN                    NaN   \n",
       "50%                        NaN                    NaN   \n",
       "75%                        NaN                    NaN   \n",
       "max                        NaN                    NaN   \n",
       "\n",
       "                                           Keywords  cast  \\\n",
       "count                                          2724  2987   \n",
       "unique                                         2648  2975   \n",
       "top     [{'id': 10183, 'name': 'independent film'}]    []   \n",
       "freq                                             27    13   \n",
       "mean                                            NaN   NaN   \n",
       "std                                             NaN   NaN   \n",
       "min                                             NaN   NaN   \n",
       "25%                                             NaN   NaN   \n",
       "50%                                             NaN   NaN   \n",
       "75%                                             NaN   NaN   \n",
       "max                                             NaN   NaN   \n",
       "\n",
       "                                                     crew       revenue  \n",
       "count                                                2984  3.000000e+03  \n",
       "unique                                               2984           NaN  \n",
       "top     [{'credit_id': '59ac067c92514107af02c8c8', 'de...           NaN  \n",
       "freq                                                    1           NaN  \n",
       "mean                                                  NaN  6.672585e+07  \n",
       "std                                                   NaN  1.375323e+08  \n",
       "min                                                   NaN  1.000000e+00  \n",
       "25%                                                   NaN  2.379808e+06  \n",
       "50%                                                   NaN  1.680707e+07  \n",
       "75%                                                   NaN  6.891920e+07  \n",
       "max                                                   NaN  1.519558e+09  \n",
       "\n",
       "[11 rows x 23 columns]"
      ]
     },
     "execution_count": 6,
     "metadata": {},
     "output_type": "execute_result"
    }
   ],
   "source": [
    "train.describe(include='all')"
   ]
  },
  {
   "cell_type": "code",
   "execution_count": 7,
   "id": "c7908473",
   "metadata": {
    "execution": {
     "iopub.execute_input": "2022-11-16T14:38:09.156093Z",
     "iopub.status.busy": "2022-11-16T14:38:09.155762Z",
     "iopub.status.idle": "2022-11-16T14:38:09.396674Z",
     "shell.execute_reply": "2022-11-16T14:38:09.395387Z"
    },
    "papermill": {
     "duration": 0.260895,
     "end_time": "2022-11-16T14:38:09.399731",
     "exception": false,
     "start_time": "2022-11-16T14:38:09.138836",
     "status": "completed"
    },
    "tags": []
   },
   "outputs": [
    {
     "data": {
      "text/plain": [
       "<AxesSubplot:>"
      ]
     },
     "execution_count": 7,
     "metadata": {},
     "output_type": "execute_result"
    },
    {
     "data": {
      "image/png": "[encoded data removed]",
      "text/plain": [
       "<Figure size 432x288 with 1 Axes>"
      ]
     },
     "metadata": {
      "needs_background": "light"
     },
     "output_type": "display_data"
    }
   ],
   "source": [
    "train.revenue.hist()"
   ]
  },
  {
   "cell_type": "code",
   "execution_count": 8,
   "id": "081e3de7",
   "metadata": {
    "execution": {
     "iopub.execute_input": "2022-11-16T14:38:09.433593Z",
     "iopub.status.busy": "2022-11-16T14:38:09.432976Z",
     "iopub.status.idle": "2022-11-16T14:38:09.457943Z",
     "shell.execute_reply": "2022-11-16T14:38:09.456881Z"
    },
    "papermill": {
     "duration": 0.045012,
     "end_time": "2022-11-16T14:38:09.460633",
     "exception": false,
     "start_time": "2022-11-16T14:38:09.415621",
     "status": "completed"
    },
    "tags": []
   },
   "outputs": [
    {
     "data": {
      "text/html": [
       "<div>\n",
       "<style scoped>\n",
       "    .dataframe tbody tr th:only-of-type {\n",
       "        vertical-align: middle;\n",
       "    }\n",
       "\n",
       "    .dataframe tbody tr th {\n",
       "        vertical-align: top;\n",
       "    }\n",
       "\n",
       "    .dataframe thead th {\n",
       "        text-align: right;\n",
       "    }\n",
       "</style>\n",
       "<table border=\"1\" class=\"dataframe\">\n",
       "  <thead>\n",
       "    <tr style=\"text-align: right;\">\n",
       "      <th></th>\n",
       "      <th>id</th>\n",
       "      <th>belongs_to_collection</th>\n",
       "      <th>budget</th>\n",
       "      <th>genres</th>\n",
       "      <th>homepage</th>\n",
       "      <th>imdb_id</th>\n",
       "      <th>original_language</th>\n",
       "      <th>original_title</th>\n",
       "      <th>overview</th>\n",
       "      <th>popularity</th>\n",
       "      <th>...</th>\n",
       "      <th>production_countries</th>\n",
       "      <th>release_date</th>\n",
       "      <th>runtime</th>\n",
       "      <th>spoken_languages</th>\n",
       "      <th>status</th>\n",
       "      <th>tagline</th>\n",
       "      <th>title</th>\n",
       "      <th>Keywords</th>\n",
       "      <th>cast</th>\n",
       "      <th>crew</th>\n",
       "    </tr>\n",
       "  </thead>\n",
       "  <tbody>\n",
       "    <tr>\n",
       "      <th>0</th>\n",
       "      <td>3001</td>\n",
       "      <td>[{'id': 34055, 'name': 'Pokémon Collection', '...</td>\n",
       "      <td>0</td>\n",
       "      <td>[{'id': 12, 'name': 'Adventure'}, {'id': 16, '...</td>\n",
       "      <td>http://www.pokemon.com/us/movies/movie-pokemon...</td>\n",
       "      <td>tt1226251</td>\n",
       "      <td>ja</td>\n",
       "      <td>ディアルガVSパルキアVSダークライ</td>\n",
       "      <td>Ash and friends (this time accompanied by newc...</td>\n",
       "      <td>3.851534</td>\n",
       "      <td>...</td>\n",
       "      <td>[{'iso_3166_1': 'JP', 'name': 'Japan'}, {'iso_...</td>\n",
       "      <td>7/14/07</td>\n",
       "      <td>90.0</td>\n",
       "      <td>[{'iso_639_1': 'en', 'name': 'English'}, {'iso...</td>\n",
       "      <td>Released</td>\n",
       "      <td>Somewhere Between Time &amp; Space... A Legend Is ...</td>\n",
       "      <td>Pokémon: The Rise of Darkrai</td>\n",
       "      <td>[{'id': 11451, 'name': 'pok√©mon'}, {'id': 115...</td>\n",
       "      <td>[{'cast_id': 3, 'character': 'Tonio', 'credit_...</td>\n",
       "      <td>[{'credit_id': '52fe44e7c3a368484e03d683', 'de...</td>\n",
       "    </tr>\n",
       "    <tr>\n",
       "      <th>1</th>\n",
       "      <td>3002</td>\n",
       "      <td>NaN</td>\n",
       "      <td>88000</td>\n",
       "      <td>[{'id': 27, 'name': 'Horror'}, {'id': 878, 'na...</td>\n",
       "      <td>NaN</td>\n",
       "      <td>tt0051380</td>\n",
       "      <td>en</td>\n",
       "      <td>Attack of the 50 Foot Woman</td>\n",
       "      <td>When an abused wife grows to giant size becaus...</td>\n",
       "      <td>3.559789</td>\n",
       "      <td>...</td>\n",
       "      <td>[{'iso_3166_1': 'US', 'name': 'United States o...</td>\n",
       "      <td>5/19/58</td>\n",
       "      <td>65.0</td>\n",
       "      <td>[{'iso_639_1': 'en', 'name': 'English'}]</td>\n",
       "      <td>Released</td>\n",
       "      <td>A titanic beauty spreads a macabre wave of hor...</td>\n",
       "      <td>Attack of the 50 Foot Woman</td>\n",
       "      <td>[{'id': 9748, 'name': 'revenge'}, {'id': 9951,...</td>\n",
       "      <td>[{'cast_id': 2, 'character': 'Nancy Fowler Arc...</td>\n",
       "      <td>[{'credit_id': '55807805c3a3685b1300060b', 'de...</td>\n",
       "    </tr>\n",
       "    <tr>\n",
       "      <th>2</th>\n",
       "      <td>3003</td>\n",
       "      <td>NaN</td>\n",
       "      <td>0</td>\n",
       "      <td>[{'id': 35, 'name': 'Comedy'}, {'id': 10749, '...</td>\n",
       "      <td>NaN</td>\n",
       "      <td>tt0118556</td>\n",
       "      <td>en</td>\n",
       "      <td>Addicted to Love</td>\n",
       "      <td>Good-natured astronomer Sam is devastated when...</td>\n",
       "      <td>8.085194</td>\n",
       "      <td>...</td>\n",
       "      <td>[{'iso_3166_1': 'US', 'name': 'United States o...</td>\n",
       "      <td>5/23/97</td>\n",
       "      <td>100.0</td>\n",
       "      <td>[{'iso_639_1': 'en', 'name': 'English'}]</td>\n",
       "      <td>Released</td>\n",
       "      <td>A Comedy About Lost Loves And Last Laughs</td>\n",
       "      <td>Addicted to Love</td>\n",
       "      <td>[{'id': 931, 'name': 'jealousy'}, {'id': 9673,...</td>\n",
       "      <td>[{'cast_id': 11, 'character': 'Maggie', 'credi...</td>\n",
       "      <td>[{'credit_id': '52fe4330c3a36847f8041367', 'de...</td>\n",
       "    </tr>\n",
       "    <tr>\n",
       "      <th>3</th>\n",
       "      <td>3004</td>\n",
       "      <td>NaN</td>\n",
       "      <td>6800000</td>\n",
       "      <td>[{'id': 18, 'name': 'Drama'}, {'id': 10752, 'n...</td>\n",
       "      <td>http://www.sonyclassics.com/incendies/</td>\n",
       "      <td>tt1255953</td>\n",
       "      <td>fr</td>\n",
       "      <td>Incendies</td>\n",
       "      <td>A mother's last wishes send twins Jeanne and S...</td>\n",
       "      <td>8.596012</td>\n",
       "      <td>...</td>\n",
       "      <td>[{'iso_3166_1': 'CA', 'name': 'Canada'}, {'iso...</td>\n",
       "      <td>9/4/10</td>\n",
       "      <td>130.0</td>\n",
       "      <td>[{'iso_639_1': 'fr', 'name': 'Français'}, {'is...</td>\n",
       "      <td>Released</td>\n",
       "      <td>The search began at the opening of their mothe...</td>\n",
       "      <td>Incendies</td>\n",
       "      <td>[{'id': 378, 'name': 'prison'}, {'id': 539, 'n...</td>\n",
       "      <td>[{'cast_id': 6, 'character': 'Nawal', 'credit_...</td>\n",
       "      <td>[{'credit_id': '56478092c3a36826140043af', 'de...</td>\n",
       "    </tr>\n",
       "    <tr>\n",
       "      <th>4</th>\n",
       "      <td>3005</td>\n",
       "      <td>NaN</td>\n",
       "      <td>2000000</td>\n",
       "      <td>[{'id': 36, 'name': 'History'}, {'id': 99, 'na...</td>\n",
       "      <td>NaN</td>\n",
       "      <td>tt0418753</td>\n",
       "      <td>en</td>\n",
       "      <td>Inside Deep Throat</td>\n",
       "      <td>In 1972, a seemingly typical shoestring budget...</td>\n",
       "      <td>3.217680</td>\n",
       "      <td>...</td>\n",
       "      <td>[{'iso_3166_1': 'US', 'name': 'United States o...</td>\n",
       "      <td>2/11/05</td>\n",
       "      <td>92.0</td>\n",
       "      <td>[{'iso_639_1': 'en', 'name': 'English'}]</td>\n",
       "      <td>Released</td>\n",
       "      <td>It was filmed in 6 days for 25 thousand dollar...</td>\n",
       "      <td>Inside Deep Throat</td>\n",
       "      <td>[{'id': 279, 'name': 'usa'}, {'id': 1228, 'nam...</td>\n",
       "      <td>[{'cast_id': 1, 'character': 'Narrator (voice)...</td>\n",
       "      <td>[{'credit_id': '52fe44ce9251416c75041967', 'de...</td>\n",
       "    </tr>\n",
       "  </tbody>\n",
       "</table>\n",
       "<p>5 rows × 22 columns</p>\n",
       "</div>"
      ],
      "text/plain": [
       "     id                              belongs_to_collection   budget  \\\n",
       "0  3001  [{'id': 34055, 'name': 'Pokémon Collection', '...        0   \n",
       "1  3002                                                NaN    88000   \n",
       "2  3003                                                NaN        0   \n",
       "3  3004                                                NaN  6800000   \n",
       "4  3005                                                NaN  2000000   \n",
       "\n",
       "                                              genres  \\\n",
       "0  [{'id': 12, 'name': 'Adventure'}, {'id': 16, '...   \n",
       "1  [{'id': 27, 'name': 'Horror'}, {'id': 878, 'na...   \n",
       "2  [{'id': 35, 'name': 'Comedy'}, {'id': 10749, '...   \n",
       "3  [{'id': 18, 'name': 'Drama'}, {'id': 10752, 'n...   \n",
       "4  [{'id': 36, 'name': 'History'}, {'id': 99, 'na...   \n",
       "\n",
       "                                            homepage    imdb_id  \\\n",
       "0  http://www.pokemon.com/us/movies/movie-pokemon...  tt1226251   \n",
       "1                                                NaN  tt0051380   \n",
       "2                                                NaN  tt0118556   \n",
       "3             http://www.sonyclassics.com/incendies/  tt1255953   \n",
       "4                                                NaN  tt0418753   \n",
       "\n",
       "  original_language               original_title  \\\n",
       "0                ja           ディアルガVSパルキアVSダークライ   \n",
       "1                en  Attack of the 50 Foot Woman   \n",
       "2                en             Addicted to Love   \n",
       "3                fr                    Incendies   \n",
       "4                en           Inside Deep Throat   \n",
       "\n",
       "                                            overview  popularity  ...  \\\n",
       "0  Ash and friends (this time accompanied by newc...    3.851534  ...   \n",
       "1  When an abused wife grows to giant size becaus...    3.559789  ...   \n",
       "2  Good-natured astronomer Sam is devastated when...    8.085194  ...   \n",
       "3  A mother's last wishes send twins Jeanne and S...    8.596012  ...   \n",
       "4  In 1972, a seemingly typical shoestring budget...    3.217680  ...   \n",
       "\n",
       "                                production_countries release_date runtime  \\\n",
       "0  [{'iso_3166_1': 'JP', 'name': 'Japan'}, {'iso_...      7/14/07    90.0   \n",
       "1  [{'iso_3166_1': 'US', 'name': 'United States o...      5/19/58    65.0   \n",
       "2  [{'iso_3166_1': 'US', 'name': 'United States o...      5/23/97   100.0   \n",
       "3  [{'iso_3166_1': 'CA', 'name': 'Canada'}, {'iso...       9/4/10   130.0   \n",
       "4  [{'iso_3166_1': 'US', 'name': 'United States o...      2/11/05    92.0   \n",
       "\n",
       "                                    spoken_languages    status  \\\n",
       "0  [{'iso_639_1': 'en', 'name': 'English'}, {'iso...  Released   \n",
       "1           [{'iso_639_1': 'en', 'name': 'English'}]  Released   \n",
       "2           [{'iso_639_1': 'en', 'name': 'English'}]  Released   \n",
       "3  [{'iso_639_1': 'fr', 'name': 'Français'}, {'is...  Released   \n",
       "4           [{'iso_639_1': 'en', 'name': 'English'}]  Released   \n",
       "\n",
       "                                             tagline  \\\n",
       "0  Somewhere Between Time & Space... A Legend Is ...   \n",
       "1  A titanic beauty spreads a macabre wave of hor...   \n",
       "2          A Comedy About Lost Loves And Last Laughs   \n",
       "3  The search began at the opening of their mothe...   \n",
       "4  It was filmed in 6 days for 25 thousand dollar...   \n",
       "\n",
       "                          title  \\\n",
       "0  Pokémon: The Rise of Darkrai   \n",
       "1   Attack of the 50 Foot Woman   \n",
       "2              Addicted to Love   \n",
       "3                     Incendies   \n",
       "4            Inside Deep Throat   \n",
       "\n",
       "                                            Keywords  \\\n",
       "0  [{'id': 11451, 'name': 'pok√©mon'}, {'id': 115...   \n",
       "1  [{'id': 9748, 'name': 'revenge'}, {'id': 9951,...   \n",
       "2  [{'id': 931, 'name': 'jealousy'}, {'id': 9673,...   \n",
       "3  [{'id': 378, 'name': 'prison'}, {'id': 539, 'n...   \n",
       "4  [{'id': 279, 'name': 'usa'}, {'id': 1228, 'nam...   \n",
       "\n",
       "                                                cast  \\\n",
       "0  [{'cast_id': 3, 'character': 'Tonio', 'credit_...   \n",
       "1  [{'cast_id': 2, 'character': 'Nancy Fowler Arc...   \n",
       "2  [{'cast_id': 11, 'character': 'Maggie', 'credi...   \n",
       "3  [{'cast_id': 6, 'character': 'Nawal', 'credit_...   \n",
       "4  [{'cast_id': 1, 'character': 'Narrator (voice)...   \n",
       "\n",
       "                                                crew  \n",
       "0  [{'credit_id': '52fe44e7c3a368484e03d683', 'de...  \n",
       "1  [{'credit_id': '55807805c3a3685b1300060b', 'de...  \n",
       "2  [{'credit_id': '52fe4330c3a36847f8041367', 'de...  \n",
       "3  [{'credit_id': '56478092c3a36826140043af', 'de...  \n",
       "4  [{'credit_id': '52fe44ce9251416c75041967', 'de...  \n",
       "\n",
       "[5 rows x 22 columns]"
      ]
     },
     "execution_count": 8,
     "metadata": {},
     "output_type": "execute_result"
    }
   ],
   "source": [
    "test.head()"
   ]
  },
  {
   "cell_type": "code",
   "execution_count": 9,
   "id": "d8c244d9",
   "metadata": {
    "execution": {
     "iopub.execute_input": "2022-11-16T14:38:09.494818Z",
     "iopub.status.busy": "2022-11-16T14:38:09.494449Z",
     "iopub.status.idle": "2022-11-16T14:38:09.515231Z",
     "shell.execute_reply": "2022-11-16T14:38:09.514363Z"
    },
    "papermill": {
     "duration": 0.040844,
     "end_time": "2022-11-16T14:38:09.517659",
     "exception": false,
     "start_time": "2022-11-16T14:38:09.476815",
     "status": "completed"
    },
    "tags": []
   },
   "outputs": [
    {
     "name": "stdout",
     "output_type": "stream",
     "text": [
      "<class 'pandas.core.frame.DataFrame'>\n",
      "RangeIndex: 4398 entries, 0 to 4397\n",
      "Data columns (total 22 columns):\n",
      " #   Column                 Non-Null Count  Dtype  \n",
      "---  ------                 --------------  -----  \n",
      " 0   id                     4398 non-null   int64  \n",
      " 1   belongs_to_collection  877 non-null    object \n",
      " 2   budget                 4398 non-null   int64  \n",
      " 3   genres                 4382 non-null   object \n",
      " 4   homepage               1420 non-null   object \n",
      " 5   imdb_id                4398 non-null   object \n",
      " 6   original_language      4398 non-null   object \n",
      " 7   original_title         4398 non-null   object \n",
      " 8   overview               4384 non-null   object \n",
      " 9   popularity             4398 non-null   float64\n",
      " 10  poster_path            4397 non-null   object \n",
      " 11  production_companies   4140 non-null   object \n",
      " 12  production_countries   4296 non-null   object \n",
      " 13  release_date           4397 non-null   object \n",
      " 14  runtime                4394 non-null   float64\n",
      " 15  spoken_languages       4356 non-null   object \n",
      " 16  status                 4396 non-null   object \n",
      " 17  tagline                3535 non-null   object \n",
      " 18  title                  4395 non-null   object \n",
      " 19  Keywords               4005 non-null   object \n",
      " 20  cast                   4385 non-null   object \n",
      " 21  crew                   4376 non-null   object \n",
      "dtypes: float64(2), int64(2), object(18)\n",
      "memory usage: 756.0+ KB\n"
     ]
    }
   ],
   "source": [
    "test.info()"
   ]
  },
  {
   "cell_type": "markdown",
   "id": "a7e496e0",
   "metadata": {
    "papermill": {
     "duration": 0.016223,
     "end_time": "2022-11-16T14:38:09.550551",
     "exception": false,
     "start_time": "2022-11-16T14:38:09.534328",
     "status": "completed"
    },
    "tags": []
   },
   "source": [
    "# Explore data"
   ]
  },
  {
   "cell_type": "markdown",
   "id": "a2d57577",
   "metadata": {
    "papermill": {
     "duration": 0.015886,
     "end_time": "2022-11-16T14:38:09.583614",
     "exception": false,
     "start_time": "2022-11-16T14:38:09.567728",
     "status": "completed"
    },
    "tags": []
   },
   "source": [
    "First numeric value correlation"
   ]
  },
  {
   "cell_type": "code",
   "execution_count": 10,
   "id": "b5058d67",
   "metadata": {
    "execution": {
     "iopub.execute_input": "2022-11-16T14:38:09.618263Z",
     "iopub.status.busy": "2022-11-16T14:38:09.617664Z",
     "iopub.status.idle": "2022-11-16T14:38:09.628073Z",
     "shell.execute_reply": "2022-11-16T14:38:09.626647Z"
    },
    "papermill": {
     "duration": 0.030371,
     "end_time": "2022-11-16T14:38:09.630218",
     "exception": false,
     "start_time": "2022-11-16T14:38:09.599847",
     "status": "completed"
    },
    "tags": []
   },
   "outputs": [
    {
     "data": {
      "text/plain": [
       "revenue       1.000000\n",
       "budget        0.752965\n",
       "popularity    0.461460\n",
       "runtime       0.216380\n",
       "id            0.000610\n",
       "Name: revenue, dtype: float64"
      ]
     },
     "execution_count": 10,
     "metadata": {},
     "output_type": "execute_result"
    }
   ],
   "source": [
    "corr_matrix = train.corr()\n",
    "corr_matrix[\"revenue\"].sort_values(ascending=False)"
   ]
  },
  {
   "cell_type": "markdown",
   "id": "1aaafb14",
   "metadata": {
    "papermill": {
     "duration": 0.0168,
     "end_time": "2022-11-16T14:38:09.664372",
     "exception": false,
     "start_time": "2022-11-16T14:38:09.647572",
     "status": "completed"
    },
    "tags": []
   },
   "source": [
    "Strong correlation between revenue and budget, also fairly strong between revenue and popularity. Somewhat between runtime and revenue. These numeric value correlations seem to be very important for predicting revenue and should definetly be included in the ML model."
   ]
  },
  {
   "cell_type": "markdown",
   "id": "a44c70b4",
   "metadata": {
    "papermill": {
     "duration": 0.01635,
     "end_time": "2022-11-16T14:38:09.697404",
     "exception": false,
     "start_time": "2022-11-16T14:38:09.681054",
     "status": "completed"
    },
    "tags": []
   },
   "source": [
    "There are also a lot of non numeric data that could strongly correlate to revenue. First looking at a few:\n",
    "1. genres\n",
    "2. language\n",
    "3. release date"
   ]
  },
  {
   "cell_type": "code",
   "execution_count": 11,
   "id": "57719016",
   "metadata": {
    "execution": {
     "iopub.execute_input": "2022-11-16T14:38:09.733130Z",
     "iopub.status.busy": "2022-11-16T14:38:09.732760Z",
     "iopub.status.idle": "2022-11-16T14:38:09.742959Z",
     "shell.execute_reply": "2022-11-16T14:38:09.741792Z"
    },
    "papermill": {
     "duration": 0.030643,
     "end_time": "2022-11-16T14:38:09.745293",
     "exception": false,
     "start_time": "2022-11-16T14:38:09.714650",
     "status": "completed"
    },
    "tags": []
   },
   "outputs": [
    {
     "data": {
      "text/html": [
       "<div>\n",
       "<style scoped>\n",
       "    .dataframe tbody tr th:only-of-type {\n",
       "        vertical-align: middle;\n",
       "    }\n",
       "\n",
       "    .dataframe tbody tr th {\n",
       "        vertical-align: top;\n",
       "    }\n",
       "\n",
       "    .dataframe thead th {\n",
       "        text-align: right;\n",
       "    }\n",
       "</style>\n",
       "<table border=\"1\" class=\"dataframe\">\n",
       "  <thead>\n",
       "    <tr style=\"text-align: right;\">\n",
       "      <th></th>\n",
       "      <th>genres</th>\n",
       "    </tr>\n",
       "  </thead>\n",
       "  <tbody>\n",
       "    <tr>\n",
       "      <th>0</th>\n",
       "      <td>[{'id': 35, 'name': 'Comedy'}]</td>\n",
       "    </tr>\n",
       "    <tr>\n",
       "      <th>1</th>\n",
       "      <td>[{'id': 35, 'name': 'Comedy'}, {'id': 18, 'nam...</td>\n",
       "    </tr>\n",
       "    <tr>\n",
       "      <th>2</th>\n",
       "      <td>[{'id': 18, 'name': 'Drama'}]</td>\n",
       "    </tr>\n",
       "    <tr>\n",
       "      <th>3</th>\n",
       "      <td>[{'id': 53, 'name': 'Thriller'}, {'id': 18, 'n...</td>\n",
       "    </tr>\n",
       "    <tr>\n",
       "      <th>4</th>\n",
       "      <td>[{'id': 28, 'name': 'Action'}, {'id': 53, 'nam...</td>\n",
       "    </tr>\n",
       "    <tr>\n",
       "      <th>5</th>\n",
       "      <td>[{'id': 16, 'name': 'Animation'}, {'id': 12, '...</td>\n",
       "    </tr>\n",
       "    <tr>\n",
       "      <th>6</th>\n",
       "      <td>[{'id': 27, 'name': 'Horror'}, {'id': 53, 'nam...</td>\n",
       "    </tr>\n",
       "    <tr>\n",
       "      <th>7</th>\n",
       "      <td>[{'id': 99, 'name': 'Documentary'}]</td>\n",
       "    </tr>\n",
       "    <tr>\n",
       "      <th>8</th>\n",
       "      <td>[{'id': 28, 'name': 'Action'}, {'id': 35, 'nam...</td>\n",
       "    </tr>\n",
       "    <tr>\n",
       "      <th>9</th>\n",
       "      <td>[{'id': 35, 'name': 'Comedy'}, {'id': 10402, '...</td>\n",
       "    </tr>\n",
       "  </tbody>\n",
       "</table>\n",
       "</div>"
      ],
      "text/plain": [
       "                                              genres\n",
       "0                     [{'id': 35, 'name': 'Comedy'}]\n",
       "1  [{'id': 35, 'name': 'Comedy'}, {'id': 18, 'nam...\n",
       "2                      [{'id': 18, 'name': 'Drama'}]\n",
       "3  [{'id': 53, 'name': 'Thriller'}, {'id': 18, 'n...\n",
       "4  [{'id': 28, 'name': 'Action'}, {'id': 53, 'nam...\n",
       "5  [{'id': 16, 'name': 'Animation'}, {'id': 12, '...\n",
       "6  [{'id': 27, 'name': 'Horror'}, {'id': 53, 'nam...\n",
       "7                [{'id': 99, 'name': 'Documentary'}]\n",
       "8  [{'id': 28, 'name': 'Action'}, {'id': 35, 'nam...\n",
       "9  [{'id': 35, 'name': 'Comedy'}, {'id': 10402, '..."
      ]
     },
     "execution_count": 11,
     "metadata": {},
     "output_type": "execute_result"
    }
   ],
   "source": [
    "train[[\"genres\"]].head(10)"
   ]
  },
  {
   "cell_type": "code",
   "execution_count": 12,
   "id": "55e47afa",
   "metadata": {
    "execution": {
     "iopub.execute_input": "2022-11-16T14:38:09.781140Z",
     "iopub.status.busy": "2022-11-16T14:38:09.780306Z",
     "iopub.status.idle": "2022-11-16T14:38:09.810428Z",
     "shell.execute_reply": "2022-11-16T14:38:09.809281Z"
    },
    "papermill": {
     "duration": 0.050294,
     "end_time": "2022-11-16T14:38:09.812555",
     "exception": false,
     "start_time": "2022-11-16T14:38:09.762261",
     "status": "completed"
    },
    "tags": []
   },
   "outputs": [],
   "source": [
    "one_hot = pd.get_dummies(train[\"genres\"])\n",
    "train = train.join(one_hot)"
   ]
  },
  {
   "cell_type": "code",
   "execution_count": 13,
   "id": "eeca6b71",
   "metadata": {
    "execution": {
     "iopub.execute_input": "2022-11-16T14:38:09.847920Z",
     "iopub.status.busy": "2022-11-16T14:38:09.847225Z",
     "iopub.status.idle": "2022-11-16T14:38:09.868507Z",
     "shell.execute_reply": "2022-11-16T14:38:09.867506Z"
    },
    "papermill": {
     "duration": 0.041612,
     "end_time": "2022-11-16T14:38:09.870894",
     "exception": false,
     "start_time": "2022-11-16T14:38:09.829282",
     "status": "completed"
    },
    "tags": []
   },
   "outputs": [
    {
     "data": {
      "text/html": [
       "<div>\n",
       "<style scoped>\n",
       "    .dataframe tbody tr th:only-of-type {\n",
       "        vertical-align: middle;\n",
       "    }\n",
       "\n",
       "    .dataframe tbody tr th {\n",
       "        vertical-align: top;\n",
       "    }\n",
       "\n",
       "    .dataframe thead th {\n",
       "        text-align: right;\n",
       "    }\n",
       "</style>\n",
       "<table border=\"1\" class=\"dataframe\">\n",
       "  <thead>\n",
       "    <tr style=\"text-align: right;\">\n",
       "      <th></th>\n",
       "      <th>id</th>\n",
       "      <th>belongs_to_collection</th>\n",
       "      <th>budget</th>\n",
       "      <th>genres</th>\n",
       "      <th>homepage</th>\n",
       "      <th>imdb_id</th>\n",
       "      <th>original_language</th>\n",
       "      <th>original_title</th>\n",
       "      <th>overview</th>\n",
       "      <th>popularity</th>\n",
       "      <th>...</th>\n",
       "      <th>[{'id': 99, 'name': 'Documentary'}, {'id': 10769, 'name': 'Foreign'}]</th>\n",
       "      <th>[{'id': 99, 'name': 'Documentary'}, {'id': 18, 'name': 'Drama'}, {'id': 10402, 'name': 'Music'}, {'id': 10749, 'name': 'Romance'}]</th>\n",
       "      <th>[{'id': 99, 'name': 'Documentary'}, {'id': 18, 'name': 'Drama'}, {'id': 10402, 'name': 'Music'}, {'id': 53, 'name': 'Thriller'}]</th>\n",
       "      <th>[{'id': 99, 'name': 'Documentary'}, {'id': 18, 'name': 'Drama'}, {'id': 10402, 'name': 'Music'}]</th>\n",
       "      <th>[{'id': 99, 'name': 'Documentary'}, {'id': 18, 'name': 'Drama'}]</th>\n",
       "      <th>[{'id': 99, 'name': 'Documentary'}, {'id': 27, 'name': 'Horror'}]</th>\n",
       "      <th>[{'id': 99, 'name': 'Documentary'}, {'id': 28, 'name': 'Action'}, {'id': 12, 'name': 'Adventure'}]</th>\n",
       "      <th>[{'id': 99, 'name': 'Documentary'}, {'id': 36, 'name': 'History'}]</th>\n",
       "      <th>[{'id': 99, 'name': 'Documentary'}, {'id': 80, 'name': 'Crime'}]</th>\n",
       "      <th>[{'id': 99, 'name': 'Documentary'}]</th>\n",
       "    </tr>\n",
       "  </thead>\n",
       "  <tbody>\n",
       "    <tr>\n",
       "      <th>0</th>\n",
       "      <td>1</td>\n",
       "      <td>[{'id': 313576, 'name': 'Hot Tub Time Machine ...</td>\n",
       "      <td>14000000</td>\n",
       "      <td>[{'id': 35, 'name': 'Comedy'}]</td>\n",
       "      <td>NaN</td>\n",
       "      <td>tt2637294</td>\n",
       "      <td>en</td>\n",
       "      <td>Hot Tub Time Machine 2</td>\n",
       "      <td>When Lou, who has become the \"father of the In...</td>\n",
       "      <td>6.575393</td>\n",
       "      <td>...</td>\n",
       "      <td>0</td>\n",
       "      <td>0</td>\n",
       "      <td>0</td>\n",
       "      <td>0</td>\n",
       "      <td>0</td>\n",
       "      <td>0</td>\n",
       "      <td>0</td>\n",
       "      <td>0</td>\n",
       "      <td>0</td>\n",
       "      <td>0</td>\n",
       "    </tr>\n",
       "    <tr>\n",
       "      <th>1</th>\n",
       "      <td>2</td>\n",
       "      <td>[{'id': 107674, 'name': 'The Princess Diaries ...</td>\n",
       "      <td>40000000</td>\n",
       "      <td>[{'id': 35, 'name': 'Comedy'}, {'id': 18, 'nam...</td>\n",
       "      <td>NaN</td>\n",
       "      <td>tt0368933</td>\n",
       "      <td>en</td>\n",
       "      <td>The Princess Diaries 2: Royal Engagement</td>\n",
       "      <td>Mia Thermopolis is now a college graduate and ...</td>\n",
       "      <td>8.248895</td>\n",
       "      <td>...</td>\n",
       "      <td>0</td>\n",
       "      <td>0</td>\n",
       "      <td>0</td>\n",
       "      <td>0</td>\n",
       "      <td>0</td>\n",
       "      <td>0</td>\n",
       "      <td>0</td>\n",
       "      <td>0</td>\n",
       "      <td>0</td>\n",
       "      <td>0</td>\n",
       "    </tr>\n",
       "    <tr>\n",
       "      <th>2</th>\n",
       "      <td>3</td>\n",
       "      <td>NaN</td>\n",
       "      <td>3300000</td>\n",
       "      <td>[{'id': 18, 'name': 'Drama'}]</td>\n",
       "      <td>http://sonyclassics.com/whiplash/</td>\n",
       "      <td>tt2582802</td>\n",
       "      <td>en</td>\n",
       "      <td>Whiplash</td>\n",
       "      <td>Under the direction of a ruthless instructor, ...</td>\n",
       "      <td>64.299990</td>\n",
       "      <td>...</td>\n",
       "      <td>0</td>\n",
       "      <td>0</td>\n",
       "      <td>0</td>\n",
       "      <td>0</td>\n",
       "      <td>0</td>\n",
       "      <td>0</td>\n",
       "      <td>0</td>\n",
       "      <td>0</td>\n",
       "      <td>0</td>\n",
       "      <td>0</td>\n",
       "    </tr>\n",
       "    <tr>\n",
       "      <th>3</th>\n",
       "      <td>4</td>\n",
       "      <td>NaN</td>\n",
       "      <td>1200000</td>\n",
       "      <td>[{'id': 53, 'name': 'Thriller'}, {'id': 18, 'n...</td>\n",
       "      <td>http://kahaanithefilm.com/</td>\n",
       "      <td>tt1821480</td>\n",
       "      <td>hi</td>\n",
       "      <td>Kahaani</td>\n",
       "      <td>Vidya Bagchi (Vidya Balan) arrives in Kolkata ...</td>\n",
       "      <td>3.174936</td>\n",
       "      <td>...</td>\n",
       "      <td>0</td>\n",
       "      <td>0</td>\n",
       "      <td>0</td>\n",
       "      <td>0</td>\n",
       "      <td>0</td>\n",
       "      <td>0</td>\n",
       "      <td>0</td>\n",
       "      <td>0</td>\n",
       "      <td>0</td>\n",
       "      <td>0</td>\n",
       "    </tr>\n",
       "    <tr>\n",
       "      <th>4</th>\n",
       "      <td>5</td>\n",
       "      <td>NaN</td>\n",
       "      <td>0</td>\n",
       "      <td>[{'id': 28, 'name': 'Action'}, {'id': 53, 'nam...</td>\n",
       "      <td>NaN</td>\n",
       "      <td>tt1380152</td>\n",
       "      <td>ko</td>\n",
       "      <td>마린보이</td>\n",
       "      <td>Marine Boy is the story of a former national s...</td>\n",
       "      <td>1.148070</td>\n",
       "      <td>...</td>\n",
       "      <td>0</td>\n",
       "      <td>0</td>\n",
       "      <td>0</td>\n",
       "      <td>0</td>\n",
       "      <td>0</td>\n",
       "      <td>0</td>\n",
       "      <td>0</td>\n",
       "      <td>0</td>\n",
       "      <td>0</td>\n",
       "      <td>0</td>\n",
       "    </tr>\n",
       "  </tbody>\n",
       "</table>\n",
       "<p>5 rows × 895 columns</p>\n",
       "</div>"
      ],
      "text/plain": [
       "   id                              belongs_to_collection    budget  \\\n",
       "0   1  [{'id': 313576, 'name': 'Hot Tub Time Machine ...  14000000   \n",
       "1   2  [{'id': 107674, 'name': 'The Princess Diaries ...  40000000   \n",
       "2   3                                                NaN   3300000   \n",
       "3   4                                                NaN   1200000   \n",
       "4   5                                                NaN         0   \n",
       "\n",
       "                                              genres  \\\n",
       "0                     [{'id': 35, 'name': 'Comedy'}]   \n",
       "1  [{'id': 35, 'name': 'Comedy'}, {'id': 18, 'nam...   \n",
       "2                      [{'id': 18, 'name': 'Drama'}]   \n",
       "3  [{'id': 53, 'name': 'Thriller'}, {'id': 18, 'n...   \n",
       "4  [{'id': 28, 'name': 'Action'}, {'id': 53, 'nam...   \n",
       "\n",
       "                            homepage    imdb_id original_language  \\\n",
       "0                                NaN  tt2637294                en   \n",
       "1                                NaN  tt0368933                en   \n",
       "2  http://sonyclassics.com/whiplash/  tt2582802                en   \n",
       "3         http://kahaanithefilm.com/  tt1821480                hi   \n",
       "4                                NaN  tt1380152                ko   \n",
       "\n",
       "                             original_title  \\\n",
       "0                    Hot Tub Time Machine 2   \n",
       "1  The Princess Diaries 2: Royal Engagement   \n",
       "2                                  Whiplash   \n",
       "3                                   Kahaani   \n",
       "4                                      마린보이   \n",
       "\n",
       "                                            overview  popularity  ...  \\\n",
       "0  When Lou, who has become the \"father of the In...    6.575393  ...   \n",
       "1  Mia Thermopolis is now a college graduate and ...    8.248895  ...   \n",
       "2  Under the direction of a ruthless instructor, ...   64.299990  ...   \n",
       "3  Vidya Bagchi (Vidya Balan) arrives in Kolkata ...    3.174936  ...   \n",
       "4  Marine Boy is the story of a former national s...    1.148070  ...   \n",
       "\n",
       "  [{'id': 99, 'name': 'Documentary'}, {'id': 10769, 'name': 'Foreign'}]  \\\n",
       "0                                                  0                      \n",
       "1                                                  0                      \n",
       "2                                                  0                      \n",
       "3                                                  0                      \n",
       "4                                                  0                      \n",
       "\n",
       "  [{'id': 99, 'name': 'Documentary'}, {'id': 18, 'name': 'Drama'}, {'id': 10402, 'name': 'Music'}, {'id': 10749, 'name': 'Romance'}]  \\\n",
       "0                                                  0                                                                                   \n",
       "1                                                  0                                                                                   \n",
       "2                                                  0                                                                                   \n",
       "3                                                  0                                                                                   \n",
       "4                                                  0                                                                                   \n",
       "\n",
       "  [{'id': 99, 'name': 'Documentary'}, {'id': 18, 'name': 'Drama'}, {'id': 10402, 'name': 'Music'}, {'id': 53, 'name': 'Thriller'}]  \\\n",
       "0                                                  0                                                                                 \n",
       "1                                                  0                                                                                 \n",
       "2                                                  0                                                                                 \n",
       "3                                                  0                                                                                 \n",
       "4                                                  0                                                                                 \n",
       "\n",
       "  [{'id': 99, 'name': 'Documentary'}, {'id': 18, 'name': 'Drama'}, {'id': 10402, 'name': 'Music'}]  \\\n",
       "0                                                  0                                                 \n",
       "1                                                  0                                                 \n",
       "2                                                  0                                                 \n",
       "3                                                  0                                                 \n",
       "4                                                  0                                                 \n",
       "\n",
       "   [{'id': 99, 'name': 'Documentary'}, {'id': 18, 'name': 'Drama'}]  \\\n",
       "0                                                  0                  \n",
       "1                                                  0                  \n",
       "2                                                  0                  \n",
       "3                                                  0                  \n",
       "4                                                  0                  \n",
       "\n",
       "  [{'id': 99, 'name': 'Documentary'}, {'id': 27, 'name': 'Horror'}]  \\\n",
       "0                                                  0                  \n",
       "1                                                  0                  \n",
       "2                                                  0                  \n",
       "3                                                  0                  \n",
       "4                                                  0                  \n",
       "\n",
       "  [{'id': 99, 'name': 'Documentary'}, {'id': 28, 'name': 'Action'}, {'id': 12, 'name': 'Adventure'}]  \\\n",
       "0                                                  0                                                   \n",
       "1                                                  0                                                   \n",
       "2                                                  0                                                   \n",
       "3                                                  0                                                   \n",
       "4                                                  0                                                   \n",
       "\n",
       "  [{'id': 99, 'name': 'Documentary'}, {'id': 36, 'name': 'History'}]  \\\n",
       "0                                                  0                   \n",
       "1                                                  0                   \n",
       "2                                                  0                   \n",
       "3                                                  0                   \n",
       "4                                                  0                   \n",
       "\n",
       "  [{'id': 99, 'name': 'Documentary'}, {'id': 80, 'name': 'Crime'}]  \\\n",
       "0                                                  0                 \n",
       "1                                                  0                 \n",
       "2                                                  0                 \n",
       "3                                                  0                 \n",
       "4                                                  0                 \n",
       "\n",
       "  [{'id': 99, 'name': 'Documentary'}]  \n",
       "0                                   0  \n",
       "1                                   0  \n",
       "2                                   0  \n",
       "3                                   0  \n",
       "4                                   0  \n",
       "\n",
       "[5 rows x 895 columns]"
      ]
     },
     "execution_count": 13,
     "metadata": {},
     "output_type": "execute_result"
    }
   ],
   "source": [
    "train.head()"
   ]
  },
  {
   "cell_type": "code",
   "execution_count": 14,
   "id": "992019df",
   "metadata": {
    "execution": {
     "iopub.execute_input": "2022-11-16T14:38:09.907644Z",
     "iopub.status.busy": "2022-11-16T14:38:09.907224Z",
     "iopub.status.idle": "2022-11-16T14:38:13.885960Z",
     "shell.execute_reply": "2022-11-16T14:38:13.884283Z"
    },
    "papermill": {
     "duration": 3.99959,
     "end_time": "2022-11-16T14:38:13.888446",
     "exception": false,
     "start_time": "2022-11-16T14:38:09.888856",
     "status": "completed"
    },
    "tags": []
   },
   "outputs": [
    {
     "data": {
      "text/plain": [
       "revenue                                                                                           1.000000\n",
       "budget                                                                                            0.752965\n",
       "popularity                                                                                        0.461460\n",
       "[{'id': 12, 'name': 'Adventure'}, {'id': 14, 'name': 'Fantasy'}, {'id': 28, 'name': 'Action'}]    0.224326\n",
       "runtime                                                                                           0.216380\n",
       "                                                                                                    ...   \n",
       "[{'id': 80, 'name': 'Crime'}, {'id': 18, 'name': 'Drama'}]                                       -0.038270\n",
       "[{'id': 35, 'name': 'Comedy'}, {'id': 18, 'name': 'Drama'}]                                      -0.048042\n",
       "[{'id': 99, 'name': 'Documentary'}]                                                              -0.055960\n",
       "[{'id': 18, 'name': 'Drama'}, {'id': 10749, 'name': 'Romance'}]                                  -0.056284\n",
       "[{'id': 18, 'name': 'Drama'}]                                                                    -0.080919\n",
       "Name: revenue, Length: 877, dtype: float64"
      ]
     },
     "execution_count": 14,
     "metadata": {},
     "output_type": "execute_result"
    }
   ],
   "source": [
    "corr_matrix = train.corr()\n",
    "corr_matrix[\"revenue\"].sort_values(ascending=False)"
   ]
  },
  {
   "cell_type": "markdown",
   "id": "81143d19",
   "metadata": {
    "papermill": {
     "duration": 0.017051,
     "end_time": "2022-11-16T14:38:13.922748",
     "exception": false,
     "start_time": "2022-11-16T14:38:13.905697",
     "status": "completed"
    },
    "tags": []
   },
   "source": [
    "Every genre has a very weak correlation, therefore not exploring this data any deeper. Reset train dataframe"
   ]
  },
  {
   "cell_type": "code",
   "execution_count": 15,
   "id": "c70584de",
   "metadata": {
    "execution": {
     "iopub.execute_input": "2022-11-16T14:38:13.958908Z",
     "iopub.status.busy": "2022-11-16T14:38:13.958540Z",
     "iopub.status.idle": "2022-11-16T14:38:14.229499Z",
     "shell.execute_reply": "2022-11-16T14:38:14.228170Z"
    },
    "papermill": {
     "duration": 0.292586,
     "end_time": "2022-11-16T14:38:14.232502",
     "exception": false,
     "start_time": "2022-11-16T14:38:13.939916",
     "status": "completed"
    },
    "tags": []
   },
   "outputs": [],
   "source": [
    "train = pd.read_csv(DATA/'train.csv')"
   ]
  },
  {
   "cell_type": "markdown",
   "id": "55a16edf",
   "metadata": {
    "papermill": {
     "duration": 0.016903,
     "end_time": "2022-11-16T14:38:14.266680",
     "exception": false,
     "start_time": "2022-11-16T14:38:14.249777",
     "status": "completed"
    },
    "tags": []
   },
   "source": [
    "Exploring language"
   ]
  },
  {
   "cell_type": "code",
   "execution_count": 16,
   "id": "92581d57",
   "metadata": {
    "execution": {
     "iopub.execute_input": "2022-11-16T14:38:14.302535Z",
     "iopub.status.busy": "2022-11-16T14:38:14.302139Z",
     "iopub.status.idle": "2022-11-16T14:38:14.311904Z",
     "shell.execute_reply": "2022-11-16T14:38:14.310475Z"
    },
    "papermill": {
     "duration": 0.029892,
     "end_time": "2022-11-16T14:38:14.313813",
     "exception": false,
     "start_time": "2022-11-16T14:38:14.283921",
     "status": "completed"
    },
    "tags": []
   },
   "outputs": [
    {
     "data": {
      "text/html": [
       "<div>\n",
       "<style scoped>\n",
       "    .dataframe tbody tr th:only-of-type {\n",
       "        vertical-align: middle;\n",
       "    }\n",
       "\n",
       "    .dataframe tbody tr th {\n",
       "        vertical-align: top;\n",
       "    }\n",
       "\n",
       "    .dataframe thead th {\n",
       "        text-align: right;\n",
       "    }\n",
       "</style>\n",
       "<table border=\"1\" class=\"dataframe\">\n",
       "  <thead>\n",
       "    <tr style=\"text-align: right;\">\n",
       "      <th></th>\n",
       "      <th>original_language</th>\n",
       "    </tr>\n",
       "  </thead>\n",
       "  <tbody>\n",
       "    <tr>\n",
       "      <th>0</th>\n",
       "      <td>en</td>\n",
       "    </tr>\n",
       "    <tr>\n",
       "      <th>1</th>\n",
       "      <td>en</td>\n",
       "    </tr>\n",
       "    <tr>\n",
       "      <th>2</th>\n",
       "      <td>en</td>\n",
       "    </tr>\n",
       "    <tr>\n",
       "      <th>3</th>\n",
       "      <td>hi</td>\n",
       "    </tr>\n",
       "    <tr>\n",
       "      <th>4</th>\n",
       "      <td>ko</td>\n",
       "    </tr>\n",
       "  </tbody>\n",
       "</table>\n",
       "</div>"
      ],
      "text/plain": [
       "  original_language\n",
       "0                en\n",
       "1                en\n",
       "2                en\n",
       "3                hi\n",
       "4                ko"
      ]
     },
     "execution_count": 16,
     "metadata": {},
     "output_type": "execute_result"
    }
   ],
   "source": [
    "train[[\"original_language\"]].head()"
   ]
  },
  {
   "cell_type": "code",
   "execution_count": 17,
   "id": "147384e4",
   "metadata": {
    "execution": {
     "iopub.execute_input": "2022-11-16T14:38:14.349606Z",
     "iopub.status.busy": "2022-11-16T14:38:14.349026Z",
     "iopub.status.idle": "2022-11-16T14:38:14.363024Z",
     "shell.execute_reply": "2022-11-16T14:38:14.362201Z"
    },
    "papermill": {
     "duration": 0.034462,
     "end_time": "2022-11-16T14:38:14.365374",
     "exception": false,
     "start_time": "2022-11-16T14:38:14.330912",
     "status": "completed"
    },
    "tags": []
   },
   "outputs": [],
   "source": [
    "one_hot = pd.get_dummies(train[\"original_language\"])\n",
    "train = train.join(one_hot, on=\"id\", how='left', lsuffix='_left', rsuffix='_right')"
   ]
  },
  {
   "cell_type": "code",
   "execution_count": 18,
   "id": "07be8a47",
   "metadata": {
    "execution": {
     "iopub.execute_input": "2022-11-16T14:38:14.401070Z",
     "iopub.status.busy": "2022-11-16T14:38:14.400699Z",
     "iopub.status.idle": "2022-11-16T14:38:14.425055Z",
     "shell.execute_reply": "2022-11-16T14:38:14.424403Z"
    },
    "papermill": {
     "duration": 0.044139,
     "end_time": "2022-11-16T14:38:14.426762",
     "exception": false,
     "start_time": "2022-11-16T14:38:14.382623",
     "status": "completed"
    },
    "tags": []
   },
   "outputs": [
    {
     "data": {
      "text/html": [
       "<div>\n",
       "<style scoped>\n",
       "    .dataframe tbody tr th:only-of-type {\n",
       "        vertical-align: middle;\n",
       "    }\n",
       "\n",
       "    .dataframe tbody tr th {\n",
       "        vertical-align: top;\n",
       "    }\n",
       "\n",
       "    .dataframe thead th {\n",
       "        text-align: right;\n",
       "    }\n",
       "</style>\n",
       "<table border=\"1\" class=\"dataframe\">\n",
       "  <thead>\n",
       "    <tr style=\"text-align: right;\">\n",
       "      <th></th>\n",
       "      <th>id_left</th>\n",
       "      <th>belongs_to_collection</th>\n",
       "      <th>budget</th>\n",
       "      <th>genres</th>\n",
       "      <th>homepage</th>\n",
       "      <th>imdb_id</th>\n",
       "      <th>original_language</th>\n",
       "      <th>original_title</th>\n",
       "      <th>overview</th>\n",
       "      <th>popularity</th>\n",
       "      <th>...</th>\n",
       "      <th>ro</th>\n",
       "      <th>ru</th>\n",
       "      <th>sr</th>\n",
       "      <th>sv</th>\n",
       "      <th>ta</th>\n",
       "      <th>te</th>\n",
       "      <th>tr</th>\n",
       "      <th>ur</th>\n",
       "      <th>vi</th>\n",
       "      <th>zh</th>\n",
       "    </tr>\n",
       "  </thead>\n",
       "  <tbody>\n",
       "    <tr>\n",
       "      <th>0</th>\n",
       "      <td>1</td>\n",
       "      <td>[{'id': 313576, 'name': 'Hot Tub Time Machine ...</td>\n",
       "      <td>14000000</td>\n",
       "      <td>[{'id': 35, 'name': 'Comedy'}]</td>\n",
       "      <td>NaN</td>\n",
       "      <td>tt2637294</td>\n",
       "      <td>en</td>\n",
       "      <td>Hot Tub Time Machine 2</td>\n",
       "      <td>When Lou, who has become the \"father of the In...</td>\n",
       "      <td>6.575393</td>\n",
       "      <td>...</td>\n",
       "      <td>0.0</td>\n",
       "      <td>0.0</td>\n",
       "      <td>0.0</td>\n",
       "      <td>0.0</td>\n",
       "      <td>0.0</td>\n",
       "      <td>0.0</td>\n",
       "      <td>0.0</td>\n",
       "      <td>0.0</td>\n",
       "      <td>0.0</td>\n",
       "      <td>0.0</td>\n",
       "    </tr>\n",
       "    <tr>\n",
       "      <th>1</th>\n",
       "      <td>2</td>\n",
       "      <td>[{'id': 107674, 'name': 'The Princess Diaries ...</td>\n",
       "      <td>40000000</td>\n",
       "      <td>[{'id': 35, 'name': 'Comedy'}, {'id': 18, 'nam...</td>\n",
       "      <td>NaN</td>\n",
       "      <td>tt0368933</td>\n",
       "      <td>en</td>\n",
       "      <td>The Princess Diaries 2: Royal Engagement</td>\n",
       "      <td>Mia Thermopolis is now a college graduate and ...</td>\n",
       "      <td>8.248895</td>\n",
       "      <td>...</td>\n",
       "      <td>0.0</td>\n",
       "      <td>0.0</td>\n",
       "      <td>0.0</td>\n",
       "      <td>0.0</td>\n",
       "      <td>0.0</td>\n",
       "      <td>0.0</td>\n",
       "      <td>0.0</td>\n",
       "      <td>0.0</td>\n",
       "      <td>0.0</td>\n",
       "      <td>0.0</td>\n",
       "    </tr>\n",
       "    <tr>\n",
       "      <th>2</th>\n",
       "      <td>3</td>\n",
       "      <td>NaN</td>\n",
       "      <td>3300000</td>\n",
       "      <td>[{'id': 18, 'name': 'Drama'}]</td>\n",
       "      <td>http://sonyclassics.com/whiplash/</td>\n",
       "      <td>tt2582802</td>\n",
       "      <td>en</td>\n",
       "      <td>Whiplash</td>\n",
       "      <td>Under the direction of a ruthless instructor, ...</td>\n",
       "      <td>64.299990</td>\n",
       "      <td>...</td>\n",
       "      <td>0.0</td>\n",
       "      <td>0.0</td>\n",
       "      <td>0.0</td>\n",
       "      <td>0.0</td>\n",
       "      <td>0.0</td>\n",
       "      <td>0.0</td>\n",
       "      <td>0.0</td>\n",
       "      <td>0.0</td>\n",
       "      <td>0.0</td>\n",
       "      <td>0.0</td>\n",
       "    </tr>\n",
       "    <tr>\n",
       "      <th>3</th>\n",
       "      <td>4</td>\n",
       "      <td>NaN</td>\n",
       "      <td>1200000</td>\n",
       "      <td>[{'id': 53, 'name': 'Thriller'}, {'id': 18, 'n...</td>\n",
       "      <td>http://kahaanithefilm.com/</td>\n",
       "      <td>tt1821480</td>\n",
       "      <td>hi</td>\n",
       "      <td>Kahaani</td>\n",
       "      <td>Vidya Bagchi (Vidya Balan) arrives in Kolkata ...</td>\n",
       "      <td>3.174936</td>\n",
       "      <td>...</td>\n",
       "      <td>0.0</td>\n",
       "      <td>0.0</td>\n",
       "      <td>0.0</td>\n",
       "      <td>0.0</td>\n",
       "      <td>0.0</td>\n",
       "      <td>0.0</td>\n",
       "      <td>0.0</td>\n",
       "      <td>0.0</td>\n",
       "      <td>0.0</td>\n",
       "      <td>0.0</td>\n",
       "    </tr>\n",
       "    <tr>\n",
       "      <th>4</th>\n",
       "      <td>5</td>\n",
       "      <td>NaN</td>\n",
       "      <td>0</td>\n",
       "      <td>[{'id': 28, 'name': 'Action'}, {'id': 53, 'nam...</td>\n",
       "      <td>NaN</td>\n",
       "      <td>tt1380152</td>\n",
       "      <td>ko</td>\n",
       "      <td>마린보이</td>\n",
       "      <td>Marine Boy is the story of a former national s...</td>\n",
       "      <td>1.148070</td>\n",
       "      <td>...</td>\n",
       "      <td>0.0</td>\n",
       "      <td>0.0</td>\n",
       "      <td>0.0</td>\n",
       "      <td>0.0</td>\n",
       "      <td>0.0</td>\n",
       "      <td>0.0</td>\n",
       "      <td>0.0</td>\n",
       "      <td>0.0</td>\n",
       "      <td>0.0</td>\n",
       "      <td>0.0</td>\n",
       "    </tr>\n",
       "  </tbody>\n",
       "</table>\n",
       "<p>5 rows × 59 columns</p>\n",
       "</div>"
      ],
      "text/plain": [
       "   id_left                              belongs_to_collection    budget  \\\n",
       "0        1  [{'id': 313576, 'name': 'Hot Tub Time Machine ...  14000000   \n",
       "1        2  [{'id': 107674, 'name': 'The Princess Diaries ...  40000000   \n",
       "2        3                                                NaN   3300000   \n",
       "3        4                                                NaN   1200000   \n",
       "4        5                                                NaN         0   \n",
       "\n",
       "                                              genres  \\\n",
       "0                     [{'id': 35, 'name': 'Comedy'}]   \n",
       "1  [{'id': 35, 'name': 'Comedy'}, {'id': 18, 'nam...   \n",
       "2                      [{'id': 18, 'name': 'Drama'}]   \n",
       "3  [{'id': 53, 'name': 'Thriller'}, {'id': 18, 'n...   \n",
       "4  [{'id': 28, 'name': 'Action'}, {'id': 53, 'nam...   \n",
       "\n",
       "                            homepage    imdb_id original_language  \\\n",
       "0                                NaN  tt2637294                en   \n",
       "1                                NaN  tt0368933                en   \n",
       "2  http://sonyclassics.com/whiplash/  tt2582802                en   \n",
       "3         http://kahaanithefilm.com/  tt1821480                hi   \n",
       "4                                NaN  tt1380152                ko   \n",
       "\n",
       "                             original_title  \\\n",
       "0                    Hot Tub Time Machine 2   \n",
       "1  The Princess Diaries 2: Royal Engagement   \n",
       "2                                  Whiplash   \n",
       "3                                   Kahaani   \n",
       "4                                      마린보이   \n",
       "\n",
       "                                            overview  popularity  ...   ro  \\\n",
       "0  When Lou, who has become the \"father of the In...    6.575393  ...  0.0   \n",
       "1  Mia Thermopolis is now a college graduate and ...    8.248895  ...  0.0   \n",
       "2  Under the direction of a ruthless instructor, ...   64.299990  ...  0.0   \n",
       "3  Vidya Bagchi (Vidya Balan) arrives in Kolkata ...    3.174936  ...  0.0   \n",
       "4  Marine Boy is the story of a former national s...    1.148070  ...  0.0   \n",
       "\n",
       "    ru   sr   sv   ta   te   tr   ur   vi   zh  \n",
       "0  0.0  0.0  0.0  0.0  0.0  0.0  0.0  0.0  0.0  \n",
       "1  0.0  0.0  0.0  0.0  0.0  0.0  0.0  0.0  0.0  \n",
       "2  0.0  0.0  0.0  0.0  0.0  0.0  0.0  0.0  0.0  \n",
       "3  0.0  0.0  0.0  0.0  0.0  0.0  0.0  0.0  0.0  \n",
       "4  0.0  0.0  0.0  0.0  0.0  0.0  0.0  0.0  0.0  \n",
       "\n",
       "[5 rows x 59 columns]"
      ]
     },
     "execution_count": 18,
     "metadata": {},
     "output_type": "execute_result"
    }
   ],
   "source": [
    "train.head()"
   ]
  },
  {
   "cell_type": "code",
   "execution_count": 19,
   "id": "73970d0d",
   "metadata": {
    "execution": {
     "iopub.execute_input": "2022-11-16T14:38:14.463701Z",
     "iopub.status.busy": "2022-11-16T14:38:14.462694Z",
     "iopub.status.idle": "2022-11-16T14:38:14.481097Z",
     "shell.execute_reply": "2022-11-16T14:38:14.480398Z"
    },
    "papermill": {
     "duration": 0.038946,
     "end_time": "2022-11-16T14:38:14.483145",
     "exception": false,
     "start_time": "2022-11-16T14:38:14.444199",
     "status": "completed"
    },
    "tags": []
   },
   "outputs": [
    {
     "data": {
      "text/plain": [
       "revenue       1.000000\n",
       "budget        0.752965\n",
       "popularity    0.461460\n",
       "runtime       0.216380\n",
       "sr            0.038730\n",
       "fr            0.037160\n",
       "mr            0.032306\n",
       "ml            0.028106\n",
       "da            0.019845\n",
       "ru            0.009843\n",
       "en            0.006367\n",
       "bn            0.004840\n",
       "hi            0.004472\n",
       "ro            0.003457\n",
       "vi            0.002913\n",
       "id_left       0.000610\n",
       "pt            0.000409\n",
       "de            0.000195\n",
       "ur           -0.001052\n",
       "it           -0.003250\n",
       "fa           -0.003464\n",
       "nl           -0.003979\n",
       "sv           -0.004288\n",
       "ja           -0.005078\n",
       "he           -0.006057\n",
       "el           -0.007605\n",
       "cs           -0.007762\n",
       "ar           -0.007785\n",
       "tr           -0.007963\n",
       "nb           -0.008458\n",
       "pl           -0.008468\n",
       "fi           -0.008770\n",
       "id_right     -0.008808\n",
       "no           -0.009547\n",
       "ko           -0.010790\n",
       "te           -0.011490\n",
       "hu           -0.014510\n",
       "ta           -0.016646\n",
       "es           -0.020364\n",
       "zh           -0.025804\n",
       "cn           -0.030720\n",
       "Name: revenue, dtype: float64"
      ]
     },
     "execution_count": 19,
     "metadata": {},
     "output_type": "execute_result"
    }
   ],
   "source": [
    "corr_matrix = train.corr()\n",
    "corr_matrix[\"revenue\"].sort_values(ascending=False)"
   ]
  },
  {
   "cell_type": "markdown",
   "id": "90e51d41",
   "metadata": {
    "papermill": {
     "duration": 0.017087,
     "end_time": "2022-11-16T14:38:14.517867",
     "exception": false,
     "start_time": "2022-11-16T14:38:14.500780",
     "status": "completed"
    },
    "tags": []
   },
   "source": [
    "Original language correlation"
   ]
  },
  {
   "cell_type": "code",
   "execution_count": 20,
   "id": "e619ffc7",
   "metadata": {
    "execution": {
     "iopub.execute_input": "2022-11-16T14:38:14.554361Z",
     "iopub.status.busy": "2022-11-16T14:38:14.553845Z",
     "iopub.status.idle": "2022-11-16T14:38:14.572080Z",
     "shell.execute_reply": "2022-11-16T14:38:14.571246Z"
    },
    "papermill": {
     "duration": 0.038793,
     "end_time": "2022-11-16T14:38:14.573898",
     "exception": false,
     "start_time": "2022-11-16T14:38:14.535105",
     "status": "completed"
    },
    "tags": []
   },
   "outputs": [
    {
     "data": {
      "text/plain": [
       "revenue       1.000000\n",
       "budget        0.752965\n",
       "popularity    0.461460\n",
       "runtime       0.216380\n",
       "sr            0.038730\n",
       "fr            0.037160\n",
       "mr            0.032306\n",
       "ml            0.028106\n",
       "da            0.019845\n",
       "ru            0.009843\n",
       "en            0.006367\n",
       "bn            0.004840\n",
       "hi            0.004472\n",
       "ro            0.003457\n",
       "vi            0.002913\n",
       "id_left       0.000610\n",
       "pt            0.000409\n",
       "de            0.000195\n",
       "ur           -0.001052\n",
       "it           -0.003250\n",
       "fa           -0.003464\n",
       "nl           -0.003979\n",
       "sv           -0.004288\n",
       "ja           -0.005078\n",
       "he           -0.006057\n",
       "el           -0.007605\n",
       "cs           -0.007762\n",
       "ar           -0.007785\n",
       "tr           -0.007963\n",
       "nb           -0.008458\n",
       "pl           -0.008468\n",
       "fi           -0.008770\n",
       "id_right     -0.008808\n",
       "no           -0.009547\n",
       "ko           -0.010790\n",
       "te           -0.011490\n",
       "hu           -0.014510\n",
       "ta           -0.016646\n",
       "es           -0.020364\n",
       "zh           -0.025804\n",
       "cn           -0.030720\n",
       "Name: revenue, dtype: float64"
      ]
     },
     "execution_count": 20,
     "metadata": {},
     "output_type": "execute_result"
    }
   ],
   "source": [
    "corr_matrix = train.corr()\n",
    "corr_matrix[\"revenue\"].sort_values(ascending=False)"
   ]
  },
  {
   "cell_type": "markdown",
   "id": "453f6a29",
   "metadata": {
    "papermill": {
     "duration": 0.016964,
     "end_time": "2022-11-16T14:38:14.608293",
     "exception": false,
     "start_time": "2022-11-16T14:38:14.591329",
     "status": "completed"
    },
    "tags": []
   },
   "source": [
    "Exploring if only english or not has correlation"
   ]
  },
  {
   "cell_type": "code",
   "execution_count": 21,
   "id": "710d2d43",
   "metadata": {
    "execution": {
     "iopub.execute_input": "2022-11-16T14:38:14.646703Z",
     "iopub.status.busy": "2022-11-16T14:38:14.646130Z",
     "iopub.status.idle": "2022-11-16T14:38:14.915687Z",
     "shell.execute_reply": "2022-11-16T14:38:14.914495Z"
    },
    "papermill": {
     "duration": 0.292446,
     "end_time": "2022-11-16T14:38:14.918244",
     "exception": false,
     "start_time": "2022-11-16T14:38:14.625798",
     "status": "completed"
    },
    "tags": []
   },
   "outputs": [],
   "source": [
    "train = pd.read_csv(DATA/'train.csv')"
   ]
  },
  {
   "cell_type": "code",
   "execution_count": 22,
   "id": "ab10d834",
   "metadata": {
    "execution": {
     "iopub.execute_input": "2022-11-16T14:38:14.956152Z",
     "iopub.status.busy": "2022-11-16T14:38:14.955761Z",
     "iopub.status.idle": "2022-11-16T14:38:14.962444Z",
     "shell.execute_reply": "2022-11-16T14:38:14.961406Z"
    },
    "papermill": {
     "duration": 0.028212,
     "end_time": "2022-11-16T14:38:14.965057",
     "exception": false,
     "start_time": "2022-11-16T14:38:14.936845",
     "status": "completed"
    },
    "tags": []
   },
   "outputs": [],
   "source": [
    "train['is_english'] = np.where(train['original_language']=='en', 1, 0)"
   ]
  },
  {
   "cell_type": "code",
   "execution_count": 23,
   "id": "96ba8bb5",
   "metadata": {
    "execution": {
     "iopub.execute_input": "2022-11-16T14:38:15.004702Z",
     "iopub.status.busy": "2022-11-16T14:38:15.003854Z",
     "iopub.status.idle": "2022-11-16T14:38:15.012371Z",
     "shell.execute_reply": "2022-11-16T14:38:15.011255Z"
    },
    "papermill": {
     "duration": 0.030856,
     "end_time": "2022-11-16T14:38:15.014167",
     "exception": false,
     "start_time": "2022-11-16T14:38:14.983311",
     "status": "completed"
    },
    "tags": []
   },
   "outputs": [
    {
     "data": {
      "text/plain": [
       "revenue       1.000000\n",
       "budget        0.752965\n",
       "popularity    0.461460\n",
       "runtime       0.216380\n",
       "is_english    0.142130\n",
       "id            0.000610\n",
       "Name: revenue, dtype: float64"
      ]
     },
     "execution_count": 23,
     "metadata": {},
     "output_type": "execute_result"
    }
   ],
   "source": [
    "corr_matrix = train.corr()\n",
    "corr_matrix[\"revenue\"].sort_values(ascending=False)"
   ]
  },
  {
   "cell_type": "markdown",
   "id": "87abff12",
   "metadata": {
    "papermill": {
     "duration": 0.01755,
     "end_time": "2022-11-16T14:38:15.049430",
     "exception": false,
     "start_time": "2022-11-16T14:38:15.031880",
     "status": "completed"
    },
    "tags": []
   },
   "source": [
    "All languages seem to have no significant correlation to revenue. However, if it is in english or not has a much stronger correlation.\n",
    "\n",
    "Exploring release date"
   ]
  },
  {
   "cell_type": "code",
   "execution_count": 24,
   "id": "9ea66b7d",
   "metadata": {
    "execution": {
     "iopub.execute_input": "2022-11-16T14:38:15.086713Z",
     "iopub.status.busy": "2022-11-16T14:38:15.086270Z",
     "iopub.status.idle": "2022-11-16T14:38:15.096055Z",
     "shell.execute_reply": "2022-11-16T14:38:15.094772Z"
    },
    "papermill": {
     "duration": 0.031045,
     "end_time": "2022-11-16T14:38:15.097951",
     "exception": false,
     "start_time": "2022-11-16T14:38:15.066906",
     "status": "completed"
    },
    "tags": []
   },
   "outputs": [
    {
     "data": {
      "text/html": [
       "<div>\n",
       "<style scoped>\n",
       "    .dataframe tbody tr th:only-of-type {\n",
       "        vertical-align: middle;\n",
       "    }\n",
       "\n",
       "    .dataframe tbody tr th {\n",
       "        vertical-align: top;\n",
       "    }\n",
       "\n",
       "    .dataframe thead th {\n",
       "        text-align: right;\n",
       "    }\n",
       "</style>\n",
       "<table border=\"1\" class=\"dataframe\">\n",
       "  <thead>\n",
       "    <tr style=\"text-align: right;\">\n",
       "      <th></th>\n",
       "      <th>release_date</th>\n",
       "    </tr>\n",
       "  </thead>\n",
       "  <tbody>\n",
       "    <tr>\n",
       "      <th>0</th>\n",
       "      <td>2/20/15</td>\n",
       "    </tr>\n",
       "    <tr>\n",
       "      <th>1</th>\n",
       "      <td>8/6/04</td>\n",
       "    </tr>\n",
       "    <tr>\n",
       "      <th>2</th>\n",
       "      <td>10/10/14</td>\n",
       "    </tr>\n",
       "    <tr>\n",
       "      <th>3</th>\n",
       "      <td>3/9/12</td>\n",
       "    </tr>\n",
       "    <tr>\n",
       "      <th>4</th>\n",
       "      <td>2/5/09</td>\n",
       "    </tr>\n",
       "  </tbody>\n",
       "</table>\n",
       "</div>"
      ],
      "text/plain": [
       "  release_date\n",
       "0      2/20/15\n",
       "1       8/6/04\n",
       "2     10/10/14\n",
       "3       3/9/12\n",
       "4       2/5/09"
      ]
     },
     "execution_count": 24,
     "metadata": {},
     "output_type": "execute_result"
    }
   ],
   "source": [
    "train[[\"release_date\"]].head()"
   ]
  },
  {
   "cell_type": "code",
   "execution_count": 25,
   "id": "03ee537e",
   "metadata": {
    "execution": {
     "iopub.execute_input": "2022-11-16T14:38:15.136016Z",
     "iopub.status.busy": "2022-11-16T14:38:15.135478Z",
     "iopub.status.idle": "2022-11-16T14:38:15.329253Z",
     "shell.execute_reply": "2022-11-16T14:38:15.328258Z"
    },
    "papermill": {
     "duration": 0.215622,
     "end_time": "2022-11-16T14:38:15.331675",
     "exception": false,
     "start_time": "2022-11-16T14:38:15.116053",
     "status": "completed"
    },
    "tags": []
   },
   "outputs": [],
   "source": [
    "train['year'] = pd.DatetimeIndex(train['release_date']).year"
   ]
  },
  {
   "cell_type": "markdown",
   "id": "63e4282c",
   "metadata": {
    "papermill": {
     "duration": 0.017798,
     "end_time": "2022-11-16T14:38:15.368490",
     "exception": false,
     "start_time": "2022-11-16T14:38:15.350692",
     "status": "completed"
    },
    "tags": []
   },
   "source": [
    "Restricting release_date to only year in \"year\" column."
   ]
  },
  {
   "cell_type": "code",
   "execution_count": 26,
   "id": "769a1e43",
   "metadata": {
    "execution": {
     "iopub.execute_input": "2022-11-16T14:38:15.405541Z",
     "iopub.status.busy": "2022-11-16T14:38:15.405159Z",
     "iopub.status.idle": "2022-11-16T14:38:15.427920Z",
     "shell.execute_reply": "2022-11-16T14:38:15.426702Z"
    },
    "papermill": {
     "duration": 0.043724,
     "end_time": "2022-11-16T14:38:15.429924",
     "exception": false,
     "start_time": "2022-11-16T14:38:15.386200",
     "status": "completed"
    },
    "tags": []
   },
   "outputs": [
    {
     "data": {
      "text/html": [
       "<div>\n",
       "<style scoped>\n",
       "    .dataframe tbody tr th:only-of-type {\n",
       "        vertical-align: middle;\n",
       "    }\n",
       "\n",
       "    .dataframe tbody tr th {\n",
       "        vertical-align: top;\n",
       "    }\n",
       "\n",
       "    .dataframe thead th {\n",
       "        text-align: right;\n",
       "    }\n",
       "</style>\n",
       "<table border=\"1\" class=\"dataframe\">\n",
       "  <thead>\n",
       "    <tr style=\"text-align: right;\">\n",
       "      <th></th>\n",
       "      <th>id</th>\n",
       "      <th>belongs_to_collection</th>\n",
       "      <th>budget</th>\n",
       "      <th>genres</th>\n",
       "      <th>homepage</th>\n",
       "      <th>imdb_id</th>\n",
       "      <th>original_language</th>\n",
       "      <th>original_title</th>\n",
       "      <th>overview</th>\n",
       "      <th>popularity</th>\n",
       "      <th>...</th>\n",
       "      <th>spoken_languages</th>\n",
       "      <th>status</th>\n",
       "      <th>tagline</th>\n",
       "      <th>title</th>\n",
       "      <th>Keywords</th>\n",
       "      <th>cast</th>\n",
       "      <th>crew</th>\n",
       "      <th>revenue</th>\n",
       "      <th>is_english</th>\n",
       "      <th>year</th>\n",
       "    </tr>\n",
       "  </thead>\n",
       "  <tbody>\n",
       "    <tr>\n",
       "      <th>0</th>\n",
       "      <td>1</td>\n",
       "      <td>[{'id': 313576, 'name': 'Hot Tub Time Machine ...</td>\n",
       "      <td>14000000</td>\n",
       "      <td>[{'id': 35, 'name': 'Comedy'}]</td>\n",
       "      <td>NaN</td>\n",
       "      <td>tt2637294</td>\n",
       "      <td>en</td>\n",
       "      <td>Hot Tub Time Machine 2</td>\n",
       "      <td>When Lou, who has become the \"father of the In...</td>\n",
       "      <td>6.575393</td>\n",
       "      <td>...</td>\n",
       "      <td>[{'iso_639_1': 'en', 'name': 'English'}]</td>\n",
       "      <td>Released</td>\n",
       "      <td>The Laws of Space and Time are About to be Vio...</td>\n",
       "      <td>Hot Tub Time Machine 2</td>\n",
       "      <td>[{'id': 4379, 'name': 'time travel'}, {'id': 9...</td>\n",
       "      <td>[{'cast_id': 4, 'character': 'Lou', 'credit_id...</td>\n",
       "      <td>[{'credit_id': '59ac067c92514107af02c8c8', 'de...</td>\n",
       "      <td>12314651</td>\n",
       "      <td>1</td>\n",
       "      <td>2015</td>\n",
       "    </tr>\n",
       "    <tr>\n",
       "      <th>1</th>\n",
       "      <td>2</td>\n",
       "      <td>[{'id': 107674, 'name': 'The Princess Diaries ...</td>\n",
       "      <td>40000000</td>\n",
       "      <td>[{'id': 35, 'name': 'Comedy'}, {'id': 18, 'nam...</td>\n",
       "      <td>NaN</td>\n",
       "      <td>tt0368933</td>\n",
       "      <td>en</td>\n",
       "      <td>The Princess Diaries 2: Royal Engagement</td>\n",
       "      <td>Mia Thermopolis is now a college graduate and ...</td>\n",
       "      <td>8.248895</td>\n",
       "      <td>...</td>\n",
       "      <td>[{'iso_639_1': 'en', 'name': 'English'}]</td>\n",
       "      <td>Released</td>\n",
       "      <td>It can take a lifetime to find true love; she'...</td>\n",
       "      <td>The Princess Diaries 2: Royal Engagement</td>\n",
       "      <td>[{'id': 2505, 'name': 'coronation'}, {'id': 42...</td>\n",
       "      <td>[{'cast_id': 1, 'character': 'Mia Thermopolis'...</td>\n",
       "      <td>[{'credit_id': '52fe43fe9251416c7502563d', 'de...</td>\n",
       "      <td>95149435</td>\n",
       "      <td>1</td>\n",
       "      <td>2004</td>\n",
       "    </tr>\n",
       "    <tr>\n",
       "      <th>2</th>\n",
       "      <td>3</td>\n",
       "      <td>NaN</td>\n",
       "      <td>3300000</td>\n",
       "      <td>[{'id': 18, 'name': 'Drama'}]</td>\n",
       "      <td>http://sonyclassics.com/whiplash/</td>\n",
       "      <td>tt2582802</td>\n",
       "      <td>en</td>\n",
       "      <td>Whiplash</td>\n",
       "      <td>Under the direction of a ruthless instructor, ...</td>\n",
       "      <td>64.299990</td>\n",
       "      <td>...</td>\n",
       "      <td>[{'iso_639_1': 'en', 'name': 'English'}]</td>\n",
       "      <td>Released</td>\n",
       "      <td>The road to greatness can take you to the edge.</td>\n",
       "      <td>Whiplash</td>\n",
       "      <td>[{'id': 1416, 'name': 'jazz'}, {'id': 1523, 'n...</td>\n",
       "      <td>[{'cast_id': 5, 'character': 'Andrew Neimann',...</td>\n",
       "      <td>[{'credit_id': '54d5356ec3a3683ba0000039', 'de...</td>\n",
       "      <td>13092000</td>\n",
       "      <td>1</td>\n",
       "      <td>2014</td>\n",
       "    </tr>\n",
       "    <tr>\n",
       "      <th>3</th>\n",
       "      <td>4</td>\n",
       "      <td>NaN</td>\n",
       "      <td>1200000</td>\n",
       "      <td>[{'id': 53, 'name': 'Thriller'}, {'id': 18, 'n...</td>\n",
       "      <td>http://kahaanithefilm.com/</td>\n",
       "      <td>tt1821480</td>\n",
       "      <td>hi</td>\n",
       "      <td>Kahaani</td>\n",
       "      <td>Vidya Bagchi (Vidya Balan) arrives in Kolkata ...</td>\n",
       "      <td>3.174936</td>\n",
       "      <td>...</td>\n",
       "      <td>[{'iso_639_1': 'en', 'name': 'English'}, {'iso...</td>\n",
       "      <td>Released</td>\n",
       "      <td>NaN</td>\n",
       "      <td>Kahaani</td>\n",
       "      <td>[{'id': 10092, 'name': 'mystery'}, {'id': 1054...</td>\n",
       "      <td>[{'cast_id': 1, 'character': 'Vidya Bagchi', '...</td>\n",
       "      <td>[{'credit_id': '52fe48779251416c9108d6eb', 'de...</td>\n",
       "      <td>16000000</td>\n",
       "      <td>0</td>\n",
       "      <td>2012</td>\n",
       "    </tr>\n",
       "    <tr>\n",
       "      <th>4</th>\n",
       "      <td>5</td>\n",
       "      <td>NaN</td>\n",
       "      <td>0</td>\n",
       "      <td>[{'id': 28, 'name': 'Action'}, {'id': 53, 'nam...</td>\n",
       "      <td>NaN</td>\n",
       "      <td>tt1380152</td>\n",
       "      <td>ko</td>\n",
       "      <td>마린보이</td>\n",
       "      <td>Marine Boy is the story of a former national s...</td>\n",
       "      <td>1.148070</td>\n",
       "      <td>...</td>\n",
       "      <td>[{'iso_639_1': 'ko', 'name': '한국어/조선말'}]</td>\n",
       "      <td>Released</td>\n",
       "      <td>NaN</td>\n",
       "      <td>Marine Boy</td>\n",
       "      <td>NaN</td>\n",
       "      <td>[{'cast_id': 3, 'character': 'Chun-soo', 'cred...</td>\n",
       "      <td>[{'credit_id': '52fe464b9251416c75073b43', 'de...</td>\n",
       "      <td>3923970</td>\n",
       "      <td>0</td>\n",
       "      <td>2009</td>\n",
       "    </tr>\n",
       "  </tbody>\n",
       "</table>\n",
       "<p>5 rows × 25 columns</p>\n",
       "</div>"
      ],
      "text/plain": [
       "   id                              belongs_to_collection    budget  \\\n",
       "0   1  [{'id': 313576, 'name': 'Hot Tub Time Machine ...  14000000   \n",
       "1   2  [{'id': 107674, 'name': 'The Princess Diaries ...  40000000   \n",
       "2   3                                                NaN   3300000   \n",
       "3   4                                                NaN   1200000   \n",
       "4   5                                                NaN         0   \n",
       "\n",
       "                                              genres  \\\n",
       "0                     [{'id': 35, 'name': 'Comedy'}]   \n",
       "1  [{'id': 35, 'name': 'Comedy'}, {'id': 18, 'nam...   \n",
       "2                      [{'id': 18, 'name': 'Drama'}]   \n",
       "3  [{'id': 53, 'name': 'Thriller'}, {'id': 18, 'n...   \n",
       "4  [{'id': 28, 'name': 'Action'}, {'id': 53, 'nam...   \n",
       "\n",
       "                            homepage    imdb_id original_language  \\\n",
       "0                                NaN  tt2637294                en   \n",
       "1                                NaN  tt0368933                en   \n",
       "2  http://sonyclassics.com/whiplash/  tt2582802                en   \n",
       "3         http://kahaanithefilm.com/  tt1821480                hi   \n",
       "4                                NaN  tt1380152                ko   \n",
       "\n",
       "                             original_title  \\\n",
       "0                    Hot Tub Time Machine 2   \n",
       "1  The Princess Diaries 2: Royal Engagement   \n",
       "2                                  Whiplash   \n",
       "3                                   Kahaani   \n",
       "4                                      마린보이   \n",
       "\n",
       "                                            overview  popularity  ...  \\\n",
       "0  When Lou, who has become the \"father of the In...    6.575393  ...   \n",
       "1  Mia Thermopolis is now a college graduate and ...    8.248895  ...   \n",
       "2  Under the direction of a ruthless instructor, ...   64.299990  ...   \n",
       "3  Vidya Bagchi (Vidya Balan) arrives in Kolkata ...    3.174936  ...   \n",
       "4  Marine Boy is the story of a former national s...    1.148070  ...   \n",
       "\n",
       "                                    spoken_languages    status  \\\n",
       "0           [{'iso_639_1': 'en', 'name': 'English'}]  Released   \n",
       "1           [{'iso_639_1': 'en', 'name': 'English'}]  Released   \n",
       "2           [{'iso_639_1': 'en', 'name': 'English'}]  Released   \n",
       "3  [{'iso_639_1': 'en', 'name': 'English'}, {'iso...  Released   \n",
       "4           [{'iso_639_1': 'ko', 'name': '한국어/조선말'}]  Released   \n",
       "\n",
       "                                             tagline  \\\n",
       "0  The Laws of Space and Time are About to be Vio...   \n",
       "1  It can take a lifetime to find true love; she'...   \n",
       "2    The road to greatness can take you to the edge.   \n",
       "3                                                NaN   \n",
       "4                                                NaN   \n",
       "\n",
       "                                      title  \\\n",
       "0                    Hot Tub Time Machine 2   \n",
       "1  The Princess Diaries 2: Royal Engagement   \n",
       "2                                  Whiplash   \n",
       "3                                   Kahaani   \n",
       "4                                Marine Boy   \n",
       "\n",
       "                                            Keywords  \\\n",
       "0  [{'id': 4379, 'name': 'time travel'}, {'id': 9...   \n",
       "1  [{'id': 2505, 'name': 'coronation'}, {'id': 42...   \n",
       "2  [{'id': 1416, 'name': 'jazz'}, {'id': 1523, 'n...   \n",
       "3  [{'id': 10092, 'name': 'mystery'}, {'id': 1054...   \n",
       "4                                                NaN   \n",
       "\n",
       "                                                cast  \\\n",
       "0  [{'cast_id': 4, 'character': 'Lou', 'credit_id...   \n",
       "1  [{'cast_id': 1, 'character': 'Mia Thermopolis'...   \n",
       "2  [{'cast_id': 5, 'character': 'Andrew Neimann',...   \n",
       "3  [{'cast_id': 1, 'character': 'Vidya Bagchi', '...   \n",
       "4  [{'cast_id': 3, 'character': 'Chun-soo', 'cred...   \n",
       "\n",
       "                                                crew   revenue is_english  \\\n",
       "0  [{'credit_id': '59ac067c92514107af02c8c8', 'de...  12314651          1   \n",
       "1  [{'credit_id': '52fe43fe9251416c7502563d', 'de...  95149435          1   \n",
       "2  [{'credit_id': '54d5356ec3a3683ba0000039', 'de...  13092000          1   \n",
       "3  [{'credit_id': '52fe48779251416c9108d6eb', 'de...  16000000          0   \n",
       "4  [{'credit_id': '52fe464b9251416c75073b43', 'de...   3923970          0   \n",
       "\n",
       "   year  \n",
       "0  2015  \n",
       "1  2004  \n",
       "2  2014  \n",
       "3  2012  \n",
       "4  2009  \n",
       "\n",
       "[5 rows x 25 columns]"
      ]
     },
     "execution_count": 26,
     "metadata": {},
     "output_type": "execute_result"
    }
   ],
   "source": [
    "train.head()"
   ]
  },
  {
   "cell_type": "code",
   "execution_count": 27,
   "id": "74e884a5",
   "metadata": {
    "execution": {
     "iopub.execute_input": "2022-11-16T14:38:15.467725Z",
     "iopub.status.busy": "2022-11-16T14:38:15.467369Z",
     "iopub.status.idle": "2022-11-16T14:38:15.476963Z",
     "shell.execute_reply": "2022-11-16T14:38:15.475944Z"
    },
    "papermill": {
     "duration": 0.03074,
     "end_time": "2022-11-16T14:38:15.478745",
     "exception": false,
     "start_time": "2022-11-16T14:38:15.448005",
     "status": "completed"
    },
    "tags": []
   },
   "outputs": [
    {
     "data": {
      "text/plain": [
       "revenue       1.000000\n",
       "budget        0.752965\n",
       "popularity    0.461460\n",
       "runtime       0.216380\n",
       "is_english    0.142130\n",
       "year          0.008273\n",
       "id            0.000610\n",
       "Name: revenue, dtype: float64"
      ]
     },
     "execution_count": 27,
     "metadata": {},
     "output_type": "execute_result"
    }
   ],
   "source": [
    "corr_matrix = train.corr()\n",
    "corr_matrix[\"revenue\"].sort_values(ascending=False)"
   ]
  },
  {
   "cell_type": "markdown",
   "id": "01b5f8d0",
   "metadata": {
    "papermill": {
     "duration": 0.017972,
     "end_time": "2022-11-16T14:38:15.515562",
     "exception": false,
     "start_time": "2022-11-16T14:38:15.497590",
     "status": "completed"
    },
    "tags": []
   },
   "source": [
    "Release year seems to not have a strong correlation to revenue."
   ]
  },
  {
   "cell_type": "markdown",
   "id": "839eff9d",
   "metadata": {
    "papermill": {
     "duration": 0.018336,
     "end_time": "2022-11-16T14:38:15.552488",
     "exception": false,
     "start_time": "2022-11-16T14:38:15.534152",
     "status": "completed"
    },
    "tags": []
   },
   "source": [
    "Combination: budget/runetime to see if the relationship between a films budget and runtime is correlated to revenue."
   ]
  },
  {
   "cell_type": "code",
   "execution_count": 28,
   "id": "5b3bcec4",
   "metadata": {
    "execution": {
     "iopub.execute_input": "2022-11-16T14:38:15.591752Z",
     "iopub.status.busy": "2022-11-16T14:38:15.590335Z",
     "iopub.status.idle": "2022-11-16T14:38:15.603006Z",
     "shell.execute_reply": "2022-11-16T14:38:15.602157Z"
    },
    "papermill": {
     "duration": 0.033991,
     "end_time": "2022-11-16T14:38:15.604864",
     "exception": false,
     "start_time": "2022-11-16T14:38:15.570873",
     "status": "completed"
    },
    "tags": []
   },
   "outputs": [
    {
     "data": {
      "text/plain": [
       "revenue                   1.000000\n",
       "budget                    0.752965\n",
       "budget_per_runtime        0.712007\n",
       "popularity                0.461460\n",
       "popularity_per_runtime    0.429610\n",
       "runtime                   0.216380\n",
       "budget_per_popularity     0.175036\n",
       "is_english                0.142130\n",
       "year                      0.008273\n",
       "id                        0.000610\n",
       "Name: revenue, dtype: float64"
      ]
     },
     "execution_count": 28,
     "metadata": {},
     "output_type": "execute_result"
    }
   ],
   "source": [
    "train[\"budget_per_runtime\"] = train[\"budget\"]/train[\"runtime\"]\n",
    "train[\"popularity_per_runtime\"] = train[\"popularity\"]/train[\"runtime\"]\n",
    "train[\"budget_per_popularity\"] = train[\"budget\"]/train[\"popularity\"]\n",
    "corr_matrix = train.corr()\n",
    "corr_matrix[\"revenue\"].sort_values(ascending=False)"
   ]
  },
  {
   "cell_type": "markdown",
   "id": "f277dda2",
   "metadata": {
    "papermill": {
     "duration": 0.018238,
     "end_time": "2022-11-16T14:38:15.641750",
     "exception": false,
     "start_time": "2022-11-16T14:38:15.623512",
     "status": "completed"
    },
    "tags": []
   },
   "source": [
    "Result of this is a strong correlation that should be included in the ML model for predictions."
   ]
  },
  {
   "cell_type": "markdown",
   "id": "8ba73d44",
   "metadata": {
    "papermill": {
     "duration": 0.018326,
     "end_time": "2022-11-16T14:38:15.678600",
     "exception": false,
     "start_time": "2022-11-16T14:38:15.660274",
     "status": "completed"
    },
    "tags": []
   },
   "source": [
    "# Prepare data"
   ]
  },
  {
   "cell_type": "markdown",
   "id": "21eed006",
   "metadata": {
    "papermill": {
     "duration": 0.01824,
     "end_time": "2022-11-16T14:38:15.715527",
     "exception": false,
     "start_time": "2022-11-16T14:38:15.697287",
     "status": "completed"
    },
    "tags": []
   },
   "source": [
    "Dropping data not beeing used"
   ]
  },
  {
   "cell_type": "code",
   "execution_count": 29,
   "id": "037f4807",
   "metadata": {
    "execution": {
     "iopub.execute_input": "2022-11-16T14:38:15.754879Z",
     "iopub.status.busy": "2022-11-16T14:38:15.754202Z",
     "iopub.status.idle": "2022-11-16T14:38:15.771316Z",
     "shell.execute_reply": "2022-11-16T14:38:15.770380Z"
    },
    "papermill": {
     "duration": 0.039983,
     "end_time": "2022-11-16T14:38:15.774116",
     "exception": false,
     "start_time": "2022-11-16T14:38:15.734133",
     "status": "completed"
    },
    "tags": []
   },
   "outputs": [
    {
     "name": "stdout",
     "output_type": "stream",
     "text": [
      "<class 'pandas.core.frame.DataFrame'>\n",
      "RangeIndex: 3000 entries, 0 to 2999\n",
      "Data columns (total 28 columns):\n",
      " #   Column                  Non-Null Count  Dtype  \n",
      "---  ------                  --------------  -----  \n",
      " 0   id                      3000 non-null   int64  \n",
      " 1   belongs_to_collection   604 non-null    object \n",
      " 2   budget                  3000 non-null   int64  \n",
      " 3   genres                  2993 non-null   object \n",
      " 4   homepage                946 non-null    object \n",
      " 5   imdb_id                 3000 non-null   object \n",
      " 6   original_language       3000 non-null   object \n",
      " 7   original_title          3000 non-null   object \n",
      " 8   overview                2992 non-null   object \n",
      " 9   popularity              3000 non-null   float64\n",
      " 10  poster_path             2999 non-null   object \n",
      " 11  production_companies    2844 non-null   object \n",
      " 12  production_countries    2945 non-null   object \n",
      " 13  release_date            3000 non-null   object \n",
      " 14  runtime                 2998 non-null   float64\n",
      " 15  spoken_languages        2980 non-null   object \n",
      " 16  status                  3000 non-null   object \n",
      " 17  tagline                 2403 non-null   object \n",
      " 18  title                   3000 non-null   object \n",
      " 19  Keywords                2724 non-null   object \n",
      " 20  cast                    2987 non-null   object \n",
      " 21  crew                    2984 non-null   object \n",
      " 22  revenue                 3000 non-null   int64  \n",
      " 23  is_english              3000 non-null   int64  \n",
      " 24  year                    3000 non-null   int64  \n",
      " 25  budget_per_runtime      2992 non-null   float64\n",
      " 26  popularity_per_runtime  2998 non-null   float64\n",
      " 27  budget_per_popularity   3000 non-null   float64\n",
      "dtypes: float64(5), int64(5), object(18)\n",
      "memory usage: 656.4+ KB\n"
     ]
    }
   ],
   "source": [
    "train.info()"
   ]
  },
  {
   "cell_type": "code",
   "execution_count": 30,
   "id": "6ee2e259",
   "metadata": {
    "execution": {
     "iopub.execute_input": "2022-11-16T14:38:15.813725Z",
     "iopub.status.busy": "2022-11-16T14:38:15.813079Z",
     "iopub.status.idle": "2022-11-16T14:38:15.818483Z",
     "shell.execute_reply": "2022-11-16T14:38:15.817697Z"
    },
    "papermill": {
     "duration": 0.02728,
     "end_time": "2022-11-16T14:38:15.820320",
     "exception": false,
     "start_time": "2022-11-16T14:38:15.793040",
     "status": "completed"
    },
    "tags": []
   },
   "outputs": [],
   "source": [
    "train['budget'].replace(to_replace = 0, value = 1, inplace=True)"
   ]
  },
  {
   "cell_type": "code",
   "execution_count": 31,
   "id": "70a4ea7a",
   "metadata": {
    "execution": {
     "iopub.execute_input": "2022-11-16T14:38:15.859564Z",
     "iopub.status.busy": "2022-11-16T14:38:15.858976Z",
     "iopub.status.idle": "2022-11-16T14:38:15.874266Z",
     "shell.execute_reply": "2022-11-16T14:38:15.873525Z"
    },
    "papermill": {
     "duration": 0.037202,
     "end_time": "2022-11-16T14:38:15.876470",
     "exception": false,
     "start_time": "2022-11-16T14:38:15.839268",
     "status": "completed"
    },
    "tags": []
   },
   "outputs": [],
   "source": [
    "train.dropna()\n",
    "film = train.drop(\"revenue\", axis=1)\n",
    "film_2 = train._get_numeric_data()\n",
    "film_2 = film_2[np.isfinite(film_2).all(1)]\n",
    "\n",
    "film_labels = film_2[\"revenue\"].copy()\n",
    "\n",
    "film_num = film._get_numeric_data()\n",
    "film_num = film_num[np.isfinite(film_num).all(1)]"
   ]
  },
  {
   "cell_type": "code",
   "execution_count": 32,
   "id": "d6b0774c",
   "metadata": {
    "execution": {
     "iopub.execute_input": "2022-11-16T14:38:15.917134Z",
     "iopub.status.busy": "2022-11-16T14:38:15.916571Z",
     "iopub.status.idle": "2022-11-16T14:38:15.923376Z",
     "shell.execute_reply": "2022-11-16T14:38:15.922265Z"
    },
    "papermill": {
     "duration": 0.029608,
     "end_time": "2022-11-16T14:38:15.925729",
     "exception": false,
     "start_time": "2022-11-16T14:38:15.896121",
     "status": "completed"
    },
    "tags": []
   },
   "outputs": [
    {
     "data": {
      "text/plain": [
       "<bound method NDFrame.head of 0        12314651\n",
       "1        95149435\n",
       "2        13092000\n",
       "3        16000000\n",
       "4         3923970\n",
       "          ...    \n",
       "2995      1596687\n",
       "2996       180590\n",
       "2997     89456761\n",
       "2998    171963386\n",
       "2999     82087155\n",
       "Name: revenue, Length: 2986, dtype: int64>"
      ]
     },
     "execution_count": 32,
     "metadata": {},
     "output_type": "execute_result"
    }
   ],
   "source": [
    "film_labels.head"
   ]
  },
  {
   "cell_type": "code",
   "execution_count": 33,
   "id": "ca6c63c1",
   "metadata": {
    "execution": {
     "iopub.execute_input": "2022-11-16T14:38:15.966944Z",
     "iopub.status.busy": "2022-11-16T14:38:15.966317Z",
     "iopub.status.idle": "2022-11-16T14:38:15.974606Z",
     "shell.execute_reply": "2022-11-16T14:38:15.973704Z"
    },
    "papermill": {
     "duration": 0.030203,
     "end_time": "2022-11-16T14:38:15.976433",
     "exception": false,
     "start_time": "2022-11-16T14:38:15.946230",
     "status": "completed"
    },
    "tags": []
   },
   "outputs": [
    {
     "data": {
      "text/plain": [
       "id                        2986\n",
       "budget                    2986\n",
       "popularity                2986\n",
       "runtime                   2986\n",
       "is_english                2986\n",
       "year                      2986\n",
       "budget_per_runtime        2986\n",
       "popularity_per_runtime    2986\n",
       "budget_per_popularity     2986\n",
       "dtype: int64"
      ]
     },
     "execution_count": 33,
     "metadata": {},
     "output_type": "execute_result"
    }
   ],
   "source": [
    "film_num.count()"
   ]
  },
  {
   "cell_type": "markdown",
   "id": "8a31bc98",
   "metadata": {
    "papermill": {
     "duration": 0.018372,
     "end_time": "2022-11-16T14:38:16.014218",
     "exception": false,
     "start_time": "2022-11-16T14:38:15.995846",
     "status": "completed"
    },
    "tags": []
   },
   "source": [
    "Dealing with missing values"
   ]
  },
  {
   "cell_type": "code",
   "execution_count": 34,
   "id": "3935165d",
   "metadata": {
    "execution": {
     "iopub.execute_input": "2022-11-16T14:38:16.053545Z",
     "iopub.status.busy": "2022-11-16T14:38:16.052934Z",
     "iopub.status.idle": "2022-11-16T14:38:16.275156Z",
     "shell.execute_reply": "2022-11-16T14:38:16.273621Z"
    },
    "papermill": {
     "duration": 0.244216,
     "end_time": "2022-11-16T14:38:16.277030",
     "exception": false,
     "start_time": "2022-11-16T14:38:16.032814",
     "status": "completed"
    },
    "tags": []
   },
   "outputs": [
    {
     "name": "stdout",
     "output_type": "stream",
     "text": [
      "<class 'pandas.core.frame.DataFrame'>\n",
      "Int64Index: 2986 entries, 0 to 2999\n",
      "Data columns (total 9 columns):\n",
      " #   Column                  Non-Null Count  Dtype  \n",
      "---  ------                  --------------  -----  \n",
      " 0   id                      2986 non-null   int64  \n",
      " 1   budget                  2986 non-null   float64\n",
      " 2   popularity              2986 non-null   float64\n",
      " 3   runtime                 2986 non-null   float64\n",
      " 4   is_english              2986 non-null   int64  \n",
      " 5   year                    2986 non-null   int64  \n",
      " 6   budget_per_runtime      2986 non-null   float64\n",
      " 7   popularity_per_runtime  2986 non-null   float64\n",
      " 8   budget_per_popularity   2986 non-null   float64\n",
      "dtypes: float64(6), int64(3)\n",
      "memory usage: 233.3 KB\n",
      "<class 'pandas.core.frame.DataFrame'>\n",
      "RangeIndex: 3000 entries, 0 to 2999\n",
      "Data columns (total 28 columns):\n",
      " #   Column                  Non-Null Count  Dtype  \n",
      "---  ------                  --------------  -----  \n",
      " 0   id                      3000 non-null   int64  \n",
      " 1   belongs_to_collection   604 non-null    object \n",
      " 2   budget                  3000 non-null   float64\n",
      " 3   genres                  2993 non-null   object \n",
      " 4   homepage                946 non-null    object \n",
      " 5   imdb_id                 3000 non-null   object \n",
      " 6   original_language       3000 non-null   object \n",
      " 7   original_title          3000 non-null   object \n",
      " 8   overview                2992 non-null   object \n",
      " 9   popularity              3000 non-null   float64\n",
      " 10  poster_path             2999 non-null   object \n",
      " 11  production_companies    2844 non-null   object \n",
      " 12  production_countries    2945 non-null   object \n",
      " 13  release_date            3000 non-null   object \n",
      " 14  runtime                 2998 non-null   float64\n",
      " 15  spoken_languages        2980 non-null   object \n",
      " 16  status                  3000 non-null   object \n",
      " 17  tagline                 2403 non-null   object \n",
      " 18  title                   3000 non-null   object \n",
      " 19  Keywords                2724 non-null   object \n",
      " 20  cast                    2987 non-null   object \n",
      " 21  crew                    2984 non-null   object \n",
      " 22  revenue                 3000 non-null   int64  \n",
      " 23  is_english              3000 non-null   int64  \n",
      " 24  year                    3000 non-null   int64  \n",
      " 25  budget_per_runtime      2992 non-null   float64\n",
      " 26  popularity_per_runtime  2998 non-null   float64\n",
      " 27  budget_per_popularity   3000 non-null   float64\n",
      "dtypes: float64(6), int64(4), object(18)\n",
      "memory usage: 656.4+ KB\n"
     ]
    },
    {
     "data": {
      "text/plain": [
       "SimpleImputer(strategy='median')"
      ]
     },
     "execution_count": 34,
     "metadata": {},
     "output_type": "execute_result"
    }
   ],
   "source": [
    "from sklearn.impute import SimpleImputer\n",
    "imputer = SimpleImputer(strategy=\"median\")\n",
    "\n",
    "film_num['budget'] = film_num['budget'].astype(float)\n",
    "train['budget'] = train['budget'].astype(float)\n",
    "film_num.info()\n",
    "train.info()\n",
    "imputer.fit(film_num)"
   ]
  },
  {
   "cell_type": "code",
   "execution_count": 35,
   "id": "32731dcf",
   "metadata": {
    "execution": {
     "iopub.execute_input": "2022-11-16T14:38:16.316186Z",
     "iopub.status.busy": "2022-11-16T14:38:16.315823Z",
     "iopub.status.idle": "2022-11-16T14:38:16.324296Z",
     "shell.execute_reply": "2022-11-16T14:38:16.322985Z"
    },
    "papermill": {
     "duration": 0.030577,
     "end_time": "2022-11-16T14:38:16.326249",
     "exception": false,
     "start_time": "2022-11-16T14:38:16.295672",
     "status": "completed"
    },
    "tags": []
   },
   "outputs": [],
   "source": [
    "from sklearn.base import BaseEstimator, TransformerMixin\n",
    "budget_ix, popularity_ix, runtime_ix = 1, 2, 3\n",
    "class CombinedAttributesAdder(BaseEstimator, TransformerMixin):\n",
    " def __init__(self, add_budget_per_runtime = True): # no *args or **kargs\n",
    "     self.add_budget_per_runtime = add_budget_per_runtime\n",
    " def fit(self, X, y=None):\n",
    "     return self # nothing else to do\n",
    " def transform(self, X, y=None):\n",
    "     budget_per_popularity = X[:, budget_ix] / X[:, popularity_ix]\n",
    "     popularity_per_budget = X[:, popularity_ix] / X[:, budget_ix]\n",
    "     if self.add_budget_per_runtime:\n",
    "         budget_per_runtime = X[:, budget_ix] / X[:, runtime_ix]\n",
    "         return np.c_[X, popularity_per_budget, budget_per_popularity,\n",
    "                 budget_per_runtime]\n",
    "     else:\n",
    "         return np.c_[X, popularity_per_budget, budget_per_popularity]\n",
    "        \n",
    "        \n",
    "attr_adder = CombinedAttributesAdder(add_budget_per_runtime=False)\n",
    "train_extra_attribs = attr_adder.transform(film_num.values)"
   ]
  },
  {
   "cell_type": "code",
   "execution_count": 36,
   "id": "3dfe3c2d",
   "metadata": {
    "execution": {
     "iopub.execute_input": "2022-11-16T14:38:16.367189Z",
     "iopub.status.busy": "2022-11-16T14:38:16.366830Z",
     "iopub.status.idle": "2022-11-16T14:38:16.381715Z",
     "shell.execute_reply": "2022-11-16T14:38:16.380628Z"
    },
    "papermill": {
     "duration": 0.038081,
     "end_time": "2022-11-16T14:38:16.383933",
     "exception": false,
     "start_time": "2022-11-16T14:38:16.345852",
     "status": "completed"
    },
    "tags": []
   },
   "outputs": [],
   "source": [
    "from sklearn.pipeline import Pipeline\n",
    "from sklearn.preprocessing import StandardScaler\n",
    "\n",
    "num_pipeline = Pipeline([\n",
    "     ('imputer', SimpleImputer(strategy=\"median\")),\n",
    "     ('attribs_adder', CombinedAttributesAdder()),\n",
    "     ('std_scaler', StandardScaler()),\n",
    "    ])\n",
    "film_num_tr = num_pipeline.fit_transform(film_num)"
   ]
  },
  {
   "cell_type": "code",
   "execution_count": 37,
   "id": "14ddbb92",
   "metadata": {
    "execution": {
     "iopub.execute_input": "2022-11-16T14:38:16.424096Z",
     "iopub.status.busy": "2022-11-16T14:38:16.423071Z",
     "iopub.status.idle": "2022-11-16T14:38:16.445425Z",
     "shell.execute_reply": "2022-11-16T14:38:16.444080Z"
    },
    "papermill": {
     "duration": 0.044737,
     "end_time": "2022-11-16T14:38:16.447750",
     "exception": false,
     "start_time": "2022-11-16T14:38:16.403013",
     "status": "completed"
    },
    "tags": []
   },
   "outputs": [],
   "source": [
    "from sklearn.compose import ColumnTransformer\n",
    "\n",
    "num_attribs = list(film_num)\n",
    "cat_attribs = [\"is_english\"]\n",
    "full_pipeline = ColumnTransformer([\n",
    "     (\"num\", num_pipeline, num_attribs),\n",
    "     (\"cat\", OneHotEncoder(), cat_attribs),\n",
    "   ])\n",
    "film_prepared = full_pipeline.fit_transform(film_num)"
   ]
  },
  {
   "cell_type": "markdown",
   "id": "ced818ed",
   "metadata": {
    "papermill": {
     "duration": 0.019407,
     "end_time": "2022-11-16T14:38:16.486395",
     "exception": false,
     "start_time": "2022-11-16T14:38:16.466988",
     "status": "completed"
    },
    "tags": []
   },
   "source": [
    "# Training"
   ]
  },
  {
   "cell_type": "markdown",
   "id": "21e1c5e2",
   "metadata": {
    "papermill": {
     "duration": 0.018555,
     "end_time": "2022-11-16T14:38:16.523849",
     "exception": false,
     "start_time": "2022-11-16T14:38:16.505294",
     "status": "completed"
    },
    "tags": []
   },
   "source": [
    "Linear regression"
   ]
  },
  {
   "cell_type": "code",
   "execution_count": 38,
   "id": "09d538d4",
   "metadata": {
    "execution": {
     "iopub.execute_input": "2022-11-16T14:38:16.563088Z",
     "iopub.status.busy": "2022-11-16T14:38:16.562743Z",
     "iopub.status.idle": "2022-11-16T14:38:16.585601Z",
     "shell.execute_reply": "2022-11-16T14:38:16.584751Z"
    },
    "papermill": {
     "duration": 0.044926,
     "end_time": "2022-11-16T14:38:16.587581",
     "exception": false,
     "start_time": "2022-11-16T14:38:16.542655",
     "status": "completed"
    },
    "tags": []
   },
   "outputs": [
    {
     "data": {
      "text/plain": [
       "LinearRegression()"
      ]
     },
     "execution_count": 38,
     "metadata": {},
     "output_type": "execute_result"
    }
   ],
   "source": [
    "from sklearn.linear_model import LinearRegression\n",
    "lin_reg = LinearRegression()\n",
    "lin_reg.fit(film_prepared, film_labels)"
   ]
  },
  {
   "cell_type": "code",
   "execution_count": 39,
   "id": "d16d1720",
   "metadata": {
    "execution": {
     "iopub.execute_input": "2022-11-16T14:38:16.639269Z",
     "iopub.status.busy": "2022-11-16T14:38:16.638927Z",
     "iopub.status.idle": "2022-11-16T14:38:16.651212Z",
     "shell.execute_reply": "2022-11-16T14:38:16.650545Z"
    },
    "papermill": {
     "duration": 0.042598,
     "end_time": "2022-11-16T14:38:16.655394",
     "exception": false,
     "start_time": "2022-11-16T14:38:16.612796",
     "status": "completed"
    },
    "tags": []
   },
   "outputs": [
    {
     "data": {
      "text/plain": [
       "84477149.87298246"
      ]
     },
     "execution_count": 39,
     "metadata": {},
     "output_type": "execute_result"
    }
   ],
   "source": [
    "from sklearn.metrics import mean_squared_error\n",
    "rev_predictions = lin_reg.predict(film_prepared)\n",
    "lin_mse = mean_squared_error(film_labels, rev_predictions)\n",
    "lin_rmse = np.sqrt(lin_mse)\n",
    "lin_rmse"
   ]
  },
  {
   "cell_type": "markdown",
   "id": "05a7ec3c",
   "metadata": {
    "papermill": {
     "duration": 0.025619,
     "end_time": "2022-11-16T14:38:16.727197",
     "exception": false,
     "start_time": "2022-11-16T14:38:16.701578",
     "status": "completed"
    },
    "tags": []
   },
   "source": [
    "Decision tree regressor"
   ]
  },
  {
   "cell_type": "code",
   "execution_count": 40,
   "id": "71ec2503",
   "metadata": {
    "execution": {
     "iopub.execute_input": "2022-11-16T14:38:16.775125Z",
     "iopub.status.busy": "2022-11-16T14:38:16.774794Z",
     "iopub.status.idle": "2022-11-16T14:38:16.838055Z",
     "shell.execute_reply": "2022-11-16T14:38:16.837089Z"
    },
    "papermill": {
     "duration": 0.087741,
     "end_time": "2022-11-16T14:38:16.840075",
     "exception": false,
     "start_time": "2022-11-16T14:38:16.752334",
     "status": "completed"
    },
    "tags": []
   },
   "outputs": [
    {
     "data": {
      "text/plain": [
       "DecisionTreeRegressor()"
      ]
     },
     "execution_count": 40,
     "metadata": {},
     "output_type": "execute_result"
    }
   ],
   "source": [
    "from sklearn.tree import DecisionTreeRegressor\n",
    "tree_reg = DecisionTreeRegressor()\n",
    "tree_reg.fit(film_prepared, film_labels)"
   ]
  },
  {
   "cell_type": "code",
   "execution_count": 41,
   "id": "a202a7b4",
   "metadata": {
    "execution": {
     "iopub.execute_input": "2022-11-16T14:38:16.882192Z",
     "iopub.status.busy": "2022-11-16T14:38:16.881593Z",
     "iopub.status.idle": "2022-11-16T14:38:16.889189Z",
     "shell.execute_reply": "2022-11-16T14:38:16.888517Z"
    },
    "papermill": {
     "duration": 0.030194,
     "end_time": "2022-11-16T14:38:16.890946",
     "exception": false,
     "start_time": "2022-11-16T14:38:16.860752",
     "status": "completed"
    },
    "tags": []
   },
   "outputs": [
    {
     "data": {
      "text/plain": [
       "0.0"
      ]
     },
     "execution_count": 41,
     "metadata": {},
     "output_type": "execute_result"
    }
   ],
   "source": [
    "film_predictions = tree_reg.predict(film_prepared)\n",
    "tree_mse = mean_squared_error(film_labels, film_predictions)\n",
    "tree_rmse = np.sqrt(tree_mse)\n",
    "tree_rmse"
   ]
  },
  {
   "cell_type": "markdown",
   "id": "0ceb192b",
   "metadata": {
    "papermill": {
     "duration": 0.019015,
     "end_time": "2022-11-16T14:38:16.929217",
     "exception": false,
     "start_time": "2022-11-16T14:38:16.910202",
     "status": "completed"
    },
    "tags": []
   },
   "source": [
    "Getting scores"
   ]
  },
  {
   "cell_type": "code",
   "execution_count": 42,
   "id": "e11e5c9a",
   "metadata": {
    "execution": {
     "iopub.execute_input": "2022-11-16T14:38:16.969626Z",
     "iopub.status.busy": "2022-11-16T14:38:16.969281Z",
     "iopub.status.idle": "2022-11-16T14:38:17.271299Z",
     "shell.execute_reply": "2022-11-16T14:38:17.270560Z"
    },
    "papermill": {
     "duration": 0.324873,
     "end_time": "2022-11-16T14:38:17.273490",
     "exception": false,
     "start_time": "2022-11-16T14:38:16.948617",
     "status": "completed"
    },
    "tags": []
   },
   "outputs": [],
   "source": [
    "from sklearn.model_selection import cross_val_score\n",
    "scores = cross_val_score(tree_reg, film_prepared, film_labels,\n",
    " scoring=\"neg_mean_squared_error\", cv=10)\n",
    "tree_rmse_scores = np.sqrt(-scores)"
   ]
  },
  {
   "cell_type": "code",
   "execution_count": 43,
   "id": "221e2662",
   "metadata": {
    "execution": {
     "iopub.execute_input": "2022-11-16T14:38:17.313832Z",
     "iopub.status.busy": "2022-11-16T14:38:17.313500Z",
     "iopub.status.idle": "2022-11-16T14:38:17.319639Z",
     "shell.execute_reply": "2022-11-16T14:38:17.318267Z"
    },
    "papermill": {
     "duration": 0.028875,
     "end_time": "2022-11-16T14:38:17.321797",
     "exception": false,
     "start_time": "2022-11-16T14:38:17.292922",
     "status": "completed"
    },
    "tags": []
   },
   "outputs": [
    {
     "name": "stdout",
     "output_type": "stream",
     "text": [
      "Scores: [1.20336448e+08 1.30290126e+08 1.29079804e+08 1.12553162e+08\n",
      " 1.27668730e+08 1.21103201e+08 9.58391557e+07 1.27591348e+08\n",
      " 1.11344006e+08 1.19453347e+08]\n",
      "Mean: 119525932.74858364\n",
      "Standard deviation: 10090972.249388466\n"
     ]
    }
   ],
   "source": [
    "def display_scores(scores):\n",
    "    print(\"Scores:\", scores)\n",
    "    print(\"Mean:\", scores.mean())\n",
    "    print(\"Standard deviation:\", scores.std())\n",
    "\n",
    "display_scores(tree_rmse_scores)"
   ]
  },
  {
   "cell_type": "code",
   "execution_count": 44,
   "id": "64eb6648",
   "metadata": {
    "execution": {
     "iopub.execute_input": "2022-11-16T14:38:17.362483Z",
     "iopub.status.busy": "2022-11-16T14:38:17.362137Z",
     "iopub.status.idle": "2022-11-16T14:38:17.396860Z",
     "shell.execute_reply": "2022-11-16T14:38:17.395725Z"
    },
    "papermill": {
     "duration": 0.05765,
     "end_time": "2022-11-16T14:38:17.398903",
     "exception": false,
     "start_time": "2022-11-16T14:38:17.341253",
     "status": "completed"
    },
    "tags": []
   },
   "outputs": [
    {
     "name": "stdout",
     "output_type": "stream",
     "text": [
      "Scores: [1.20336448e+08 1.30290126e+08 1.29079804e+08 1.12553162e+08\n",
      " 1.27668730e+08 1.21103201e+08 9.58391557e+07 1.27591348e+08\n",
      " 1.11344006e+08 1.19453347e+08]\n",
      "Mean: 119525932.74858364\n",
      "Standard deviation: 10090972.249388466\n"
     ]
    }
   ],
   "source": [
    "lin_scores = cross_val_score(lin_reg, film_prepared, film_labels,\n",
    "        scoring=\"neg_mean_squared_error\", cv=10)\n",
    "lin_rmse_scores = np.sqrt(-scores)\n",
    "display_scores(lin_rmse_scores)"
   ]
  },
  {
   "cell_type": "markdown",
   "id": "529eb1cd",
   "metadata": {
    "papermill": {
     "duration": 0.024539,
     "end_time": "2022-11-16T14:38:17.448651",
     "exception": false,
     "start_time": "2022-11-16T14:38:17.424112",
     "status": "completed"
    },
    "tags": []
   },
   "source": [
    "Random forest regressor"
   ]
  },
  {
   "cell_type": "code",
   "execution_count": 45,
   "id": "7c9cceb1",
   "metadata": {
    "execution": {
     "iopub.execute_input": "2022-11-16T14:38:17.500128Z",
     "iopub.status.busy": "2022-11-16T14:38:17.499764Z",
     "iopub.status.idle": "2022-11-16T14:38:19.563726Z",
     "shell.execute_reply": "2022-11-16T14:38:19.562159Z"
    },
    "papermill": {
     "duration": 2.093742,
     "end_time": "2022-11-16T14:38:19.567484",
     "exception": false,
     "start_time": "2022-11-16T14:38:17.473742",
     "status": "completed"
    },
    "tags": []
   },
   "outputs": [
    {
     "name": "stdout",
     "output_type": "stream",
     "text": [
      "Scores: [8.60432418e+07 9.10574623e+07 9.54115100e+07 8.14606180e+07\n",
      " 8.31965378e+07 9.85693584e+07 7.05520184e+07 8.23601271e+07\n",
      " 1.09458065e+08 7.85332257e+07]\n",
      "Mean: 87664216.46047755\n",
      "Standard deviation: 10634080.433577735\n"
     ]
    }
   ],
   "source": [
    "from sklearn.ensemble import RandomForestRegressor\n",
    "forest_reg = RandomForestRegressor()\n",
    "forest_reg.fit(film_prepared, film_labels)\n",
    "\n",
    "forest_mse = mean_squared_error(film_labels, film_predictions)\n",
    "forest_rmse = np.sqrt(forest_mse)\n",
    "forest_rmse\n",
    "\n",
    "forest_rmse_scores = np.sqrt(-lin_scores)\n",
    "display_scores(forest_rmse_scores)"
   ]
  },
  {
   "cell_type": "markdown",
   "id": "6f4aec04",
   "metadata": {
    "papermill": {
     "duration": 0.020302,
     "end_time": "2022-11-16T14:38:19.609455",
     "exception": false,
     "start_time": "2022-11-16T14:38:19.589153",
     "status": "completed"
    },
    "tags": []
   },
   "source": [
    "Random forest regressor has the best score"
   ]
  },
  {
   "cell_type": "markdown",
   "id": "ca961ecd",
   "metadata": {
    "papermill": {
     "duration": 0.019825,
     "end_time": "2022-11-16T14:38:19.649572",
     "exception": false,
     "start_time": "2022-11-16T14:38:19.629747",
     "status": "completed"
    },
    "tags": []
   },
   "source": [
    "# Tuning"
   ]
  },
  {
   "cell_type": "markdown",
   "id": "e4f504f9",
   "metadata": {
    "papermill": {
     "duration": 0.020441,
     "end_time": "2022-11-16T14:38:19.690022",
     "exception": false,
     "start_time": "2022-11-16T14:38:19.669581",
     "status": "completed"
    },
    "tags": []
   },
   "source": [
    "Grid search"
   ]
  },
  {
   "cell_type": "code",
   "execution_count": 46,
   "id": "6c31ae32",
   "metadata": {
    "execution": {
     "iopub.execute_input": "2022-11-16T14:38:19.731367Z",
     "iopub.status.busy": "2022-11-16T14:38:19.731005Z",
     "iopub.status.idle": "2022-11-16T14:38:42.781610Z",
     "shell.execute_reply": "2022-11-16T14:38:42.780895Z"
    },
    "papermill": {
     "duration": 23.073395,
     "end_time": "2022-11-16T14:38:42.783463",
     "exception": false,
     "start_time": "2022-11-16T14:38:19.710068",
     "status": "completed"
    },
    "tags": []
   },
   "outputs": [
    {
     "data": {
      "text/plain": [
       "GridSearchCV(cv=5, estimator=RandomForestRegressor(),\n",
       "             param_grid=[{'max_features': [1, 2, 3, 4],\n",
       "                          'n_estimators': [70, 75, 80]},\n",
       "                         {'bootstrap': [False], 'max_features': [2, 3, 4],\n",
       "                          'n_estimators': [3, 10]}],\n",
       "             return_train_score=True, scoring='neg_mean_squared_error')"
      ]
     },
     "execution_count": 46,
     "metadata": {},
     "output_type": "execute_result"
    }
   ],
   "source": [
    "from sklearn.model_selection import GridSearchCV\n",
    "param_grid = [\n",
    "     {'n_estimators': [70, 75, 80], 'max_features': [1, 2, 3, 4]},\n",
    "     {'bootstrap': [False], 'n_estimators': [3, 10], 'max_features': [2, 3, 4]},\n",
    "     ]\n",
    "forest_reg = RandomForestRegressor()\n",
    "grid_search = GridSearchCV(forest_reg, param_grid, cv=5,\n",
    "     scoring='neg_mean_squared_error',\n",
    "     return_train_score=True)\n",
    "grid_search.fit(film_prepared, film_labels)"
   ]
  },
  {
   "cell_type": "code",
   "execution_count": 47,
   "id": "87ac5a65",
   "metadata": {
    "execution": {
     "iopub.execute_input": "2022-11-16T14:38:42.824326Z",
     "iopub.status.busy": "2022-11-16T14:38:42.823953Z",
     "iopub.status.idle": "2022-11-16T14:38:42.831276Z",
     "shell.execute_reply": "2022-11-16T14:38:42.830068Z"
    },
    "papermill": {
     "duration": 0.030461,
     "end_time": "2022-11-16T14:38:42.833792",
     "exception": false,
     "start_time": "2022-11-16T14:38:42.803331",
     "status": "completed"
    },
    "tags": []
   },
   "outputs": [
    {
     "data": {
      "text/plain": [
       "{'max_features': 3, 'n_estimators': 80}"
      ]
     },
     "execution_count": 47,
     "metadata": {},
     "output_type": "execute_result"
    }
   ],
   "source": [
    "grid_search.best_params_"
   ]
  },
  {
   "cell_type": "code",
   "execution_count": 48,
   "id": "1eb906c0",
   "metadata": {
    "execution": {
     "iopub.execute_input": "2022-11-16T14:38:42.876209Z",
     "iopub.status.busy": "2022-11-16T14:38:42.875847Z",
     "iopub.status.idle": "2022-11-16T14:38:42.882606Z",
     "shell.execute_reply": "2022-11-16T14:38:42.881771Z"
    },
    "papermill": {
     "duration": 0.03016,
     "end_time": "2022-11-16T14:38:42.884264",
     "exception": false,
     "start_time": "2022-11-16T14:38:42.854104",
     "status": "completed"
    },
    "tags": []
   },
   "outputs": [
    {
     "data": {
      "text/plain": [
       "RandomForestRegressor(max_features=3, n_estimators=80)"
      ]
     },
     "execution_count": 48,
     "metadata": {},
     "output_type": "execute_result"
    }
   ],
   "source": [
    "grid_search.best_estimator_"
   ]
  },
  {
   "cell_type": "code",
   "execution_count": 49,
   "id": "249cf602",
   "metadata": {
    "execution": {
     "iopub.execute_input": "2022-11-16T14:38:42.925650Z",
     "iopub.status.busy": "2022-11-16T14:38:42.925130Z",
     "iopub.status.idle": "2022-11-16T14:38:42.931751Z",
     "shell.execute_reply": "2022-11-16T14:38:42.930085Z"
    },
    "papermill": {
     "duration": 0.031033,
     "end_time": "2022-11-16T14:38:42.934960",
     "exception": false,
     "start_time": "2022-11-16T14:38:42.903927",
     "status": "completed"
    },
    "tags": []
   },
   "outputs": [
    {
     "name": "stdout",
     "output_type": "stream",
     "text": [
      "86865186.0392307 {'max_features': 1, 'n_estimators': 70}\n",
      "84932361.9628037 {'max_features': 1, 'n_estimators': 75}\n",
      "83912002.6382112 {'max_features': 1, 'n_estimators': 80}\n",
      "82872853.90650733 {'max_features': 2, 'n_estimators': 70}\n",
      "82713267.04538973 {'max_features': 2, 'n_estimators': 75}\n",
      "82366542.74170136 {'max_features': 2, 'n_estimators': 80}\n",
      "82863058.89326137 {'max_features': 3, 'n_estimators': 70}\n",
      "83876394.10859172 {'max_features': 3, 'n_estimators': 75}\n",
      "82014633.33810587 {'max_features': 3, 'n_estimators': 80}\n",
      "83236556.51238488 {'max_features': 4, 'n_estimators': 70}\n",
      "83787114.7324346 {'max_features': 4, 'n_estimators': 75}\n",
      "82563970.59432878 {'max_features': 4, 'n_estimators': 80}\n",
      "105488056.66303366 {'bootstrap': False, 'max_features': 2, 'n_estimators': 3}\n",
      "87928651.3452556 {'bootstrap': False, 'max_features': 2, 'n_estimators': 10}\n",
      "103187337.6653877 {'bootstrap': False, 'max_features': 3, 'n_estimators': 3}\n",
      "86737333.13967632 {'bootstrap': False, 'max_features': 3, 'n_estimators': 10}\n",
      "106808076.25517274 {'bootstrap': False, 'max_features': 4, 'n_estimators': 3}\n",
      "91038702.3839508 {'bootstrap': False, 'max_features': 4, 'n_estimators': 10}\n"
     ]
    }
   ],
   "source": [
    "cvres = grid_search.cv_results_\n",
    "for mean_score, params in zip(cvres[\"mean_test_score\"], cvres[\"params\"]):\n",
    "    print(np.sqrt(-mean_score), params)"
   ]
  },
  {
   "cell_type": "code",
   "execution_count": 50,
   "id": "187faa7e",
   "metadata": {
    "execution": {
     "iopub.execute_input": "2022-11-16T14:38:42.977717Z",
     "iopub.status.busy": "2022-11-16T14:38:42.976257Z",
     "iopub.status.idle": "2022-11-16T14:38:43.272637Z",
     "shell.execute_reply": "2022-11-16T14:38:43.271616Z"
    },
    "papermill": {
     "duration": 0.319778,
     "end_time": "2022-11-16T14:38:43.274887",
     "exception": false,
     "start_time": "2022-11-16T14:38:42.955109",
     "status": "completed"
    },
    "tags": []
   },
   "outputs": [],
   "source": [
    "test[\"budget_per_runtime\"] = test[\"budget\"]/test[\"runtime\"]\n",
    "test[\"popularity_per_runtime\"] = test[\"popularity\"]/test[\"runtime\"]\n",
    "test[\"budget_per_popularity\"] = test[\"budget\"]/test[\"popularity\"]\n",
    "test['year'] = pd.DatetimeIndex(test['release_date']).year\n",
    "test['is_english'] = np.where(test['original_language']=='en', 1, 0)\n",
    "test['budget'].replace(to_replace = 0, value = 1, inplace=True)\n",
    "test_num = test._get_numeric_data()\n",
    "test_num = test_num[np.isfinite(test_num).all(1)]"
   ]
  },
  {
   "cell_type": "code",
   "execution_count": 51,
   "id": "46235194",
   "metadata": {
    "execution": {
     "iopub.execute_input": "2022-11-16T14:38:43.317387Z",
     "iopub.status.busy": "2022-11-16T14:38:43.316285Z",
     "iopub.status.idle": "2022-11-16T14:38:43.382703Z",
     "shell.execute_reply": "2022-11-16T14:38:43.381319Z"
    },
    "papermill": {
     "duration": 0.090142,
     "end_time": "2022-11-16T14:38:43.385378",
     "exception": false,
     "start_time": "2022-11-16T14:38:43.295236",
     "status": "completed"
    },
    "tags": []
   },
   "outputs": [],
   "source": [
    "final_model = grid_search.best_estimator_\n",
    "test_prepared = full_pipeline.transform(test_num)\n",
    "final_predictions = final_model.predict(test_prepared)"
   ]
  },
  {
   "cell_type": "markdown",
   "id": "98ffbba6",
   "metadata": {
    "papermill": {
     "duration": 0.020048,
     "end_time": "2022-11-16T14:38:43.425697",
     "exception": false,
     "start_time": "2022-11-16T14:38:43.405649",
     "status": "completed"
    },
    "tags": []
   },
   "source": [
    "# Submission"
   ]
  },
  {
   "cell_type": "code",
   "execution_count": 52,
   "id": "7493090e",
   "metadata": {
    "execution": {
     "iopub.execute_input": "2022-11-16T14:38:43.468481Z",
     "iopub.status.busy": "2022-11-16T14:38:43.468047Z",
     "iopub.status.idle": "2022-11-16T14:38:43.530190Z",
     "shell.execute_reply": "2022-11-16T14:38:43.529170Z"
    },
    "papermill": {
     "duration": 0.086032,
     "end_time": "2022-11-16T14:38:43.532283",
     "exception": false,
     "start_time": "2022-11-16T14:38:43.446251",
     "status": "completed"
    },
    "tags": []
   },
   "outputs": [
    {
     "data": {
      "text/plain": [
       "(4384, 4398)"
      ]
     },
     "execution_count": 52,
     "metadata": {},
     "output_type": "execute_result"
    }
   ],
   "source": [
    "y_pred = final_model.predict(test_prepared)\n",
    "y_pred[:10]\n",
    "len(y_pred), len(test)"
   ]
  },
  {
   "cell_type": "code",
   "execution_count": 53,
   "id": "7dd8e4ba",
   "metadata": {
    "execution": {
     "iopub.execute_input": "2022-11-16T14:38:43.574681Z",
     "iopub.status.busy": "2022-11-16T14:38:43.574314Z",
     "iopub.status.idle": "2022-11-16T14:38:43.580281Z",
     "shell.execute_reply": "2022-11-16T14:38:43.579155Z"
    },
    "papermill": {
     "duration": 0.030291,
     "end_time": "2022-11-16T14:38:43.582945",
     "exception": false,
     "start_time": "2022-11-16T14:38:43.552654",
     "status": "completed"
    },
    "tags": []
   },
   "outputs": [],
   "source": [
    "submission = pd.DataFrame({'id': test_num.id, 'revenue': y_pred})"
   ]
  },
  {
   "cell_type": "markdown",
   "id": "6f338144",
   "metadata": {
    "papermill": {
     "duration": 0.019882,
     "end_time": "2022-11-16T14:38:43.623605",
     "exception": false,
     "start_time": "2022-11-16T14:38:43.603723",
     "status": "completed"
    },
    "tags": []
   },
   "source": [
    "# TODO"
   ]
  },
  {
   "cell_type": "markdown",
   "id": "5fa73853",
   "metadata": {
    "papermill": {
     "duration": 0.019914,
     "end_time": "2022-11-16T14:38:43.663713",
     "exception": false,
     "start_time": "2022-11-16T14:38:43.643799",
     "status": "completed"
    },
    "tags": []
   },
   "source": [
    "1. transform\n",
    "2. model\n",
    "3. gridsearch\n",
    "4. submit model\n",
    "5. launch / reco"
   ]
  }
 ],
 "metadata": {
  "kernelspec": {
   "display_name": "Python 3",
   "language": "python",
   "name": "python3"
  },
  "language_info": {
   "codemirror_mode": {
    "name": "ipython",
    "version": 3
   },
   "file_extension": ".py",
   "mimetype": "text/x-python",
   "name": "python",
   "nbconvert_exporter": "python",
   "pygments_lexer": "ipython3",
   "version": "3.7.12"
  },
  "papermill": {
   "default_parameters": {},
   "duration": 46.326734,
   "end_time": "2022-11-16T14:38:44.406238",
   "environment_variables": {},
   "exception": null,
   "input_path": "__notebook__.ipynb",
   "output_path": "__notebook__.ipynb",
   "parameters": {},
   "start_time": "2022-11-16T14:37:58.079504",
   "version": "2.3.4"
  }
 },
 "nbformat": 4,
 "nbformat_minor": 5
}
