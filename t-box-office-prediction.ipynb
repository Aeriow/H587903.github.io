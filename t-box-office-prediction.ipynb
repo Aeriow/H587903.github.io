{
 "cells": [
  {
   "cell_type": "markdown",
   "id": "fecb0e12",
   "metadata": {
    "papermill": {
     "duration": 0.019579,
     "end_time": "2022-11-16T14:55:58.950106",
     "exception": false,
     "start_time": "2022-11-16T14:55:58.930527",
     "status": "completed"
    },
    "tags": []
   },
   "source": [
    "# Setup"
   ]
  },
  {
   "cell_type": "code",
   "execution_count": 1,
   "id": "a8c5acb5",
   "metadata": {
    "execution": {
     "iopub.execute_input": "2022-11-16T14:55:58.988325Z",
     "iopub.status.busy": "2022-11-16T14:55:58.987282Z",
     "iopub.status.idle": "2022-11-16T14:56:00.172088Z",
     "shell.execute_reply": "2022-11-16T14:56:00.170598Z"
    },
    "papermill": {
     "duration": 1.208179,
     "end_time": "2022-11-16T14:56:00.175566",
     "exception": false,
     "start_time": "2022-11-16T14:55:58.967387",
     "status": "completed"
    },
    "tags": []
   },
   "outputs": [],
   "source": [
    "%matplotlib inline\n",
    "import numpy as np, pandas as pd, seaborn as sns, matplotlib.pyplot as plt\n",
    "from pathlib import Path\n",
    "from pandas.plotting import scatter_matrix\n",
    "from sklearn.preprocessing import OneHotEncoder"
   ]
  },
  {
   "cell_type": "markdown",
   "id": "852649da",
   "metadata": {
    "papermill": {
     "duration": 0.016743,
     "end_time": "2022-11-16T14:56:00.209647",
     "exception": false,
     "start_time": "2022-11-16T14:56:00.192904",
     "status": "completed"
    },
    "tags": []
   },
   "source": [
    "Load Data"
   ]
  },
  {
   "cell_type": "code",
   "execution_count": 2,
   "id": "306416b2",
   "metadata": {
    "execution": {
     "iopub.execute_input": "2022-11-16T14:56:00.246052Z",
     "iopub.status.busy": "2022-11-16T14:56:00.245623Z",
     "iopub.status.idle": "2022-11-16T14:56:00.256339Z",
     "shell.execute_reply": "2022-11-16T14:56:00.255077Z"
    },
    "papermill": {
     "duration": 0.03197,
     "end_time": "2022-11-16T14:56:00.258952",
     "exception": false,
     "start_time": "2022-11-16T14:56:00.226982",
     "status": "completed"
    },
    "tags": []
   },
   "outputs": [
    {
     "data": {
      "text/plain": [
       "[PosixPath('/kaggle/input/tmdb-box-office-prediction/sample_submission.csv'),\n",
       " PosixPath('/kaggle/input/tmdb-box-office-prediction/train.csv'),\n",
       " PosixPath('/kaggle/input/tmdb-box-office-prediction/test.csv')]"
      ]
     },
     "execution_count": 2,
     "metadata": {},
     "output_type": "execute_result"
    }
   ],
   "source": [
    "DATA = Path('/kaggle/input/tmdb-box-office-prediction')\n",
    "list(DATA.iterdir())"
   ]
  },
  {
   "cell_type": "code",
   "execution_count": 3,
   "id": "f31c884f",
   "metadata": {
    "execution": {
     "iopub.execute_input": "2022-11-16T14:56:00.296783Z",
     "iopub.status.busy": "2022-11-16T14:56:00.295689Z",
     "iopub.status.idle": "2022-11-16T14:56:02.226028Z",
     "shell.execute_reply": "2022-11-16T14:56:02.224751Z"
    },
    "papermill": {
     "duration": 1.951826,
     "end_time": "2022-11-16T14:56:02.228758",
     "exception": false,
     "start_time": "2022-11-16T14:56:00.276932",
     "status": "completed"
    },
    "tags": []
   },
   "outputs": [],
   "source": [
    "train = pd.read_csv(DATA/'train.csv')\n",
    "test = pd.read_csv(DATA/'test.csv')\n",
    "sampleSubmission = pd.read_csv(DATA/'sample_submission.csv')"
   ]
  },
  {
   "cell_type": "markdown",
   "id": "e7b4288d",
   "metadata": {
    "papermill": {
     "duration": 0.017011,
     "end_time": "2022-11-16T14:56:02.263077",
     "exception": false,
     "start_time": "2022-11-16T14:56:02.246066",
     "status": "completed"
    },
    "tags": []
   },
   "source": [
    "# Inspect Data"
   ]
  },
  {
   "cell_type": "code",
   "execution_count": 4,
   "id": "fcf99097",
   "metadata": {
    "execution": {
     "iopub.execute_input": "2022-11-16T14:56:02.299557Z",
     "iopub.status.busy": "2022-11-16T14:56:02.299173Z",
     "iopub.status.idle": "2022-11-16T14:56:02.341480Z",
     "shell.execute_reply": "2022-11-16T14:56:02.340288Z"
    },
    "papermill": {
     "duration": 0.063765,
     "end_time": "2022-11-16T14:56:02.344121",
     "exception": false,
     "start_time": "2022-11-16T14:56:02.280356",
     "status": "completed"
    },
    "tags": []
   },
   "outputs": [
    {
     "data": {
      "text/html": [
       "<div>\n",
       "<style scoped>\n",
       "    .dataframe tbody tr th:only-of-type {\n",
       "        vertical-align: middle;\n",
       "    }\n",
       "\n",
       "    .dataframe tbody tr th {\n",
       "        vertical-align: top;\n",
       "    }\n",
       "\n",
       "    .dataframe thead th {\n",
       "        text-align: right;\n",
       "    }\n",
       "</style>\n",
       "<table border=\"1\" class=\"dataframe\">\n",
       "  <thead>\n",
       "    <tr style=\"text-align: right;\">\n",
       "      <th></th>\n",
       "      <th>id</th>\n",
       "      <th>belongs_to_collection</th>\n",
       "      <th>budget</th>\n",
       "      <th>genres</th>\n",
       "      <th>homepage</th>\n",
       "      <th>imdb_id</th>\n",
       "      <th>original_language</th>\n",
       "      <th>original_title</th>\n",
       "      <th>overview</th>\n",
       "      <th>popularity</th>\n",
       "      <th>...</th>\n",
       "      <th>release_date</th>\n",
       "      <th>runtime</th>\n",
       "      <th>spoken_languages</th>\n",
       "      <th>status</th>\n",
       "      <th>tagline</th>\n",
       "      <th>title</th>\n",
       "      <th>Keywords</th>\n",
       "      <th>cast</th>\n",
       "      <th>crew</th>\n",
       "      <th>revenue</th>\n",
       "    </tr>\n",
       "  </thead>\n",
       "  <tbody>\n",
       "    <tr>\n",
       "      <th>0</th>\n",
       "      <td>1</td>\n",
       "      <td>[{'id': 313576, 'name': 'Hot Tub Time Machine ...</td>\n",
       "      <td>14000000</td>\n",
       "      <td>[{'id': 35, 'name': 'Comedy'}]</td>\n",
       "      <td>NaN</td>\n",
       "      <td>tt2637294</td>\n",
       "      <td>en</td>\n",
       "      <td>Hot Tub Time Machine 2</td>\n",
       "      <td>When Lou, who has become the \"father of the In...</td>\n",
       "      <td>6.575393</td>\n",
       "      <td>...</td>\n",
       "      <td>2/20/15</td>\n",
       "      <td>93.0</td>\n",
       "      <td>[{'iso_639_1': 'en', 'name': 'English'}]</td>\n",
       "      <td>Released</td>\n",
       "      <td>The Laws of Space and Time are About to be Vio...</td>\n",
       "      <td>Hot Tub Time Machine 2</td>\n",
       "      <td>[{'id': 4379, 'name': 'time travel'}, {'id': 9...</td>\n",
       "      <td>[{'cast_id': 4, 'character': 'Lou', 'credit_id...</td>\n",
       "      <td>[{'credit_id': '59ac067c92514107af02c8c8', 'de...</td>\n",
       "      <td>12314651</td>\n",
       "    </tr>\n",
       "    <tr>\n",
       "      <th>1</th>\n",
       "      <td>2</td>\n",
       "      <td>[{'id': 107674, 'name': 'The Princess Diaries ...</td>\n",
       "      <td>40000000</td>\n",
       "      <td>[{'id': 35, 'name': 'Comedy'}, {'id': 18, 'nam...</td>\n",
       "      <td>NaN</td>\n",
       "      <td>tt0368933</td>\n",
       "      <td>en</td>\n",
       "      <td>The Princess Diaries 2: Royal Engagement</td>\n",
       "      <td>Mia Thermopolis is now a college graduate and ...</td>\n",
       "      <td>8.248895</td>\n",
       "      <td>...</td>\n",
       "      <td>8/6/04</td>\n",
       "      <td>113.0</td>\n",
       "      <td>[{'iso_639_1': 'en', 'name': 'English'}]</td>\n",
       "      <td>Released</td>\n",
       "      <td>It can take a lifetime to find true love; she'...</td>\n",
       "      <td>The Princess Diaries 2: Royal Engagement</td>\n",
       "      <td>[{'id': 2505, 'name': 'coronation'}, {'id': 42...</td>\n",
       "      <td>[{'cast_id': 1, 'character': 'Mia Thermopolis'...</td>\n",
       "      <td>[{'credit_id': '52fe43fe9251416c7502563d', 'de...</td>\n",
       "      <td>95149435</td>\n",
       "    </tr>\n",
       "    <tr>\n",
       "      <th>2</th>\n",
       "      <td>3</td>\n",
       "      <td>NaN</td>\n",
       "      <td>3300000</td>\n",
       "      <td>[{'id': 18, 'name': 'Drama'}]</td>\n",
       "      <td>http://sonyclassics.com/whiplash/</td>\n",
       "      <td>tt2582802</td>\n",
       "      <td>en</td>\n",
       "      <td>Whiplash</td>\n",
       "      <td>Under the direction of a ruthless instructor, ...</td>\n",
       "      <td>64.299990</td>\n",
       "      <td>...</td>\n",
       "      <td>10/10/14</td>\n",
       "      <td>105.0</td>\n",
       "      <td>[{'iso_639_1': 'en', 'name': 'English'}]</td>\n",
       "      <td>Released</td>\n",
       "      <td>The road to greatness can take you to the edge.</td>\n",
       "      <td>Whiplash</td>\n",
       "      <td>[{'id': 1416, 'name': 'jazz'}, {'id': 1523, 'n...</td>\n",
       "      <td>[{'cast_id': 5, 'character': 'Andrew Neimann',...</td>\n",
       "      <td>[{'credit_id': '54d5356ec3a3683ba0000039', 'de...</td>\n",
       "      <td>13092000</td>\n",
       "    </tr>\n",
       "    <tr>\n",
       "      <th>3</th>\n",
       "      <td>4</td>\n",
       "      <td>NaN</td>\n",
       "      <td>1200000</td>\n",
       "      <td>[{'id': 53, 'name': 'Thriller'}, {'id': 18, 'n...</td>\n",
       "      <td>http://kahaanithefilm.com/</td>\n",
       "      <td>tt1821480</td>\n",
       "      <td>hi</td>\n",
       "      <td>Kahaani</td>\n",
       "      <td>Vidya Bagchi (Vidya Balan) arrives in Kolkata ...</td>\n",
       "      <td>3.174936</td>\n",
       "      <td>...</td>\n",
       "      <td>3/9/12</td>\n",
       "      <td>122.0</td>\n",
       "      <td>[{'iso_639_1': 'en', 'name': 'English'}, {'iso...</td>\n",
       "      <td>Released</td>\n",
       "      <td>NaN</td>\n",
       "      <td>Kahaani</td>\n",
       "      <td>[{'id': 10092, 'name': 'mystery'}, {'id': 1054...</td>\n",
       "      <td>[{'cast_id': 1, 'character': 'Vidya Bagchi', '...</td>\n",
       "      <td>[{'credit_id': '52fe48779251416c9108d6eb', 'de...</td>\n",
       "      <td>16000000</td>\n",
       "    </tr>\n",
       "    <tr>\n",
       "      <th>4</th>\n",
       "      <td>5</td>\n",
       "      <td>NaN</td>\n",
       "      <td>0</td>\n",
       "      <td>[{'id': 28, 'name': 'Action'}, {'id': 53, 'nam...</td>\n",
       "      <td>NaN</td>\n",
       "      <td>tt1380152</td>\n",
       "      <td>ko</td>\n",
       "      <td>마린보이</td>\n",
       "      <td>Marine Boy is the story of a former national s...</td>\n",
       "      <td>1.148070</td>\n",
       "      <td>...</td>\n",
       "      <td>2/5/09</td>\n",
       "      <td>118.0</td>\n",
       "      <td>[{'iso_639_1': 'ko', 'name': '한국어/조선말'}]</td>\n",
       "      <td>Released</td>\n",
       "      <td>NaN</td>\n",
       "      <td>Marine Boy</td>\n",
       "      <td>NaN</td>\n",
       "      <td>[{'cast_id': 3, 'character': 'Chun-soo', 'cred...</td>\n",
       "      <td>[{'credit_id': '52fe464b9251416c75073b43', 'de...</td>\n",
       "      <td>3923970</td>\n",
       "    </tr>\n",
       "    <tr>\n",
       "      <th>5</th>\n",
       "      <td>6</td>\n",
       "      <td>NaN</td>\n",
       "      <td>8000000</td>\n",
       "      <td>[{'id': 16, 'name': 'Animation'}, {'id': 12, '...</td>\n",
       "      <td>NaN</td>\n",
       "      <td>tt0093743</td>\n",
       "      <td>en</td>\n",
       "      <td>Pinocchio and the Emperor of the Night</td>\n",
       "      <td>Pinocchio and his friends, a glow worm and a m...</td>\n",
       "      <td>0.743274</td>\n",
       "      <td>...</td>\n",
       "      <td>8/6/87</td>\n",
       "      <td>83.0</td>\n",
       "      <td>[{'iso_639_1': 'en', 'name': 'English'}]</td>\n",
       "      <td>Released</td>\n",
       "      <td>NaN</td>\n",
       "      <td>Pinocchio and the Emperor of the Night</td>\n",
       "      <td>NaN</td>\n",
       "      <td>[{'cast_id': 6, 'character': 'Pinocchio (voice...</td>\n",
       "      <td>[{'credit_id': '52fe46f49251416c9106558b', 'de...</td>\n",
       "      <td>3261638</td>\n",
       "    </tr>\n",
       "    <tr>\n",
       "      <th>6</th>\n",
       "      <td>7</td>\n",
       "      <td>NaN</td>\n",
       "      <td>14000000</td>\n",
       "      <td>[{'id': 27, 'name': 'Horror'}, {'id': 53, 'nam...</td>\n",
       "      <td>http://www.thepossessionmovie.com/</td>\n",
       "      <td>tt0431021</td>\n",
       "      <td>en</td>\n",
       "      <td>The Possession</td>\n",
       "      <td>A young girl buys an antique box at a yard sal...</td>\n",
       "      <td>7.286477</td>\n",
       "      <td>...</td>\n",
       "      <td>8/30/12</td>\n",
       "      <td>92.0</td>\n",
       "      <td>[{'iso_639_1': 'en', 'name': 'English'}]</td>\n",
       "      <td>Released</td>\n",
       "      <td>Fear The Demon That Doesn't Fear God</td>\n",
       "      <td>The Possession</td>\n",
       "      <td>NaN</td>\n",
       "      <td>[{'cast_id': 23, 'character': 'Clyde', 'credit...</td>\n",
       "      <td>[{'credit_id': '52fe4981c3a368484e12ee29', 'de...</td>\n",
       "      <td>85446075</td>\n",
       "    </tr>\n",
       "    <tr>\n",
       "      <th>7</th>\n",
       "      <td>8</td>\n",
       "      <td>NaN</td>\n",
       "      <td>0</td>\n",
       "      <td>[{'id': 99, 'name': 'Documentary'}]</td>\n",
       "      <td>NaN</td>\n",
       "      <td>tt0391024</td>\n",
       "      <td>en</td>\n",
       "      <td>Control Room</td>\n",
       "      <td>A chronicle which provides a rare window into ...</td>\n",
       "      <td>1.949044</td>\n",
       "      <td>...</td>\n",
       "      <td>1/15/04</td>\n",
       "      <td>84.0</td>\n",
       "      <td>[{'iso_639_1': 'ar', 'name': 'العربية'}, {'iso...</td>\n",
       "      <td>Released</td>\n",
       "      <td>Different channels. Different truths.</td>\n",
       "      <td>Control Room</td>\n",
       "      <td>[{'id': 917, 'name': 'journalism'}, {'id': 163...</td>\n",
       "      <td>[{'cast_id': 2, 'character': 'Himself', 'credi...</td>\n",
       "      <td>[{'credit_id': '52fe47a69251416c750a0daf', 'de...</td>\n",
       "      <td>2586511</td>\n",
       "    </tr>\n",
       "    <tr>\n",
       "      <th>8</th>\n",
       "      <td>9</td>\n",
       "      <td>[{'id': 256377, 'name': 'The Muppet Collection...</td>\n",
       "      <td>0</td>\n",
       "      <td>[{'id': 28, 'name': 'Action'}, {'id': 35, 'nam...</td>\n",
       "      <td>NaN</td>\n",
       "      <td>tt0117110</td>\n",
       "      <td>en</td>\n",
       "      <td>Muppet Treasure Island</td>\n",
       "      <td>After telling the story of Flint's last journe...</td>\n",
       "      <td>6.902423</td>\n",
       "      <td>...</td>\n",
       "      <td>2/16/96</td>\n",
       "      <td>100.0</td>\n",
       "      <td>[{'iso_639_1': 'en', 'name': 'English'}]</td>\n",
       "      <td>Released</td>\n",
       "      <td>Set sail for Muppet mayhem!</td>\n",
       "      <td>Muppet Treasure Island</td>\n",
       "      <td>[{'id': 2041, 'name': 'island'}, {'id': 4418, ...</td>\n",
       "      <td>[{'cast_id': 1, 'character': 'Long John Silver...</td>\n",
       "      <td>[{'credit_id': '52fe43c89251416c7501deb3', 'de...</td>\n",
       "      <td>34327391</td>\n",
       "    </tr>\n",
       "    <tr>\n",
       "      <th>9</th>\n",
       "      <td>10</td>\n",
       "      <td>NaN</td>\n",
       "      <td>6000000</td>\n",
       "      <td>[{'id': 35, 'name': 'Comedy'}, {'id': 10402, '...</td>\n",
       "      <td>NaN</td>\n",
       "      <td>tt0310281</td>\n",
       "      <td>en</td>\n",
       "      <td>A Mighty Wind</td>\n",
       "      <td>In \"A Mighty Wind\", director Christopher Guest...</td>\n",
       "      <td>4.672036</td>\n",
       "      <td>...</td>\n",
       "      <td>4/16/03</td>\n",
       "      <td>91.0</td>\n",
       "      <td>[{'iso_639_1': 'en', 'name': 'English'}]</td>\n",
       "      <td>Released</td>\n",
       "      <td>Back together for the first time, again.</td>\n",
       "      <td>A Mighty Wind</td>\n",
       "      <td>[{'id': 11800, 'name': 'mockumentary'}, {'id':...</td>\n",
       "      <td>[{'cast_id': 24, 'character': 'Jonathan Steinb...</td>\n",
       "      <td>[{'credit_id': '52fe45609251416c750545b3', 'de...</td>\n",
       "      <td>18750246</td>\n",
       "    </tr>\n",
       "  </tbody>\n",
       "</table>\n",
       "<p>10 rows × 23 columns</p>\n",
       "</div>"
      ],
      "text/plain": [
       "   id                              belongs_to_collection    budget  \\\n",
       "0   1  [{'id': 313576, 'name': 'Hot Tub Time Machine ...  14000000   \n",
       "1   2  [{'id': 107674, 'name': 'The Princess Diaries ...  40000000   \n",
       "2   3                                                NaN   3300000   \n",
       "3   4                                                NaN   1200000   \n",
       "4   5                                                NaN         0   \n",
       "5   6                                                NaN   8000000   \n",
       "6   7                                                NaN  14000000   \n",
       "7   8                                                NaN         0   \n",
       "8   9  [{'id': 256377, 'name': 'The Muppet Collection...         0   \n",
       "9  10                                                NaN   6000000   \n",
       "\n",
       "                                              genres  \\\n",
       "0                     [{'id': 35, 'name': 'Comedy'}]   \n",
       "1  [{'id': 35, 'name': 'Comedy'}, {'id': 18, 'nam...   \n",
       "2                      [{'id': 18, 'name': 'Drama'}]   \n",
       "3  [{'id': 53, 'name': 'Thriller'}, {'id': 18, 'n...   \n",
       "4  [{'id': 28, 'name': 'Action'}, {'id': 53, 'nam...   \n",
       "5  [{'id': 16, 'name': 'Animation'}, {'id': 12, '...   \n",
       "6  [{'id': 27, 'name': 'Horror'}, {'id': 53, 'nam...   \n",
       "7                [{'id': 99, 'name': 'Documentary'}]   \n",
       "8  [{'id': 28, 'name': 'Action'}, {'id': 35, 'nam...   \n",
       "9  [{'id': 35, 'name': 'Comedy'}, {'id': 10402, '...   \n",
       "\n",
       "                             homepage    imdb_id original_language  \\\n",
       "0                                 NaN  tt2637294                en   \n",
       "1                                 NaN  tt0368933                en   \n",
       "2   http://sonyclassics.com/whiplash/  tt2582802                en   \n",
       "3          http://kahaanithefilm.com/  tt1821480                hi   \n",
       "4                                 NaN  tt1380152                ko   \n",
       "5                                 NaN  tt0093743                en   \n",
       "6  http://www.thepossessionmovie.com/  tt0431021                en   \n",
       "7                                 NaN  tt0391024                en   \n",
       "8                                 NaN  tt0117110                en   \n",
       "9                                 NaN  tt0310281                en   \n",
       "\n",
       "                             original_title  \\\n",
       "0                    Hot Tub Time Machine 2   \n",
       "1  The Princess Diaries 2: Royal Engagement   \n",
       "2                                  Whiplash   \n",
       "3                                   Kahaani   \n",
       "4                                      마린보이   \n",
       "5    Pinocchio and the Emperor of the Night   \n",
       "6                            The Possession   \n",
       "7                              Control Room   \n",
       "8                    Muppet Treasure Island   \n",
       "9                             A Mighty Wind   \n",
       "\n",
       "                                            overview  popularity  ...  \\\n",
       "0  When Lou, who has become the \"father of the In...    6.575393  ...   \n",
       "1  Mia Thermopolis is now a college graduate and ...    8.248895  ...   \n",
       "2  Under the direction of a ruthless instructor, ...   64.299990  ...   \n",
       "3  Vidya Bagchi (Vidya Balan) arrives in Kolkata ...    3.174936  ...   \n",
       "4  Marine Boy is the story of a former national s...    1.148070  ...   \n",
       "5  Pinocchio and his friends, a glow worm and a m...    0.743274  ...   \n",
       "6  A young girl buys an antique box at a yard sal...    7.286477  ...   \n",
       "7  A chronicle which provides a rare window into ...    1.949044  ...   \n",
       "8  After telling the story of Flint's last journe...    6.902423  ...   \n",
       "9  In \"A Mighty Wind\", director Christopher Guest...    4.672036  ...   \n",
       "\n",
       "  release_date runtime                                   spoken_languages  \\\n",
       "0      2/20/15    93.0           [{'iso_639_1': 'en', 'name': 'English'}]   \n",
       "1       8/6/04   113.0           [{'iso_639_1': 'en', 'name': 'English'}]   \n",
       "2     10/10/14   105.0           [{'iso_639_1': 'en', 'name': 'English'}]   \n",
       "3       3/9/12   122.0  [{'iso_639_1': 'en', 'name': 'English'}, {'iso...   \n",
       "4       2/5/09   118.0           [{'iso_639_1': 'ko', 'name': '한국어/조선말'}]   \n",
       "5       8/6/87    83.0           [{'iso_639_1': 'en', 'name': 'English'}]   \n",
       "6      8/30/12    92.0           [{'iso_639_1': 'en', 'name': 'English'}]   \n",
       "7      1/15/04    84.0  [{'iso_639_1': 'ar', 'name': 'العربية'}, {'iso...   \n",
       "8      2/16/96   100.0           [{'iso_639_1': 'en', 'name': 'English'}]   \n",
       "9      4/16/03    91.0           [{'iso_639_1': 'en', 'name': 'English'}]   \n",
       "\n",
       "     status                                            tagline  \\\n",
       "0  Released  The Laws of Space and Time are About to be Vio...   \n",
       "1  Released  It can take a lifetime to find true love; she'...   \n",
       "2  Released    The road to greatness can take you to the edge.   \n",
       "3  Released                                                NaN   \n",
       "4  Released                                                NaN   \n",
       "5  Released                                                NaN   \n",
       "6  Released               Fear The Demon That Doesn't Fear God   \n",
       "7  Released              Different channels. Different truths.   \n",
       "8  Released                        Set sail for Muppet mayhem!   \n",
       "9  Released           Back together for the first time, again.   \n",
       "\n",
       "                                      title  \\\n",
       "0                    Hot Tub Time Machine 2   \n",
       "1  The Princess Diaries 2: Royal Engagement   \n",
       "2                                  Whiplash   \n",
       "3                                   Kahaani   \n",
       "4                                Marine Boy   \n",
       "5    Pinocchio and the Emperor of the Night   \n",
       "6                            The Possession   \n",
       "7                              Control Room   \n",
       "8                    Muppet Treasure Island   \n",
       "9                             A Mighty Wind   \n",
       "\n",
       "                                            Keywords  \\\n",
       "0  [{'id': 4379, 'name': 'time travel'}, {'id': 9...   \n",
       "1  [{'id': 2505, 'name': 'coronation'}, {'id': 42...   \n",
       "2  [{'id': 1416, 'name': 'jazz'}, {'id': 1523, 'n...   \n",
       "3  [{'id': 10092, 'name': 'mystery'}, {'id': 1054...   \n",
       "4                                                NaN   \n",
       "5                                                NaN   \n",
       "6                                                NaN   \n",
       "7  [{'id': 917, 'name': 'journalism'}, {'id': 163...   \n",
       "8  [{'id': 2041, 'name': 'island'}, {'id': 4418, ...   \n",
       "9  [{'id': 11800, 'name': 'mockumentary'}, {'id':...   \n",
       "\n",
       "                                                cast  \\\n",
       "0  [{'cast_id': 4, 'character': 'Lou', 'credit_id...   \n",
       "1  [{'cast_id': 1, 'character': 'Mia Thermopolis'...   \n",
       "2  [{'cast_id': 5, 'character': 'Andrew Neimann',...   \n",
       "3  [{'cast_id': 1, 'character': 'Vidya Bagchi', '...   \n",
       "4  [{'cast_id': 3, 'character': 'Chun-soo', 'cred...   \n",
       "5  [{'cast_id': 6, 'character': 'Pinocchio (voice...   \n",
       "6  [{'cast_id': 23, 'character': 'Clyde', 'credit...   \n",
       "7  [{'cast_id': 2, 'character': 'Himself', 'credi...   \n",
       "8  [{'cast_id': 1, 'character': 'Long John Silver...   \n",
       "9  [{'cast_id': 24, 'character': 'Jonathan Steinb...   \n",
       "\n",
       "                                                crew   revenue  \n",
       "0  [{'credit_id': '59ac067c92514107af02c8c8', 'de...  12314651  \n",
       "1  [{'credit_id': '52fe43fe9251416c7502563d', 'de...  95149435  \n",
       "2  [{'credit_id': '54d5356ec3a3683ba0000039', 'de...  13092000  \n",
       "3  [{'credit_id': '52fe48779251416c9108d6eb', 'de...  16000000  \n",
       "4  [{'credit_id': '52fe464b9251416c75073b43', 'de...   3923970  \n",
       "5  [{'credit_id': '52fe46f49251416c9106558b', 'de...   3261638  \n",
       "6  [{'credit_id': '52fe4981c3a368484e12ee29', 'de...  85446075  \n",
       "7  [{'credit_id': '52fe47a69251416c750a0daf', 'de...   2586511  \n",
       "8  [{'credit_id': '52fe43c89251416c7501deb3', 'de...  34327391  \n",
       "9  [{'credit_id': '52fe45609251416c750545b3', 'de...  18750246  \n",
       "\n",
       "[10 rows x 23 columns]"
      ]
     },
     "execution_count": 4,
     "metadata": {},
     "output_type": "execute_result"
    }
   ],
   "source": [
    "train.head(10)"
   ]
  },
  {
   "cell_type": "code",
   "execution_count": 5,
   "id": "a01aaac8",
   "metadata": {
    "execution": {
     "iopub.execute_input": "2022-11-16T14:56:02.382660Z",
     "iopub.status.busy": "2022-11-16T14:56:02.381762Z",
     "iopub.status.idle": "2022-11-16T14:56:02.421051Z",
     "shell.execute_reply": "2022-11-16T14:56:02.419415Z"
    },
    "papermill": {
     "duration": 0.061926,
     "end_time": "2022-11-16T14:56:02.424311",
     "exception": false,
     "start_time": "2022-11-16T14:56:02.362385",
     "status": "completed"
    },
    "tags": []
   },
   "outputs": [
    {
     "name": "stdout",
     "output_type": "stream",
     "text": [
      "<class 'pandas.core.frame.DataFrame'>\n",
      "RangeIndex: 3000 entries, 0 to 2999\n",
      "Data columns (total 23 columns):\n",
      " #   Column                 Non-Null Count  Dtype  \n",
      "---  ------                 --------------  -----  \n",
      " 0   id                     3000 non-null   int64  \n",
      " 1   belongs_to_collection  604 non-null    object \n",
      " 2   budget                 3000 non-null   int64  \n",
      " 3   genres                 2993 non-null   object \n",
      " 4   homepage               946 non-null    object \n",
      " 5   imdb_id                3000 non-null   object \n",
      " 6   original_language      3000 non-null   object \n",
      " 7   original_title         3000 non-null   object \n",
      " 8   overview               2992 non-null   object \n",
      " 9   popularity             3000 non-null   float64\n",
      " 10  poster_path            2999 non-null   object \n",
      " 11  production_companies   2844 non-null   object \n",
      " 12  production_countries   2945 non-null   object \n",
      " 13  release_date           3000 non-null   object \n",
      " 14  runtime                2998 non-null   float64\n",
      " 15  spoken_languages       2980 non-null   object \n",
      " 16  status                 3000 non-null   object \n",
      " 17  tagline                2403 non-null   object \n",
      " 18  title                  3000 non-null   object \n",
      " 19  Keywords               2724 non-null   object \n",
      " 20  cast                   2987 non-null   object \n",
      " 21  crew                   2984 non-null   object \n",
      " 22  revenue                3000 non-null   int64  \n",
      "dtypes: float64(2), int64(3), object(18)\n",
      "memory usage: 539.2+ KB\n"
     ]
    }
   ],
   "source": [
    "train.info()"
   ]
  },
  {
   "cell_type": "code",
   "execution_count": 6,
   "id": "848beabe",
   "metadata": {
    "execution": {
     "iopub.execute_input": "2022-11-16T14:56:02.477732Z",
     "iopub.status.busy": "2022-11-16T14:56:02.476655Z",
     "iopub.status.idle": "2022-11-16T14:56:02.593806Z",
     "shell.execute_reply": "2022-11-16T14:56:02.592578Z"
    },
    "papermill": {
     "duration": 0.143506,
     "end_time": "2022-11-16T14:56:02.596213",
     "exception": false,
     "start_time": "2022-11-16T14:56:02.452707",
     "status": "completed"
    },
    "tags": []
   },
   "outputs": [
    {
     "data": {
      "text/html": [
       "<div>\n",
       "<style scoped>\n",
       "    .dataframe tbody tr th:only-of-type {\n",
       "        vertical-align: middle;\n",
       "    }\n",
       "\n",
       "    .dataframe tbody tr th {\n",
       "        vertical-align: top;\n",
       "    }\n",
       "\n",
       "    .dataframe thead th {\n",
       "        text-align: right;\n",
       "    }\n",
       "</style>\n",
       "<table border=\"1\" class=\"dataframe\">\n",
       "  <thead>\n",
       "    <tr style=\"text-align: right;\">\n",
       "      <th></th>\n",
       "      <th>id</th>\n",
       "      <th>belongs_to_collection</th>\n",
       "      <th>budget</th>\n",
       "      <th>genres</th>\n",
       "      <th>homepage</th>\n",
       "      <th>imdb_id</th>\n",
       "      <th>original_language</th>\n",
       "      <th>original_title</th>\n",
       "      <th>overview</th>\n",
       "      <th>popularity</th>\n",
       "      <th>...</th>\n",
       "      <th>release_date</th>\n",
       "      <th>runtime</th>\n",
       "      <th>spoken_languages</th>\n",
       "      <th>status</th>\n",
       "      <th>tagline</th>\n",
       "      <th>title</th>\n",
       "      <th>Keywords</th>\n",
       "      <th>cast</th>\n",
       "      <th>crew</th>\n",
       "      <th>revenue</th>\n",
       "    </tr>\n",
       "  </thead>\n",
       "  <tbody>\n",
       "    <tr>\n",
       "      <th>count</th>\n",
       "      <td>3000.000000</td>\n",
       "      <td>604</td>\n",
       "      <td>3.000000e+03</td>\n",
       "      <td>2993</td>\n",
       "      <td>946</td>\n",
       "      <td>3000</td>\n",
       "      <td>3000</td>\n",
       "      <td>3000</td>\n",
       "      <td>2992</td>\n",
       "      <td>3000.000000</td>\n",
       "      <td>...</td>\n",
       "      <td>3000</td>\n",
       "      <td>2998.000000</td>\n",
       "      <td>2980</td>\n",
       "      <td>3000</td>\n",
       "      <td>2403</td>\n",
       "      <td>3000</td>\n",
       "      <td>2724</td>\n",
       "      <td>2987</td>\n",
       "      <td>2984</td>\n",
       "      <td>3.000000e+03</td>\n",
       "    </tr>\n",
       "    <tr>\n",
       "      <th>unique</th>\n",
       "      <td>NaN</td>\n",
       "      <td>422</td>\n",
       "      <td>NaN</td>\n",
       "      <td>872</td>\n",
       "      <td>941</td>\n",
       "      <td>3000</td>\n",
       "      <td>36</td>\n",
       "      <td>2975</td>\n",
       "      <td>2992</td>\n",
       "      <td>NaN</td>\n",
       "      <td>...</td>\n",
       "      <td>2398</td>\n",
       "      <td>NaN</td>\n",
       "      <td>401</td>\n",
       "      <td>2</td>\n",
       "      <td>2400</td>\n",
       "      <td>2969</td>\n",
       "      <td>2648</td>\n",
       "      <td>2975</td>\n",
       "      <td>2984</td>\n",
       "      <td>NaN</td>\n",
       "    </tr>\n",
       "    <tr>\n",
       "      <th>top</th>\n",
       "      <td>NaN</td>\n",
       "      <td>[{'id': 645, 'name': 'James Bond Collection', ...</td>\n",
       "      <td>NaN</td>\n",
       "      <td>[{'id': 18, 'name': 'Drama'}]</td>\n",
       "      <td>http://www.transformersmovie.com/</td>\n",
       "      <td>tt2637294</td>\n",
       "      <td>en</td>\n",
       "      <td>Joshua</td>\n",
       "      <td>When Lou, who has become the \"father of the In...</td>\n",
       "      <td>NaN</td>\n",
       "      <td>...</td>\n",
       "      <td>9/10/10</td>\n",
       "      <td>NaN</td>\n",
       "      <td>[{'iso_639_1': 'en', 'name': 'English'}]</td>\n",
       "      <td>Released</td>\n",
       "      <td>Based on a true story.</td>\n",
       "      <td>The Magnificent Seven</td>\n",
       "      <td>[{'id': 10183, 'name': 'independent film'}]</td>\n",
       "      <td>[]</td>\n",
       "      <td>[{'credit_id': '59ac067c92514107af02c8c8', 'de...</td>\n",
       "      <td>NaN</td>\n",
       "    </tr>\n",
       "    <tr>\n",
       "      <th>freq</th>\n",
       "      <td>NaN</td>\n",
       "      <td>16</td>\n",
       "      <td>NaN</td>\n",
       "      <td>266</td>\n",
       "      <td>4</td>\n",
       "      <td>1</td>\n",
       "      <td>2575</td>\n",
       "      <td>2</td>\n",
       "      <td>1</td>\n",
       "      <td>NaN</td>\n",
       "      <td>...</td>\n",
       "      <td>5</td>\n",
       "      <td>NaN</td>\n",
       "      <td>1817</td>\n",
       "      <td>2996</td>\n",
       "      <td>3</td>\n",
       "      <td>2</td>\n",
       "      <td>27</td>\n",
       "      <td>13</td>\n",
       "      <td>1</td>\n",
       "      <td>NaN</td>\n",
       "    </tr>\n",
       "    <tr>\n",
       "      <th>mean</th>\n",
       "      <td>1500.500000</td>\n",
       "      <td>NaN</td>\n",
       "      <td>2.253133e+07</td>\n",
       "      <td>NaN</td>\n",
       "      <td>NaN</td>\n",
       "      <td>NaN</td>\n",
       "      <td>NaN</td>\n",
       "      <td>NaN</td>\n",
       "      <td>NaN</td>\n",
       "      <td>8.463274</td>\n",
       "      <td>...</td>\n",
       "      <td>NaN</td>\n",
       "      <td>107.856571</td>\n",
       "      <td>NaN</td>\n",
       "      <td>NaN</td>\n",
       "      <td>NaN</td>\n",
       "      <td>NaN</td>\n",
       "      <td>NaN</td>\n",
       "      <td>NaN</td>\n",
       "      <td>NaN</td>\n",
       "      <td>6.672585e+07</td>\n",
       "    </tr>\n",
       "    <tr>\n",
       "      <th>std</th>\n",
       "      <td>866.169729</td>\n",
       "      <td>NaN</td>\n",
       "      <td>3.702609e+07</td>\n",
       "      <td>NaN</td>\n",
       "      <td>NaN</td>\n",
       "      <td>NaN</td>\n",
       "      <td>NaN</td>\n",
       "      <td>NaN</td>\n",
       "      <td>NaN</td>\n",
       "      <td>12.104000</td>\n",
       "      <td>...</td>\n",
       "      <td>NaN</td>\n",
       "      <td>22.086434</td>\n",
       "      <td>NaN</td>\n",
       "      <td>NaN</td>\n",
       "      <td>NaN</td>\n",
       "      <td>NaN</td>\n",
       "      <td>NaN</td>\n",
       "      <td>NaN</td>\n",
       "      <td>NaN</td>\n",
       "      <td>1.375323e+08</td>\n",
       "    </tr>\n",
       "    <tr>\n",
       "      <th>min</th>\n",
       "      <td>1.000000</td>\n",
       "      <td>NaN</td>\n",
       "      <td>0.000000e+00</td>\n",
       "      <td>NaN</td>\n",
       "      <td>NaN</td>\n",
       "      <td>NaN</td>\n",
       "      <td>NaN</td>\n",
       "      <td>NaN</td>\n",
       "      <td>NaN</td>\n",
       "      <td>0.000001</td>\n",
       "      <td>...</td>\n",
       "      <td>NaN</td>\n",
       "      <td>0.000000</td>\n",
       "      <td>NaN</td>\n",
       "      <td>NaN</td>\n",
       "      <td>NaN</td>\n",
       "      <td>NaN</td>\n",
       "      <td>NaN</td>\n",
       "      <td>NaN</td>\n",
       "      <td>NaN</td>\n",
       "      <td>1.000000e+00</td>\n",
       "    </tr>\n",
       "    <tr>\n",
       "      <th>25%</th>\n",
       "      <td>750.750000</td>\n",
       "      <td>NaN</td>\n",
       "      <td>0.000000e+00</td>\n",
       "      <td>NaN</td>\n",
       "      <td>NaN</td>\n",
       "      <td>NaN</td>\n",
       "      <td>NaN</td>\n",
       "      <td>NaN</td>\n",
       "      <td>NaN</td>\n",
       "      <td>4.018053</td>\n",
       "      <td>...</td>\n",
       "      <td>NaN</td>\n",
       "      <td>94.000000</td>\n",
       "      <td>NaN</td>\n",
       "      <td>NaN</td>\n",
       "      <td>NaN</td>\n",
       "      <td>NaN</td>\n",
       "      <td>NaN</td>\n",
       "      <td>NaN</td>\n",
       "      <td>NaN</td>\n",
       "      <td>2.379808e+06</td>\n",
       "    </tr>\n",
       "    <tr>\n",
       "      <th>50%</th>\n",
       "      <td>1500.500000</td>\n",
       "      <td>NaN</td>\n",
       "      <td>8.000000e+06</td>\n",
       "      <td>NaN</td>\n",
       "      <td>NaN</td>\n",
       "      <td>NaN</td>\n",
       "      <td>NaN</td>\n",
       "      <td>NaN</td>\n",
       "      <td>NaN</td>\n",
       "      <td>7.374861</td>\n",
       "      <td>...</td>\n",
       "      <td>NaN</td>\n",
       "      <td>104.000000</td>\n",
       "      <td>NaN</td>\n",
       "      <td>NaN</td>\n",
       "      <td>NaN</td>\n",
       "      <td>NaN</td>\n",
       "      <td>NaN</td>\n",
       "      <td>NaN</td>\n",
       "      <td>NaN</td>\n",
       "      <td>1.680707e+07</td>\n",
       "    </tr>\n",
       "    <tr>\n",
       "      <th>75%</th>\n",
       "      <td>2250.250000</td>\n",
       "      <td>NaN</td>\n",
       "      <td>2.900000e+07</td>\n",
       "      <td>NaN</td>\n",
       "      <td>NaN</td>\n",
       "      <td>NaN</td>\n",
       "      <td>NaN</td>\n",
       "      <td>NaN</td>\n",
       "      <td>NaN</td>\n",
       "      <td>10.890983</td>\n",
       "      <td>...</td>\n",
       "      <td>NaN</td>\n",
       "      <td>118.000000</td>\n",
       "      <td>NaN</td>\n",
       "      <td>NaN</td>\n",
       "      <td>NaN</td>\n",
       "      <td>NaN</td>\n",
       "      <td>NaN</td>\n",
       "      <td>NaN</td>\n",
       "      <td>NaN</td>\n",
       "      <td>6.891920e+07</td>\n",
       "    </tr>\n",
       "    <tr>\n",
       "      <th>max</th>\n",
       "      <td>3000.000000</td>\n",
       "      <td>NaN</td>\n",
       "      <td>3.800000e+08</td>\n",
       "      <td>NaN</td>\n",
       "      <td>NaN</td>\n",
       "      <td>NaN</td>\n",
       "      <td>NaN</td>\n",
       "      <td>NaN</td>\n",
       "      <td>NaN</td>\n",
       "      <td>294.337037</td>\n",
       "      <td>...</td>\n",
       "      <td>NaN</td>\n",
       "      <td>338.000000</td>\n",
       "      <td>NaN</td>\n",
       "      <td>NaN</td>\n",
       "      <td>NaN</td>\n",
       "      <td>NaN</td>\n",
       "      <td>NaN</td>\n",
       "      <td>NaN</td>\n",
       "      <td>NaN</td>\n",
       "      <td>1.519558e+09</td>\n",
       "    </tr>\n",
       "  </tbody>\n",
       "</table>\n",
       "<p>11 rows × 23 columns</p>\n",
       "</div>"
      ],
      "text/plain": [
       "                 id                              belongs_to_collection  \\\n",
       "count   3000.000000                                                604   \n",
       "unique          NaN                                                422   \n",
       "top             NaN  [{'id': 645, 'name': 'James Bond Collection', ...   \n",
       "freq            NaN                                                 16   \n",
       "mean    1500.500000                                                NaN   \n",
       "std      866.169729                                                NaN   \n",
       "min        1.000000                                                NaN   \n",
       "25%      750.750000                                                NaN   \n",
       "50%     1500.500000                                                NaN   \n",
       "75%     2250.250000                                                NaN   \n",
       "max     3000.000000                                                NaN   \n",
       "\n",
       "              budget                         genres  \\\n",
       "count   3.000000e+03                           2993   \n",
       "unique           NaN                            872   \n",
       "top              NaN  [{'id': 18, 'name': 'Drama'}]   \n",
       "freq             NaN                            266   \n",
       "mean    2.253133e+07                            NaN   \n",
       "std     3.702609e+07                            NaN   \n",
       "min     0.000000e+00                            NaN   \n",
       "25%     0.000000e+00                            NaN   \n",
       "50%     8.000000e+06                            NaN   \n",
       "75%     2.900000e+07                            NaN   \n",
       "max     3.800000e+08                            NaN   \n",
       "\n",
       "                                 homepage    imdb_id original_language  \\\n",
       "count                                 946       3000              3000   \n",
       "unique                                941       3000                36   \n",
       "top     http://www.transformersmovie.com/  tt2637294                en   \n",
       "freq                                    4          1              2575   \n",
       "mean                                  NaN        NaN               NaN   \n",
       "std                                   NaN        NaN               NaN   \n",
       "min                                   NaN        NaN               NaN   \n",
       "25%                                   NaN        NaN               NaN   \n",
       "50%                                   NaN        NaN               NaN   \n",
       "75%                                   NaN        NaN               NaN   \n",
       "max                                   NaN        NaN               NaN   \n",
       "\n",
       "       original_title                                           overview  \\\n",
       "count            3000                                               2992   \n",
       "unique           2975                                               2992   \n",
       "top            Joshua  When Lou, who has become the \"father of the In...   \n",
       "freq                2                                                  1   \n",
       "mean              NaN                                                NaN   \n",
       "std               NaN                                                NaN   \n",
       "min               NaN                                                NaN   \n",
       "25%               NaN                                                NaN   \n",
       "50%               NaN                                                NaN   \n",
       "75%               NaN                                                NaN   \n",
       "max               NaN                                                NaN   \n",
       "\n",
       "         popularity  ... release_date      runtime  \\\n",
       "count   3000.000000  ...         3000  2998.000000   \n",
       "unique          NaN  ...         2398          NaN   \n",
       "top             NaN  ...      9/10/10          NaN   \n",
       "freq            NaN  ...            5          NaN   \n",
       "mean       8.463274  ...          NaN   107.856571   \n",
       "std       12.104000  ...          NaN    22.086434   \n",
       "min        0.000001  ...          NaN     0.000000   \n",
       "25%        4.018053  ...          NaN    94.000000   \n",
       "50%        7.374861  ...          NaN   104.000000   \n",
       "75%       10.890983  ...          NaN   118.000000   \n",
       "max      294.337037  ...          NaN   338.000000   \n",
       "\n",
       "                                spoken_languages    status  \\\n",
       "count                                       2980      3000   \n",
       "unique                                       401         2   \n",
       "top     [{'iso_639_1': 'en', 'name': 'English'}]  Released   \n",
       "freq                                        1817      2996   \n",
       "mean                                         NaN       NaN   \n",
       "std                                          NaN       NaN   \n",
       "min                                          NaN       NaN   \n",
       "25%                                          NaN       NaN   \n",
       "50%                                          NaN       NaN   \n",
       "75%                                          NaN       NaN   \n",
       "max                                          NaN       NaN   \n",
       "\n",
       "                       tagline                  title  \\\n",
       "count                     2403                   3000   \n",
       "unique                    2400                   2969   \n",
       "top     Based on a true story.  The Magnificent Seven   \n",
       "freq                         3                      2   \n",
       "mean                       NaN                    NaN   \n",
       "std                        NaN                    NaN   \n",
       "min                        NaN                    NaN   \n",
       "25%                        NaN                    NaN   \n",
       "50%                        NaN                    NaN   \n",
       "75%                        NaN                    NaN   \n",
       "max                        NaN                    NaN   \n",
       "\n",
       "                                           Keywords  cast  \\\n",
       "count                                          2724  2987   \n",
       "unique                                         2648  2975   \n",
       "top     [{'id': 10183, 'name': 'independent film'}]    []   \n",
       "freq                                             27    13   \n",
       "mean                                            NaN   NaN   \n",
       "std                                             NaN   NaN   \n",
       "min                                             NaN   NaN   \n",
       "25%                                             NaN   NaN   \n",
       "50%                                             NaN   NaN   \n",
       "75%                                             NaN   NaN   \n",
       "max                                             NaN   NaN   \n",
       "\n",
       "                                                     crew       revenue  \n",
       "count                                                2984  3.000000e+03  \n",
       "unique                                               2984           NaN  \n",
       "top     [{'credit_id': '59ac067c92514107af02c8c8', 'de...           NaN  \n",
       "freq                                                    1           NaN  \n",
       "mean                                                  NaN  6.672585e+07  \n",
       "std                                                   NaN  1.375323e+08  \n",
       "min                                                   NaN  1.000000e+00  \n",
       "25%                                                   NaN  2.379808e+06  \n",
       "50%                                                   NaN  1.680707e+07  \n",
       "75%                                                   NaN  6.891920e+07  \n",
       "max                                                   NaN  1.519558e+09  \n",
       "\n",
       "[11 rows x 23 columns]"
      ]
     },
     "execution_count": 6,
     "metadata": {},
     "output_type": "execute_result"
    }
   ],
   "source": [
    "train.describe(include='all')"
   ]
  },
  {
   "cell_type": "code",
   "execution_count": 7,
   "id": "e69a0fba",
   "metadata": {
    "execution": {
     "iopub.execute_input": "2022-11-16T14:56:02.636685Z",
     "iopub.status.busy": "2022-11-16T14:56:02.635378Z",
     "iopub.status.idle": "2022-11-16T14:56:02.925110Z",
     "shell.execute_reply": "2022-11-16T14:56:02.923787Z"
    },
    "papermill": {
     "duration": 0.313878,
     "end_time": "2022-11-16T14:56:02.929012",
     "exception": false,
     "start_time": "2022-11-16T14:56:02.615134",
     "status": "completed"
    },
    "tags": []
   },
   "outputs": [
    {
     "data": {
      "text/plain": [
       "<AxesSubplot:>"
      ]
     },
     "execution_count": 7,
     "metadata": {},
     "output_type": "execute_result"
    },
    {
     "data": {
      "image/png": "[encoded data removed]",
      "text/plain": [
       "<Figure size 432x288 with 1 Axes>"
      ]
     },
     "metadata": {
      "needs_background": "light"
     },
     "output_type": "display_data"
    }
   ],
   "source": [
    "train.revenue.hist()"
   ]
  },
  {
   "cell_type": "code",
   "execution_count": 8,
   "id": "0587b1c1",
   "metadata": {
    "execution": {
     "iopub.execute_input": "2022-11-16T14:56:02.969940Z",
     "iopub.status.busy": "2022-11-16T14:56:02.968799Z",
     "iopub.status.idle": "2022-11-16T14:56:02.996197Z",
     "shell.execute_reply": "2022-11-16T14:56:02.995072Z"
    },
    "papermill": {
     "duration": 0.050129,
     "end_time": "2022-11-16T14:56:02.998491",
     "exception": false,
     "start_time": "2022-11-16T14:56:02.948362",
     "status": "completed"
    },
    "tags": []
   },
   "outputs": [
    {
     "data": {
      "text/html": [
       "<div>\n",
       "<style scoped>\n",
       "    .dataframe tbody tr th:only-of-type {\n",
       "        vertical-align: middle;\n",
       "    }\n",
       "\n",
       "    .dataframe tbody tr th {\n",
       "        vertical-align: top;\n",
       "    }\n",
       "\n",
       "    .dataframe thead th {\n",
       "        text-align: right;\n",
       "    }\n",
       "</style>\n",
       "<table border=\"1\" class=\"dataframe\">\n",
       "  <thead>\n",
       "    <tr style=\"text-align: right;\">\n",
       "      <th></th>\n",
       "      <th>id</th>\n",
       "      <th>belongs_to_collection</th>\n",
       "      <th>budget</th>\n",
       "      <th>genres</th>\n",
       "      <th>homepage</th>\n",
       "      <th>imdb_id</th>\n",
       "      <th>original_language</th>\n",
       "      <th>original_title</th>\n",
       "      <th>overview</th>\n",
       "      <th>popularity</th>\n",
       "      <th>...</th>\n",
       "      <th>production_countries</th>\n",
       "      <th>release_date</th>\n",
       "      <th>runtime</th>\n",
       "      <th>spoken_languages</th>\n",
       "      <th>status</th>\n",
       "      <th>tagline</th>\n",
       "      <th>title</th>\n",
       "      <th>Keywords</th>\n",
       "      <th>cast</th>\n",
       "      <th>crew</th>\n",
       "    </tr>\n",
       "  </thead>\n",
       "  <tbody>\n",
       "    <tr>\n",
       "      <th>0</th>\n",
       "      <td>3001</td>\n",
       "      <td>[{'id': 34055, 'name': 'Pokémon Collection', '...</td>\n",
       "      <td>0</td>\n",
       "      <td>[{'id': 12, 'name': 'Adventure'}, {'id': 16, '...</td>\n",
       "      <td>http://www.pokemon.com/us/movies/movie-pokemon...</td>\n",
       "      <td>tt1226251</td>\n",
       "      <td>ja</td>\n",
       "      <td>ディアルガVSパルキアVSダークライ</td>\n",
       "      <td>Ash and friends (this time accompanied by newc...</td>\n",
       "      <td>3.851534</td>\n",
       "      <td>...</td>\n",
       "      <td>[{'iso_3166_1': 'JP', 'name': 'Japan'}, {'iso_...</td>\n",
       "      <td>7/14/07</td>\n",
       "      <td>90.0</td>\n",
       "      <td>[{'iso_639_1': 'en', 'name': 'English'}, {'iso...</td>\n",
       "      <td>Released</td>\n",
       "      <td>Somewhere Between Time &amp; Space... A Legend Is ...</td>\n",
       "      <td>Pokémon: The Rise of Darkrai</td>\n",
       "      <td>[{'id': 11451, 'name': 'pok√©mon'}, {'id': 115...</td>\n",
       "      <td>[{'cast_id': 3, 'character': 'Tonio', 'credit_...</td>\n",
       "      <td>[{'credit_id': '52fe44e7c3a368484e03d683', 'de...</td>\n",
       "    </tr>\n",
       "    <tr>\n",
       "      <th>1</th>\n",
       "      <td>3002</td>\n",
       "      <td>NaN</td>\n",
       "      <td>88000</td>\n",
       "      <td>[{'id': 27, 'name': 'Horror'}, {'id': 878, 'na...</td>\n",
       "      <td>NaN</td>\n",
       "      <td>tt0051380</td>\n",
       "      <td>en</td>\n",
       "      <td>Attack of the 50 Foot Woman</td>\n",
       "      <td>When an abused wife grows to giant size becaus...</td>\n",
       "      <td>3.559789</td>\n",
       "      <td>...</td>\n",
       "      <td>[{'iso_3166_1': 'US', 'name': 'United States o...</td>\n",
       "      <td>5/19/58</td>\n",
       "      <td>65.0</td>\n",
       "      <td>[{'iso_639_1': 'en', 'name': 'English'}]</td>\n",
       "      <td>Released</td>\n",
       "      <td>A titanic beauty spreads a macabre wave of hor...</td>\n",
       "      <td>Attack of the 50 Foot Woman</td>\n",
       "      <td>[{'id': 9748, 'name': 'revenge'}, {'id': 9951,...</td>\n",
       "      <td>[{'cast_id': 2, 'character': 'Nancy Fowler Arc...</td>\n",
       "      <td>[{'credit_id': '55807805c3a3685b1300060b', 'de...</td>\n",
       "    </tr>\n",
       "    <tr>\n",
       "      <th>2</th>\n",
       "      <td>3003</td>\n",
       "      <td>NaN</td>\n",
       "      <td>0</td>\n",
       "      <td>[{'id': 35, 'name': 'Comedy'}, {'id': 10749, '...</td>\n",
       "      <td>NaN</td>\n",
       "      <td>tt0118556</td>\n",
       "      <td>en</td>\n",
       "      <td>Addicted to Love</td>\n",
       "      <td>Good-natured astronomer Sam is devastated when...</td>\n",
       "      <td>8.085194</td>\n",
       "      <td>...</td>\n",
       "      <td>[{'iso_3166_1': 'US', 'name': 'United States o...</td>\n",
       "      <td>5/23/97</td>\n",
       "      <td>100.0</td>\n",
       "      <td>[{'iso_639_1': 'en', 'name': 'English'}]</td>\n",
       "      <td>Released</td>\n",
       "      <td>A Comedy About Lost Loves And Last Laughs</td>\n",
       "      <td>Addicted to Love</td>\n",
       "      <td>[{'id': 931, 'name': 'jealousy'}, {'id': 9673,...</td>\n",
       "      <td>[{'cast_id': 11, 'character': 'Maggie', 'credi...</td>\n",
       "      <td>[{'credit_id': '52fe4330c3a36847f8041367', 'de...</td>\n",
       "    </tr>\n",
       "    <tr>\n",
       "      <th>3</th>\n",
       "      <td>3004</td>\n",
       "      <td>NaN</td>\n",
       "      <td>6800000</td>\n",
       "      <td>[{'id': 18, 'name': 'Drama'}, {'id': 10752, 'n...</td>\n",
       "      <td>http://www.sonyclassics.com/incendies/</td>\n",
       "      <td>tt1255953</td>\n",
       "      <td>fr</td>\n",
       "      <td>Incendies</td>\n",
       "      <td>A mother's last wishes send twins Jeanne and S...</td>\n",
       "      <td>8.596012</td>\n",
       "      <td>...</td>\n",
       "      <td>[{'iso_3166_1': 'CA', 'name': 'Canada'}, {'iso...</td>\n",
       "      <td>9/4/10</td>\n",
       "      <td>130.0</td>\n",
       "      <td>[{'iso_639_1': 'fr', 'name': 'Français'}, {'is...</td>\n",
       "      <td>Released</td>\n",
       "      <td>The search began at the opening of their mothe...</td>\n",
       "      <td>Incendies</td>\n",
       "      <td>[{'id': 378, 'name': 'prison'}, {'id': 539, 'n...</td>\n",
       "      <td>[{'cast_id': 6, 'character': 'Nawal', 'credit_...</td>\n",
       "      <td>[{'credit_id': '56478092c3a36826140043af', 'de...</td>\n",
       "    </tr>\n",
       "    <tr>\n",
       "      <th>4</th>\n",
       "      <td>3005</td>\n",
       "      <td>NaN</td>\n",
       "      <td>2000000</td>\n",
       "      <td>[{'id': 36, 'name': 'History'}, {'id': 99, 'na...</td>\n",
       "      <td>NaN</td>\n",
       "      <td>tt0418753</td>\n",
       "      <td>en</td>\n",
       "      <td>Inside Deep Throat</td>\n",
       "      <td>In 1972, a seemingly typical shoestring budget...</td>\n",
       "      <td>3.217680</td>\n",
       "      <td>...</td>\n",
       "      <td>[{'iso_3166_1': 'US', 'name': 'United States o...</td>\n",
       "      <td>2/11/05</td>\n",
       "      <td>92.0</td>\n",
       "      <td>[{'iso_639_1': 'en', 'name': 'English'}]</td>\n",
       "      <td>Released</td>\n",
       "      <td>It was filmed in 6 days for 25 thousand dollar...</td>\n",
       "      <td>Inside Deep Throat</td>\n",
       "      <td>[{'id': 279, 'name': 'usa'}, {'id': 1228, 'nam...</td>\n",
       "      <td>[{'cast_id': 1, 'character': 'Narrator (voice)...</td>\n",
       "      <td>[{'credit_id': '52fe44ce9251416c75041967', 'de...</td>\n",
       "    </tr>\n",
       "  </tbody>\n",
       "</table>\n",
       "<p>5 rows × 22 columns</p>\n",
       "</div>"
      ],
      "text/plain": [
       "     id                              belongs_to_collection   budget  \\\n",
       "0  3001  [{'id': 34055, 'name': 'Pokémon Collection', '...        0   \n",
       "1  3002                                                NaN    88000   \n",
       "2  3003                                                NaN        0   \n",
       "3  3004                                                NaN  6800000   \n",
       "4  3005                                                NaN  2000000   \n",
       "\n",
       "                                              genres  \\\n",
       "0  [{'id': 12, 'name': 'Adventure'}, {'id': 16, '...   \n",
       "1  [{'id': 27, 'name': 'Horror'}, {'id': 878, 'na...   \n",
       "2  [{'id': 35, 'name': 'Comedy'}, {'id': 10749, '...   \n",
       "3  [{'id': 18, 'name': 'Drama'}, {'id': 10752, 'n...   \n",
       "4  [{'id': 36, 'name': 'History'}, {'id': 99, 'na...   \n",
       "\n",
       "                                            homepage    imdb_id  \\\n",
       "0  http://www.pokemon.com/us/movies/movie-pokemon...  tt1226251   \n",
       "1                                                NaN  tt0051380   \n",
       "2                                                NaN  tt0118556   \n",
       "3             http://www.sonyclassics.com/incendies/  tt1255953   \n",
       "4                                                NaN  tt0418753   \n",
       "\n",
       "  original_language               original_title  \\\n",
       "0                ja           ディアルガVSパルキアVSダークライ   \n",
       "1                en  Attack of the 50 Foot Woman   \n",
       "2                en             Addicted to Love   \n",
       "3                fr                    Incendies   \n",
       "4                en           Inside Deep Throat   \n",
       "\n",
       "                                            overview  popularity  ...  \\\n",
       "0  Ash and friends (this time accompanied by newc...    3.851534  ...   \n",
       "1  When an abused wife grows to giant size becaus...    3.559789  ...   \n",
       "2  Good-natured astronomer Sam is devastated when...    8.085194  ...   \n",
       "3  A mother's last wishes send twins Jeanne and S...    8.596012  ...   \n",
       "4  In 1972, a seemingly typical shoestring budget...    3.217680  ...   \n",
       "\n",
       "                                production_countries release_date runtime  \\\n",
       "0  [{'iso_3166_1': 'JP', 'name': 'Japan'}, {'iso_...      7/14/07    90.0   \n",
       "1  [{'iso_3166_1': 'US', 'name': 'United States o...      5/19/58    65.0   \n",
       "2  [{'iso_3166_1': 'US', 'name': 'United States o...      5/23/97   100.0   \n",
       "3  [{'iso_3166_1': 'CA', 'name': 'Canada'}, {'iso...       9/4/10   130.0   \n",
       "4  [{'iso_3166_1': 'US', 'name': 'United States o...      2/11/05    92.0   \n",
       "\n",
       "                                    spoken_languages    status  \\\n",
       "0  [{'iso_639_1': 'en', 'name': 'English'}, {'iso...  Released   \n",
       "1           [{'iso_639_1': 'en', 'name': 'English'}]  Released   \n",
       "2           [{'iso_639_1': 'en', 'name': 'English'}]  Released   \n",
       "3  [{'iso_639_1': 'fr', 'name': 'Français'}, {'is...  Released   \n",
       "4           [{'iso_639_1': 'en', 'name': 'English'}]  Released   \n",
       "\n",
       "                                             tagline  \\\n",
       "0  Somewhere Between Time & Space... A Legend Is ...   \n",
       "1  A titanic beauty spreads a macabre wave of hor...   \n",
       "2          A Comedy About Lost Loves And Last Laughs   \n",
       "3  The search began at the opening of their mothe...   \n",
       "4  It was filmed in 6 days for 25 thousand dollar...   \n",
       "\n",
       "                          title  \\\n",
       "0  Pokémon: The Rise of Darkrai   \n",
       "1   Attack of the 50 Foot Woman   \n",
       "2              Addicted to Love   \n",
       "3                     Incendies   \n",
       "4            Inside Deep Throat   \n",
       "\n",
       "                                            Keywords  \\\n",
       "0  [{'id': 11451, 'name': 'pok√©mon'}, {'id': 115...   \n",
       "1  [{'id': 9748, 'name': 'revenge'}, {'id': 9951,...   \n",
       "2  [{'id': 931, 'name': 'jealousy'}, {'id': 9673,...   \n",
       "3  [{'id': 378, 'name': 'prison'}, {'id': 539, 'n...   \n",
       "4  [{'id': 279, 'name': 'usa'}, {'id': 1228, 'nam...   \n",
       "\n",
       "                                                cast  \\\n",
       "0  [{'cast_id': 3, 'character': 'Tonio', 'credit_...   \n",
       "1  [{'cast_id': 2, 'character': 'Nancy Fowler Arc...   \n",
       "2  [{'cast_id': 11, 'character': 'Maggie', 'credi...   \n",
       "3  [{'cast_id': 6, 'character': 'Nawal', 'credit_...   \n",
       "4  [{'cast_id': 1, 'character': 'Narrator (voice)...   \n",
       "\n",
       "                                                crew  \n",
       "0  [{'credit_id': '52fe44e7c3a368484e03d683', 'de...  \n",
       "1  [{'credit_id': '55807805c3a3685b1300060b', 'de...  \n",
       "2  [{'credit_id': '52fe4330c3a36847f8041367', 'de...  \n",
       "3  [{'credit_id': '56478092c3a36826140043af', 'de...  \n",
       "4  [{'credit_id': '52fe44ce9251416c75041967', 'de...  \n",
       "\n",
       "[5 rows x 22 columns]"
      ]
     },
     "execution_count": 8,
     "metadata": {},
     "output_type": "execute_result"
    }
   ],
   "source": [
    "test.head()"
   ]
  },
  {
   "cell_type": "code",
   "execution_count": 9,
   "id": "294154e2",
   "metadata": {
    "execution": {
     "iopub.execute_input": "2022-11-16T14:56:03.040161Z",
     "iopub.status.busy": "2022-11-16T14:56:03.039378Z",
     "iopub.status.idle": "2022-11-16T14:56:03.059121Z",
     "shell.execute_reply": "2022-11-16T14:56:03.057878Z"
    },
    "papermill": {
     "duration": 0.04325,
     "end_time": "2022-11-16T14:56:03.061671",
     "exception": false,
     "start_time": "2022-11-16T14:56:03.018421",
     "status": "completed"
    },
    "tags": []
   },
   "outputs": [
    {
     "name": "stdout",
     "output_type": "stream",
     "text": [
      "<class 'pandas.core.frame.DataFrame'>\n",
      "RangeIndex: 4398 entries, 0 to 4397\n",
      "Data columns (total 22 columns):\n",
      " #   Column                 Non-Null Count  Dtype  \n",
      "---  ------                 --------------  -----  \n",
      " 0   id                     4398 non-null   int64  \n",
      " 1   belongs_to_collection  877 non-null    object \n",
      " 2   budget                 4398 non-null   int64  \n",
      " 3   genres                 4382 non-null   object \n",
      " 4   homepage               1420 non-null   object \n",
      " 5   imdb_id                4398 non-null   object \n",
      " 6   original_language      4398 non-null   object \n",
      " 7   original_title         4398 non-null   object \n",
      " 8   overview               4384 non-null   object \n",
      " 9   popularity             4398 non-null   float64\n",
      " 10  poster_path            4397 non-null   object \n",
      " 11  production_companies   4140 non-null   object \n",
      " 12  production_countries   4296 non-null   object \n",
      " 13  release_date           4397 non-null   object \n",
      " 14  runtime                4394 non-null   float64\n",
      " 15  spoken_languages       4356 non-null   object \n",
      " 16  status                 4396 non-null   object \n",
      " 17  tagline                3535 non-null   object \n",
      " 18  title                  4395 non-null   object \n",
      " 19  Keywords               4005 non-null   object \n",
      " 20  cast                   4385 non-null   object \n",
      " 21  crew                   4376 non-null   object \n",
      "dtypes: float64(2), int64(2), object(18)\n",
      "memory usage: 756.0+ KB\n"
     ]
    }
   ],
   "source": [
    "test.info()"
   ]
  },
  {
   "cell_type": "markdown",
   "id": "95f38cca",
   "metadata": {
    "papermill": {
     "duration": 0.019239,
     "end_time": "2022-11-16T14:56:03.100816",
     "exception": false,
     "start_time": "2022-11-16T14:56:03.081577",
     "status": "completed"
    },
    "tags": []
   },
   "source": [
    "# Explore data"
   ]
  },
  {
   "cell_type": "markdown",
   "id": "55e5b4ff",
   "metadata": {
    "papermill": {
     "duration": 0.01993,
     "end_time": "2022-11-16T14:56:03.140459",
     "exception": false,
     "start_time": "2022-11-16T14:56:03.120529",
     "status": "completed"
    },
    "tags": []
   },
   "source": [
    "First numeric value correlation"
   ]
  },
  {
   "cell_type": "code",
   "execution_count": 10,
   "id": "a704cfda",
   "metadata": {
    "execution": {
     "iopub.execute_input": "2022-11-16T14:56:03.181869Z",
     "iopub.status.busy": "2022-11-16T14:56:03.181110Z",
     "iopub.status.idle": "2022-11-16T14:56:03.192876Z",
     "shell.execute_reply": "2022-11-16T14:56:03.191740Z"
    },
    "papermill": {
     "duration": 0.035116,
     "end_time": "2022-11-16T14:56:03.195269",
     "exception": false,
     "start_time": "2022-11-16T14:56:03.160153",
     "status": "completed"
    },
    "tags": []
   },
   "outputs": [
    {
     "data": {
      "text/plain": [
       "revenue       1.000000\n",
       "budget        0.752965\n",
       "popularity    0.461460\n",
       "runtime       0.216380\n",
       "id            0.000610\n",
       "Name: revenue, dtype: float64"
      ]
     },
     "execution_count": 10,
     "metadata": {},
     "output_type": "execute_result"
    }
   ],
   "source": [
    "corr_matrix = train.corr()\n",
    "corr_matrix[\"revenue\"].sort_values(ascending=False)"
   ]
  },
  {
   "cell_type": "markdown",
   "id": "f66e8fec",
   "metadata": {
    "papermill": {
     "duration": 0.019655,
     "end_time": "2022-11-16T14:56:03.235317",
     "exception": false,
     "start_time": "2022-11-16T14:56:03.215662",
     "status": "completed"
    },
    "tags": []
   },
   "source": [
    "Strong correlation between revenue and budget, also fairly strong between revenue and popularity. Somewhat between runtime and revenue. These numeric value correlations seem to be very important for predicting revenue and should definetly be included in the ML model."
   ]
  },
  {
   "cell_type": "markdown",
   "id": "027d6c24",
   "metadata": {
    "papermill": {
     "duration": 0.019642,
     "end_time": "2022-11-16T14:56:03.275160",
     "exception": false,
     "start_time": "2022-11-16T14:56:03.255518",
     "status": "completed"
    },
    "tags": []
   },
   "source": [
    "There are also a lot of non numeric data that could strongly correlate to revenue. First looking at a few:\n",
    "1. genres\n",
    "2. language\n",
    "3. release date"
   ]
  },
  {
   "cell_type": "code",
   "execution_count": 11,
   "id": "fadd580d",
   "metadata": {
    "execution": {
     "iopub.execute_input": "2022-11-16T14:56:03.318042Z",
     "iopub.status.busy": "2022-11-16T14:56:03.317370Z",
     "iopub.status.idle": "2022-11-16T14:56:03.327845Z",
     "shell.execute_reply": "2022-11-16T14:56:03.327010Z"
    },
    "papermill": {
     "duration": 0.034665,
     "end_time": "2022-11-16T14:56:03.330163",
     "exception": false,
     "start_time": "2022-11-16T14:56:03.295498",
     "status": "completed"
    },
    "tags": []
   },
   "outputs": [
    {
     "data": {
      "text/html": [
       "<div>\n",
       "<style scoped>\n",
       "    .dataframe tbody tr th:only-of-type {\n",
       "        vertical-align: middle;\n",
       "    }\n",
       "\n",
       "    .dataframe tbody tr th {\n",
       "        vertical-align: top;\n",
       "    }\n",
       "\n",
       "    .dataframe thead th {\n",
       "        text-align: right;\n",
       "    }\n",
       "</style>\n",
       "<table border=\"1\" class=\"dataframe\">\n",
       "  <thead>\n",
       "    <tr style=\"text-align: right;\">\n",
       "      <th></th>\n",
       "      <th>genres</th>\n",
       "    </tr>\n",
       "  </thead>\n",
       "  <tbody>\n",
       "    <tr>\n",
       "      <th>0</th>\n",
       "      <td>[{'id': 35, 'name': 'Comedy'}]</td>\n",
       "    </tr>\n",
       "    <tr>\n",
       "      <th>1</th>\n",
       "      <td>[{'id': 35, 'name': 'Comedy'}, {'id': 18, 'nam...</td>\n",
       "    </tr>\n",
       "    <tr>\n",
       "      <th>2</th>\n",
       "      <td>[{'id': 18, 'name': 'Drama'}]</td>\n",
       "    </tr>\n",
       "    <tr>\n",
       "      <th>3</th>\n",
       "      <td>[{'id': 53, 'name': 'Thriller'}, {'id': 18, 'n...</td>\n",
       "    </tr>\n",
       "    <tr>\n",
       "      <th>4</th>\n",
       "      <td>[{'id': 28, 'name': 'Action'}, {'id': 53, 'nam...</td>\n",
       "    </tr>\n",
       "    <tr>\n",
       "      <th>5</th>\n",
       "      <td>[{'id': 16, 'name': 'Animation'}, {'id': 12, '...</td>\n",
       "    </tr>\n",
       "    <tr>\n",
       "      <th>6</th>\n",
       "      <td>[{'id': 27, 'name': 'Horror'}, {'id': 53, 'nam...</td>\n",
       "    </tr>\n",
       "    <tr>\n",
       "      <th>7</th>\n",
       "      <td>[{'id': 99, 'name': 'Documentary'}]</td>\n",
       "    </tr>\n",
       "    <tr>\n",
       "      <th>8</th>\n",
       "      <td>[{'id': 28, 'name': 'Action'}, {'id': 35, 'nam...</td>\n",
       "    </tr>\n",
       "    <tr>\n",
       "      <th>9</th>\n",
       "      <td>[{'id': 35, 'name': 'Comedy'}, {'id': 10402, '...</td>\n",
       "    </tr>\n",
       "  </tbody>\n",
       "</table>\n",
       "</div>"
      ],
      "text/plain": [
       "                                              genres\n",
       "0                     [{'id': 35, 'name': 'Comedy'}]\n",
       "1  [{'id': 35, 'name': 'Comedy'}, {'id': 18, 'nam...\n",
       "2                      [{'id': 18, 'name': 'Drama'}]\n",
       "3  [{'id': 53, 'name': 'Thriller'}, {'id': 18, 'n...\n",
       "4  [{'id': 28, 'name': 'Action'}, {'id': 53, 'nam...\n",
       "5  [{'id': 16, 'name': 'Animation'}, {'id': 12, '...\n",
       "6  [{'id': 27, 'name': 'Horror'}, {'id': 53, 'nam...\n",
       "7                [{'id': 99, 'name': 'Documentary'}]\n",
       "8  [{'id': 28, 'name': 'Action'}, {'id': 35, 'nam...\n",
       "9  [{'id': 35, 'name': 'Comedy'}, {'id': 10402, '..."
      ]
     },
     "execution_count": 11,
     "metadata": {},
     "output_type": "execute_result"
    }
   ],
   "source": [
    "train[[\"genres\"]].head(10)"
   ]
  },
  {
   "cell_type": "code",
   "execution_count": 12,
   "id": "862d1fdb",
   "metadata": {
    "execution": {
     "iopub.execute_input": "2022-11-16T14:56:03.374108Z",
     "iopub.status.busy": "2022-11-16T14:56:03.373071Z",
     "iopub.status.idle": "2022-11-16T14:56:03.405581Z",
     "shell.execute_reply": "2022-11-16T14:56:03.404585Z"
    },
    "papermill": {
     "duration": 0.057259,
     "end_time": "2022-11-16T14:56:03.408409",
     "exception": false,
     "start_time": "2022-11-16T14:56:03.351150",
     "status": "completed"
    },
    "tags": []
   },
   "outputs": [],
   "source": [
    "one_hot = pd.get_dummies(train[\"genres\"])\n",
    "train = train.join(one_hot)"
   ]
  },
  {
   "cell_type": "code",
   "execution_count": 13,
   "id": "c332c59e",
   "metadata": {
    "execution": {
     "iopub.execute_input": "2022-11-16T14:56:03.452403Z",
     "iopub.status.busy": "2022-11-16T14:56:03.451998Z",
     "iopub.status.idle": "2022-11-16T14:56:03.477375Z",
     "shell.execute_reply": "2022-11-16T14:56:03.476528Z"
    },
    "papermill": {
     "duration": 0.051077,
     "end_time": "2022-11-16T14:56:03.479721",
     "exception": false,
     "start_time": "2022-11-16T14:56:03.428644",
     "status": "completed"
    },
    "tags": []
   },
   "outputs": [
    {
     "data": {
      "text/html": [
       "<div>\n",
       "<style scoped>\n",
       "    .dataframe tbody tr th:only-of-type {\n",
       "        vertical-align: middle;\n",
       "    }\n",
       "\n",
       "    .dataframe tbody tr th {\n",
       "        vertical-align: top;\n",
       "    }\n",
       "\n",
       "    .dataframe thead th {\n",
       "        text-align: right;\n",
       "    }\n",
       "</style>\n",
       "<table border=\"1\" class=\"dataframe\">\n",
       "  <thead>\n",
       "    <tr style=\"text-align: right;\">\n",
       "      <th></th>\n",
       "      <th>id</th>\n",
       "      <th>belongs_to_collection</th>\n",
       "      <th>budget</th>\n",
       "      <th>genres</th>\n",
       "      <th>homepage</th>\n",
       "      <th>imdb_id</th>\n",
       "      <th>original_language</th>\n",
       "      <th>original_title</th>\n",
       "      <th>overview</th>\n",
       "      <th>popularity</th>\n",
       "      <th>...</th>\n",
       "      <th>[{'id': 99, 'name': 'Documentary'}, {'id': 10769, 'name': 'Foreign'}]</th>\n",
       "      <th>[{'id': 99, 'name': 'Documentary'}, {'id': 18, 'name': 'Drama'}, {'id': 10402, 'name': 'Music'}, {'id': 10749, 'name': 'Romance'}]</th>\n",
       "      <th>[{'id': 99, 'name': 'Documentary'}, {'id': 18, 'name': 'Drama'}, {'id': 10402, 'name': 'Music'}, {'id': 53, 'name': 'Thriller'}]</th>\n",
       "      <th>[{'id': 99, 'name': 'Documentary'}, {'id': 18, 'name': 'Drama'}, {'id': 10402, 'name': 'Music'}]</th>\n",
       "      <th>[{'id': 99, 'name': 'Documentary'}, {'id': 18, 'name': 'Drama'}]</th>\n",
       "      <th>[{'id': 99, 'name': 'Documentary'}, {'id': 27, 'name': 'Horror'}]</th>\n",
       "      <th>[{'id': 99, 'name': 'Documentary'}, {'id': 28, 'name': 'Action'}, {'id': 12, 'name': 'Adventure'}]</th>\n",
       "      <th>[{'id': 99, 'name': 'Documentary'}, {'id': 36, 'name': 'History'}]</th>\n",
       "      <th>[{'id': 99, 'name': 'Documentary'}, {'id': 80, 'name': 'Crime'}]</th>\n",
       "      <th>[{'id': 99, 'name': 'Documentary'}]</th>\n",
       "    </tr>\n",
       "  </thead>\n",
       "  <tbody>\n",
       "    <tr>\n",
       "      <th>0</th>\n",
       "      <td>1</td>\n",
       "      <td>[{'id': 313576, 'name': 'Hot Tub Time Machine ...</td>\n",
       "      <td>14000000</td>\n",
       "      <td>[{'id': 35, 'name': 'Comedy'}]</td>\n",
       "      <td>NaN</td>\n",
       "      <td>tt2637294</td>\n",
       "      <td>en</td>\n",
       "      <td>Hot Tub Time Machine 2</td>\n",
       "      <td>When Lou, who has become the \"father of the In...</td>\n",
       "      <td>6.575393</td>\n",
       "      <td>...</td>\n",
       "      <td>0</td>\n",
       "      <td>0</td>\n",
       "      <td>0</td>\n",
       "      <td>0</td>\n",
       "      <td>0</td>\n",
       "      <td>0</td>\n",
       "      <td>0</td>\n",
       "      <td>0</td>\n",
       "      <td>0</td>\n",
       "      <td>0</td>\n",
       "    </tr>\n",
       "    <tr>\n",
       "      <th>1</th>\n",
       "      <td>2</td>\n",
       "      <td>[{'id': 107674, 'name': 'The Princess Diaries ...</td>\n",
       "      <td>40000000</td>\n",
       "      <td>[{'id': 35, 'name': 'Comedy'}, {'id': 18, 'nam...</td>\n",
       "      <td>NaN</td>\n",
       "      <td>tt0368933</td>\n",
       "      <td>en</td>\n",
       "      <td>The Princess Diaries 2: Royal Engagement</td>\n",
       "      <td>Mia Thermopolis is now a college graduate and ...</td>\n",
       "      <td>8.248895</td>\n",
       "      <td>...</td>\n",
       "      <td>0</td>\n",
       "      <td>0</td>\n",
       "      <td>0</td>\n",
       "      <td>0</td>\n",
       "      <td>0</td>\n",
       "      <td>0</td>\n",
       "      <td>0</td>\n",
       "      <td>0</td>\n",
       "      <td>0</td>\n",
       "      <td>0</td>\n",
       "    </tr>\n",
       "    <tr>\n",
       "      <th>2</th>\n",
       "      <td>3</td>\n",
       "      <td>NaN</td>\n",
       "      <td>3300000</td>\n",
       "      <td>[{'id': 18, 'name': 'Drama'}]</td>\n",
       "      <td>http://sonyclassics.com/whiplash/</td>\n",
       "      <td>tt2582802</td>\n",
       "      <td>en</td>\n",
       "      <td>Whiplash</td>\n",
       "      <td>Under the direction of a ruthless instructor, ...</td>\n",
       "      <td>64.299990</td>\n",
       "      <td>...</td>\n",
       "      <td>0</td>\n",
       "      <td>0</td>\n",
       "      <td>0</td>\n",
       "      <td>0</td>\n",
       "      <td>0</td>\n",
       "      <td>0</td>\n",
       "      <td>0</td>\n",
       "      <td>0</td>\n",
       "      <td>0</td>\n",
       "      <td>0</td>\n",
       "    </tr>\n",
       "    <tr>\n",
       "      <th>3</th>\n",
       "      <td>4</td>\n",
       "      <td>NaN</td>\n",
       "      <td>1200000</td>\n",
       "      <td>[{'id': 53, 'name': 'Thriller'}, {'id': 18, 'n...</td>\n",
       "      <td>http://kahaanithefilm.com/</td>\n",
       "      <td>tt1821480</td>\n",
       "      <td>hi</td>\n",
       "      <td>Kahaani</td>\n",
       "      <td>Vidya Bagchi (Vidya Balan) arrives in Kolkata ...</td>\n",
       "      <td>3.174936</td>\n",
       "      <td>...</td>\n",
       "      <td>0</td>\n",
       "      <td>0</td>\n",
       "      <td>0</td>\n",
       "      <td>0</td>\n",
       "      <td>0</td>\n",
       "      <td>0</td>\n",
       "      <td>0</td>\n",
       "      <td>0</td>\n",
       "      <td>0</td>\n",
       "      <td>0</td>\n",
       "    </tr>\n",
       "    <tr>\n",
       "      <th>4</th>\n",
       "      <td>5</td>\n",
       "      <td>NaN</td>\n",
       "      <td>0</td>\n",
       "      <td>[{'id': 28, 'name': 'Action'}, {'id': 53, 'nam...</td>\n",
       "      <td>NaN</td>\n",
       "      <td>tt1380152</td>\n",
       "      <td>ko</td>\n",
       "      <td>마린보이</td>\n",
       "      <td>Marine Boy is the story of a former national s...</td>\n",
       "      <td>1.148070</td>\n",
       "      <td>...</td>\n",
       "      <td>0</td>\n",
       "      <td>0</td>\n",
       "      <td>0</td>\n",
       "      <td>0</td>\n",
       "      <td>0</td>\n",
       "      <td>0</td>\n",
       "      <td>0</td>\n",
       "      <td>0</td>\n",
       "      <td>0</td>\n",
       "      <td>0</td>\n",
       "    </tr>\n",
       "  </tbody>\n",
       "</table>\n",
       "<p>5 rows × 895 columns</p>\n",
       "</div>"
      ],
      "text/plain": [
       "   id                              belongs_to_collection    budget  \\\n",
       "0   1  [{'id': 313576, 'name': 'Hot Tub Time Machine ...  14000000   \n",
       "1   2  [{'id': 107674, 'name': 'The Princess Diaries ...  40000000   \n",
       "2   3                                                NaN   3300000   \n",
       "3   4                                                NaN   1200000   \n",
       "4   5                                                NaN         0   \n",
       "\n",
       "                                              genres  \\\n",
       "0                     [{'id': 35, 'name': 'Comedy'}]   \n",
       "1  [{'id': 35, 'name': 'Comedy'}, {'id': 18, 'nam...   \n",
       "2                      [{'id': 18, 'name': 'Drama'}]   \n",
       "3  [{'id': 53, 'name': 'Thriller'}, {'id': 18, 'n...   \n",
       "4  [{'id': 28, 'name': 'Action'}, {'id': 53, 'nam...   \n",
       "\n",
       "                            homepage    imdb_id original_language  \\\n",
       "0                                NaN  tt2637294                en   \n",
       "1                                NaN  tt0368933                en   \n",
       "2  http://sonyclassics.com/whiplash/  tt2582802                en   \n",
       "3         http://kahaanithefilm.com/  tt1821480                hi   \n",
       "4                                NaN  tt1380152                ko   \n",
       "\n",
       "                             original_title  \\\n",
       "0                    Hot Tub Time Machine 2   \n",
       "1  The Princess Diaries 2: Royal Engagement   \n",
       "2                                  Whiplash   \n",
       "3                                   Kahaani   \n",
       "4                                      마린보이   \n",
       "\n",
       "                                            overview  popularity  ...  \\\n",
       "0  When Lou, who has become the \"father of the In...    6.575393  ...   \n",
       "1  Mia Thermopolis is now a college graduate and ...    8.248895  ...   \n",
       "2  Under the direction of a ruthless instructor, ...   64.299990  ...   \n",
       "3  Vidya Bagchi (Vidya Balan) arrives in Kolkata ...    3.174936  ...   \n",
       "4  Marine Boy is the story of a former national s...    1.148070  ...   \n",
       "\n",
       "  [{'id': 99, 'name': 'Documentary'}, {'id': 10769, 'name': 'Foreign'}]  \\\n",
       "0                                                  0                      \n",
       "1                                                  0                      \n",
       "2                                                  0                      \n",
       "3                                                  0                      \n",
       "4                                                  0                      \n",
       "\n",
       "  [{'id': 99, 'name': 'Documentary'}, {'id': 18, 'name': 'Drama'}, {'id': 10402, 'name': 'Music'}, {'id': 10749, 'name': 'Romance'}]  \\\n",
       "0                                                  0                                                                                   \n",
       "1                                                  0                                                                                   \n",
       "2                                                  0                                                                                   \n",
       "3                                                  0                                                                                   \n",
       "4                                                  0                                                                                   \n",
       "\n",
       "  [{'id': 99, 'name': 'Documentary'}, {'id': 18, 'name': 'Drama'}, {'id': 10402, 'name': 'Music'}, {'id': 53, 'name': 'Thriller'}]  \\\n",
       "0                                                  0                                                                                 \n",
       "1                                                  0                                                                                 \n",
       "2                                                  0                                                                                 \n",
       "3                                                  0                                                                                 \n",
       "4                                                  0                                                                                 \n",
       "\n",
       "  [{'id': 99, 'name': 'Documentary'}, {'id': 18, 'name': 'Drama'}, {'id': 10402, 'name': 'Music'}]  \\\n",
       "0                                                  0                                                 \n",
       "1                                                  0                                                 \n",
       "2                                                  0                                                 \n",
       "3                                                  0                                                 \n",
       "4                                                  0                                                 \n",
       "\n",
       "   [{'id': 99, 'name': 'Documentary'}, {'id': 18, 'name': 'Drama'}]  \\\n",
       "0                                                  0                  \n",
       "1                                                  0                  \n",
       "2                                                  0                  \n",
       "3                                                  0                  \n",
       "4                                                  0                  \n",
       "\n",
       "  [{'id': 99, 'name': 'Documentary'}, {'id': 27, 'name': 'Horror'}]  \\\n",
       "0                                                  0                  \n",
       "1                                                  0                  \n",
       "2                                                  0                  \n",
       "3                                                  0                  \n",
       "4                                                  0                  \n",
       "\n",
       "  [{'id': 99, 'name': 'Documentary'}, {'id': 28, 'name': 'Action'}, {'id': 12, 'name': 'Adventure'}]  \\\n",
       "0                                                  0                                                   \n",
       "1                                                  0                                                   \n",
       "2                                                  0                                                   \n",
       "3                                                  0                                                   \n",
       "4                                                  0                                                   \n",
       "\n",
       "  [{'id': 99, 'name': 'Documentary'}, {'id': 36, 'name': 'History'}]  \\\n",
       "0                                                  0                   \n",
       "1                                                  0                   \n",
       "2                                                  0                   \n",
       "3                                                  0                   \n",
       "4                                                  0                   \n",
       "\n",
       "  [{'id': 99, 'name': 'Documentary'}, {'id': 80, 'name': 'Crime'}]  \\\n",
       "0                                                  0                 \n",
       "1                                                  0                 \n",
       "2                                                  0                 \n",
       "3                                                  0                 \n",
       "4                                                  0                 \n",
       "\n",
       "  [{'id': 99, 'name': 'Documentary'}]  \n",
       "0                                   0  \n",
       "1                                   0  \n",
       "2                                   0  \n",
       "3                                   0  \n",
       "4                                   0  \n",
       "\n",
       "[5 rows x 895 columns]"
      ]
     },
     "execution_count": 13,
     "metadata": {},
     "output_type": "execute_result"
    }
   ],
   "source": [
    "train.head()"
   ]
  },
  {
   "cell_type": "code",
   "execution_count": 14,
   "id": "f6b932aa",
   "metadata": {
    "execution": {
     "iopub.execute_input": "2022-11-16T14:56:03.523772Z",
     "iopub.status.busy": "2022-11-16T14:56:03.522627Z",
     "iopub.status.idle": "2022-11-16T14:56:09.730303Z",
     "shell.execute_reply": "2022-11-16T14:56:09.728992Z"
    },
    "papermill": {
     "duration": 6.231903,
     "end_time": "2022-11-16T14:56:09.732678",
     "exception": false,
     "start_time": "2022-11-16T14:56:03.500775",
     "status": "completed"
    },
    "tags": []
   },
   "outputs": [
    {
     "data": {
      "text/plain": [
       "revenue                                                                                           1.000000\n",
       "budget                                                                                            0.752965\n",
       "popularity                                                                                        0.461460\n",
       "[{'id': 12, 'name': 'Adventure'}, {'id': 14, 'name': 'Fantasy'}, {'id': 28, 'name': 'Action'}]    0.224326\n",
       "runtime                                                                                           0.216380\n",
       "                                                                                                    ...   \n",
       "[{'id': 80, 'name': 'Crime'}, {'id': 18, 'name': 'Drama'}]                                       -0.038270\n",
       "[{'id': 35, 'name': 'Comedy'}, {'id': 18, 'name': 'Drama'}]                                      -0.048042\n",
       "[{'id': 99, 'name': 'Documentary'}]                                                              -0.055960\n",
       "[{'id': 18, 'name': 'Drama'}, {'id': 10749, 'name': 'Romance'}]                                  -0.056284\n",
       "[{'id': 18, 'name': 'Drama'}]                                                                    -0.080919\n",
       "Name: revenue, Length: 877, dtype: float64"
      ]
     },
     "execution_count": 14,
     "metadata": {},
     "output_type": "execute_result"
    }
   ],
   "source": [
    "corr_matrix = train.corr()\n",
    "corr_matrix[\"revenue\"].sort_values(ascending=False)"
   ]
  },
  {
   "cell_type": "markdown",
   "id": "37a1b7a4",
   "metadata": {
    "papermill": {
     "duration": 0.020645,
     "end_time": "2022-11-16T14:56:09.774629",
     "exception": false,
     "start_time": "2022-11-16T14:56:09.753984",
     "status": "completed"
    },
    "tags": []
   },
   "source": [
    "Every genre has a very weak correlation, therefore not exploring this data any deeper. Reset train dataframe"
   ]
  },
  {
   "cell_type": "code",
   "execution_count": 15,
   "id": "917a9c07",
   "metadata": {
    "execution": {
     "iopub.execute_input": "2022-11-16T14:56:09.818038Z",
     "iopub.status.busy": "2022-11-16T14:56:09.817610Z",
     "iopub.status.idle": "2022-11-16T14:56:10.236953Z",
     "shell.execute_reply": "2022-11-16T14:56:10.235725Z"
    },
    "papermill": {
     "duration": 0.4447,
     "end_time": "2022-11-16T14:56:10.240174",
     "exception": false,
     "start_time": "2022-11-16T14:56:09.795474",
     "status": "completed"
    },
    "tags": []
   },
   "outputs": [],
   "source": [
    "train = pd.read_csv(DATA/'train.csv')"
   ]
  },
  {
   "cell_type": "markdown",
   "id": "9e96b66d",
   "metadata": {
    "papermill": {
     "duration": 0.020363,
     "end_time": "2022-11-16T14:56:10.282019",
     "exception": false,
     "start_time": "2022-11-16T14:56:10.261656",
     "status": "completed"
    },
    "tags": []
   },
   "source": [
    "Exploring language"
   ]
  },
  {
   "cell_type": "code",
   "execution_count": 16,
   "id": "50f080e3",
   "metadata": {
    "execution": {
     "iopub.execute_input": "2022-11-16T14:56:10.325684Z",
     "iopub.status.busy": "2022-11-16T14:56:10.324960Z",
     "iopub.status.idle": "2022-11-16T14:56:10.337023Z",
     "shell.execute_reply": "2022-11-16T14:56:10.335750Z"
    },
    "papermill": {
     "duration": 0.036926,
     "end_time": "2022-11-16T14:56:10.339461",
     "exception": false,
     "start_time": "2022-11-16T14:56:10.302535",
     "status": "completed"
    },
    "tags": []
   },
   "outputs": [
    {
     "data": {
      "text/html": [
       "<div>\n",
       "<style scoped>\n",
       "    .dataframe tbody tr th:only-of-type {\n",
       "        vertical-align: middle;\n",
       "    }\n",
       "\n",
       "    .dataframe tbody tr th {\n",
       "        vertical-align: top;\n",
       "    }\n",
       "\n",
       "    .dataframe thead th {\n",
       "        text-align: right;\n",
       "    }\n",
       "</style>\n",
       "<table border=\"1\" class=\"dataframe\">\n",
       "  <thead>\n",
       "    <tr style=\"text-align: right;\">\n",
       "      <th></th>\n",
       "      <th>original_language</th>\n",
       "    </tr>\n",
       "  </thead>\n",
       "  <tbody>\n",
       "    <tr>\n",
       "      <th>0</th>\n",
       "      <td>en</td>\n",
       "    </tr>\n",
       "    <tr>\n",
       "      <th>1</th>\n",
       "      <td>en</td>\n",
       "    </tr>\n",
       "    <tr>\n",
       "      <th>2</th>\n",
       "      <td>en</td>\n",
       "    </tr>\n",
       "    <tr>\n",
       "      <th>3</th>\n",
       "      <td>hi</td>\n",
       "    </tr>\n",
       "    <tr>\n",
       "      <th>4</th>\n",
       "      <td>ko</td>\n",
       "    </tr>\n",
       "  </tbody>\n",
       "</table>\n",
       "</div>"
      ],
      "text/plain": [
       "  original_language\n",
       "0                en\n",
       "1                en\n",
       "2                en\n",
       "3                hi\n",
       "4                ko"
      ]
     },
     "execution_count": 16,
     "metadata": {},
     "output_type": "execute_result"
    }
   ],
   "source": [
    "train[[\"original_language\"]].head()"
   ]
  },
  {
   "cell_type": "code",
   "execution_count": 17,
   "id": "7f163c7f",
   "metadata": {
    "execution": {
     "iopub.execute_input": "2022-11-16T14:56:10.383935Z",
     "iopub.status.busy": "2022-11-16T14:56:10.383519Z",
     "iopub.status.idle": "2022-11-16T14:56:10.401472Z",
     "shell.execute_reply": "2022-11-16T14:56:10.400049Z"
    },
    "papermill": {
     "duration": 0.04434,
     "end_time": "2022-11-16T14:56:10.404717",
     "exception": false,
     "start_time": "2022-11-16T14:56:10.360377",
     "status": "completed"
    },
    "tags": []
   },
   "outputs": [],
   "source": [
    "one_hot = pd.get_dummies(train[\"original_language\"])\n",
    "train = train.join(one_hot, on=\"id\", how='left', lsuffix='_left', rsuffix='_right')"
   ]
  },
  {
   "cell_type": "code",
   "execution_count": 18,
   "id": "67b8f97d",
   "metadata": {
    "execution": {
     "iopub.execute_input": "2022-11-16T14:56:10.450438Z",
     "iopub.status.busy": "2022-11-16T14:56:10.450062Z",
     "iopub.status.idle": "2022-11-16T14:56:10.479021Z",
     "shell.execute_reply": "2022-11-16T14:56:10.477817Z"
    },
    "papermill": {
     "duration": 0.054503,
     "end_time": "2022-11-16T14:56:10.481402",
     "exception": false,
     "start_time": "2022-11-16T14:56:10.426899",
     "status": "completed"
    },
    "tags": []
   },
   "outputs": [
    {
     "data": {
      "text/html": [
       "<div>\n",
       "<style scoped>\n",
       "    .dataframe tbody tr th:only-of-type {\n",
       "        vertical-align: middle;\n",
       "    }\n",
       "\n",
       "    .dataframe tbody tr th {\n",
       "        vertical-align: top;\n",
       "    }\n",
       "\n",
       "    .dataframe thead th {\n",
       "        text-align: right;\n",
       "    }\n",
       "</style>\n",
       "<table border=\"1\" class=\"dataframe\">\n",
       "  <thead>\n",
       "    <tr style=\"text-align: right;\">\n",
       "      <th></th>\n",
       "      <th>id_left</th>\n",
       "      <th>belongs_to_collection</th>\n",
       "      <th>budget</th>\n",
       "      <th>genres</th>\n",
       "      <th>homepage</th>\n",
       "      <th>imdb_id</th>\n",
       "      <th>original_language</th>\n",
       "      <th>original_title</th>\n",
       "      <th>overview</th>\n",
       "      <th>popularity</th>\n",
       "      <th>...</th>\n",
       "      <th>ro</th>\n",
       "      <th>ru</th>\n",
       "      <th>sr</th>\n",
       "      <th>sv</th>\n",
       "      <th>ta</th>\n",
       "      <th>te</th>\n",
       "      <th>tr</th>\n",
       "      <th>ur</th>\n",
       "      <th>vi</th>\n",
       "      <th>zh</th>\n",
       "    </tr>\n",
       "  </thead>\n",
       "  <tbody>\n",
       "    <tr>\n",
       "      <th>0</th>\n",
       "      <td>1</td>\n",
       "      <td>[{'id': 313576, 'name': 'Hot Tub Time Machine ...</td>\n",
       "      <td>14000000</td>\n",
       "      <td>[{'id': 35, 'name': 'Comedy'}]</td>\n",
       "      <td>NaN</td>\n",
       "      <td>tt2637294</td>\n",
       "      <td>en</td>\n",
       "      <td>Hot Tub Time Machine 2</td>\n",
       "      <td>When Lou, who has become the \"father of the In...</td>\n",
       "      <td>6.575393</td>\n",
       "      <td>...</td>\n",
       "      <td>0.0</td>\n",
       "      <td>0.0</td>\n",
       "      <td>0.0</td>\n",
       "      <td>0.0</td>\n",
       "      <td>0.0</td>\n",
       "      <td>0.0</td>\n",
       "      <td>0.0</td>\n",
       "      <td>0.0</td>\n",
       "      <td>0.0</td>\n",
       "      <td>0.0</td>\n",
       "    </tr>\n",
       "    <tr>\n",
       "      <th>1</th>\n",
       "      <td>2</td>\n",
       "      <td>[{'id': 107674, 'name': 'The Princess Diaries ...</td>\n",
       "      <td>40000000</td>\n",
       "      <td>[{'id': 35, 'name': 'Comedy'}, {'id': 18, 'nam...</td>\n",
       "      <td>NaN</td>\n",
       "      <td>tt0368933</td>\n",
       "      <td>en</td>\n",
       "      <td>The Princess Diaries 2: Royal Engagement</td>\n",
       "      <td>Mia Thermopolis is now a college graduate and ...</td>\n",
       "      <td>8.248895</td>\n",
       "      <td>...</td>\n",
       "      <td>0.0</td>\n",
       "      <td>0.0</td>\n",
       "      <td>0.0</td>\n",
       "      <td>0.0</td>\n",
       "      <td>0.0</td>\n",
       "      <td>0.0</td>\n",
       "      <td>0.0</td>\n",
       "      <td>0.0</td>\n",
       "      <td>0.0</td>\n",
       "      <td>0.0</td>\n",
       "    </tr>\n",
       "    <tr>\n",
       "      <th>2</th>\n",
       "      <td>3</td>\n",
       "      <td>NaN</td>\n",
       "      <td>3300000</td>\n",
       "      <td>[{'id': 18, 'name': 'Drama'}]</td>\n",
       "      <td>http://sonyclassics.com/whiplash/</td>\n",
       "      <td>tt2582802</td>\n",
       "      <td>en</td>\n",
       "      <td>Whiplash</td>\n",
       "      <td>Under the direction of a ruthless instructor, ...</td>\n",
       "      <td>64.299990</td>\n",
       "      <td>...</td>\n",
       "      <td>0.0</td>\n",
       "      <td>0.0</td>\n",
       "      <td>0.0</td>\n",
       "      <td>0.0</td>\n",
       "      <td>0.0</td>\n",
       "      <td>0.0</td>\n",
       "      <td>0.0</td>\n",
       "      <td>0.0</td>\n",
       "      <td>0.0</td>\n",
       "      <td>0.0</td>\n",
       "    </tr>\n",
       "    <tr>\n",
       "      <th>3</th>\n",
       "      <td>4</td>\n",
       "      <td>NaN</td>\n",
       "      <td>1200000</td>\n",
       "      <td>[{'id': 53, 'name': 'Thriller'}, {'id': 18, 'n...</td>\n",
       "      <td>http://kahaanithefilm.com/</td>\n",
       "      <td>tt1821480</td>\n",
       "      <td>hi</td>\n",
       "      <td>Kahaani</td>\n",
       "      <td>Vidya Bagchi (Vidya Balan) arrives in Kolkata ...</td>\n",
       "      <td>3.174936</td>\n",
       "      <td>...</td>\n",
       "      <td>0.0</td>\n",
       "      <td>0.0</td>\n",
       "      <td>0.0</td>\n",
       "      <td>0.0</td>\n",
       "      <td>0.0</td>\n",
       "      <td>0.0</td>\n",
       "      <td>0.0</td>\n",
       "      <td>0.0</td>\n",
       "      <td>0.0</td>\n",
       "      <td>0.0</td>\n",
       "    </tr>\n",
       "    <tr>\n",
       "      <th>4</th>\n",
       "      <td>5</td>\n",
       "      <td>NaN</td>\n",
       "      <td>0</td>\n",
       "      <td>[{'id': 28, 'name': 'Action'}, {'id': 53, 'nam...</td>\n",
       "      <td>NaN</td>\n",
       "      <td>tt1380152</td>\n",
       "      <td>ko</td>\n",
       "      <td>마린보이</td>\n",
       "      <td>Marine Boy is the story of a former national s...</td>\n",
       "      <td>1.148070</td>\n",
       "      <td>...</td>\n",
       "      <td>0.0</td>\n",
       "      <td>0.0</td>\n",
       "      <td>0.0</td>\n",
       "      <td>0.0</td>\n",
       "      <td>0.0</td>\n",
       "      <td>0.0</td>\n",
       "      <td>0.0</td>\n",
       "      <td>0.0</td>\n",
       "      <td>0.0</td>\n",
       "      <td>0.0</td>\n",
       "    </tr>\n",
       "  </tbody>\n",
       "</table>\n",
       "<p>5 rows × 59 columns</p>\n",
       "</div>"
      ],
      "text/plain": [
       "   id_left                              belongs_to_collection    budget  \\\n",
       "0        1  [{'id': 313576, 'name': 'Hot Tub Time Machine ...  14000000   \n",
       "1        2  [{'id': 107674, 'name': 'The Princess Diaries ...  40000000   \n",
       "2        3                                                NaN   3300000   \n",
       "3        4                                                NaN   1200000   \n",
       "4        5                                                NaN         0   \n",
       "\n",
       "                                              genres  \\\n",
       "0                     [{'id': 35, 'name': 'Comedy'}]   \n",
       "1  [{'id': 35, 'name': 'Comedy'}, {'id': 18, 'nam...   \n",
       "2                      [{'id': 18, 'name': 'Drama'}]   \n",
       "3  [{'id': 53, 'name': 'Thriller'}, {'id': 18, 'n...   \n",
       "4  [{'id': 28, 'name': 'Action'}, {'id': 53, 'nam...   \n",
       "\n",
       "                            homepage    imdb_id original_language  \\\n",
       "0                                NaN  tt2637294                en   \n",
       "1                                NaN  tt0368933                en   \n",
       "2  http://sonyclassics.com/whiplash/  tt2582802                en   \n",
       "3         http://kahaanithefilm.com/  tt1821480                hi   \n",
       "4                                NaN  tt1380152                ko   \n",
       "\n",
       "                             original_title  \\\n",
       "0                    Hot Tub Time Machine 2   \n",
       "1  The Princess Diaries 2: Royal Engagement   \n",
       "2                                  Whiplash   \n",
       "3                                   Kahaani   \n",
       "4                                      마린보이   \n",
       "\n",
       "                                            overview  popularity  ...   ro  \\\n",
       "0  When Lou, who has become the \"father of the In...    6.575393  ...  0.0   \n",
       "1  Mia Thermopolis is now a college graduate and ...    8.248895  ...  0.0   \n",
       "2  Under the direction of a ruthless instructor, ...   64.299990  ...  0.0   \n",
       "3  Vidya Bagchi (Vidya Balan) arrives in Kolkata ...    3.174936  ...  0.0   \n",
       "4  Marine Boy is the story of a former national s...    1.148070  ...  0.0   \n",
       "\n",
       "    ru   sr   sv   ta   te   tr   ur   vi   zh  \n",
       "0  0.0  0.0  0.0  0.0  0.0  0.0  0.0  0.0  0.0  \n",
       "1  0.0  0.0  0.0  0.0  0.0  0.0  0.0  0.0  0.0  \n",
       "2  0.0  0.0  0.0  0.0  0.0  0.0  0.0  0.0  0.0  \n",
       "3  0.0  0.0  0.0  0.0  0.0  0.0  0.0  0.0  0.0  \n",
       "4  0.0  0.0  0.0  0.0  0.0  0.0  0.0  0.0  0.0  \n",
       "\n",
       "[5 rows x 59 columns]"
      ]
     },
     "execution_count": 18,
     "metadata": {},
     "output_type": "execute_result"
    }
   ],
   "source": [
    "train.head()"
   ]
  },
  {
   "cell_type": "code",
   "execution_count": 19,
   "id": "b2f823cc",
   "metadata": {
    "execution": {
     "iopub.execute_input": "2022-11-16T14:56:10.528369Z",
     "iopub.status.busy": "2022-11-16T14:56:10.527983Z",
     "iopub.status.idle": "2022-11-16T14:56:10.554113Z",
     "shell.execute_reply": "2022-11-16T14:56:10.552900Z"
    },
    "papermill": {
     "duration": 0.053907,
     "end_time": "2022-11-16T14:56:10.556729",
     "exception": false,
     "start_time": "2022-11-16T14:56:10.502822",
     "status": "completed"
    },
    "tags": []
   },
   "outputs": [
    {
     "data": {
      "text/plain": [
       "revenue       1.000000\n",
       "budget        0.752965\n",
       "popularity    0.461460\n",
       "runtime       0.216380\n",
       "sr            0.038730\n",
       "fr            0.037160\n",
       "mr            0.032306\n",
       "ml            0.028106\n",
       "da            0.019845\n",
       "ru            0.009843\n",
       "en            0.006367\n",
       "bn            0.004840\n",
       "hi            0.004472\n",
       "ro            0.003457\n",
       "vi            0.002913\n",
       "id_left       0.000610\n",
       "pt            0.000409\n",
       "de            0.000195\n",
       "ur           -0.001052\n",
       "it           -0.003250\n",
       "fa           -0.003464\n",
       "nl           -0.003979\n",
       "sv           -0.004288\n",
       "ja           -0.005078\n",
       "he           -0.006057\n",
       "el           -0.007605\n",
       "cs           -0.007762\n",
       "ar           -0.007785\n",
       "tr           -0.007963\n",
       "nb           -0.008458\n",
       "pl           -0.008468\n",
       "fi           -0.008770\n",
       "id_right     -0.008808\n",
       "no           -0.009547\n",
       "ko           -0.010790\n",
       "te           -0.011490\n",
       "hu           -0.014510\n",
       "ta           -0.016646\n",
       "es           -0.020364\n",
       "zh           -0.025804\n",
       "cn           -0.030720\n",
       "Name: revenue, dtype: float64"
      ]
     },
     "execution_count": 19,
     "metadata": {},
     "output_type": "execute_result"
    }
   ],
   "source": [
    "corr_matrix = train.corr()\n",
    "corr_matrix[\"revenue\"].sort_values(ascending=False)"
   ]
  },
  {
   "cell_type": "markdown",
   "id": "b4f94827",
   "metadata": {
    "papermill": {
     "duration": 0.022119,
     "end_time": "2022-11-16T14:56:10.601625",
     "exception": false,
     "start_time": "2022-11-16T14:56:10.579506",
     "status": "completed"
    },
    "tags": []
   },
   "source": [
    "Original language correlation"
   ]
  },
  {
   "cell_type": "code",
   "execution_count": 20,
   "id": "39e37377",
   "metadata": {
    "execution": {
     "iopub.execute_input": "2022-11-16T14:56:10.649820Z",
     "iopub.status.busy": "2022-11-16T14:56:10.649415Z",
     "iopub.status.idle": "2022-11-16T14:56:10.675533Z",
     "shell.execute_reply": "2022-11-16T14:56:10.674378Z"
    },
    "papermill": {
     "duration": 0.051495,
     "end_time": "2022-11-16T14:56:10.678073",
     "exception": false,
     "start_time": "2022-11-16T14:56:10.626578",
     "status": "completed"
    },
    "tags": []
   },
   "outputs": [
    {
     "data": {
      "text/plain": [
       "revenue       1.000000\n",
       "budget        0.752965\n",
       "popularity    0.461460\n",
       "runtime       0.216380\n",
       "sr            0.038730\n",
       "fr            0.037160\n",
       "mr            0.032306\n",
       "ml            0.028106\n",
       "da            0.019845\n",
       "ru            0.009843\n",
       "en            0.006367\n",
       "bn            0.004840\n",
       "hi            0.004472\n",
       "ro            0.003457\n",
       "vi            0.002913\n",
       "id_left       0.000610\n",
       "pt            0.000409\n",
       "de            0.000195\n",
       "ur           -0.001052\n",
       "it           -0.003250\n",
       "fa           -0.003464\n",
       "nl           -0.003979\n",
       "sv           -0.004288\n",
       "ja           -0.005078\n",
       "he           -0.006057\n",
       "el           -0.007605\n",
       "cs           -0.007762\n",
       "ar           -0.007785\n",
       "tr           -0.007963\n",
       "nb           -0.008458\n",
       "pl           -0.008468\n",
       "fi           -0.008770\n",
       "id_right     -0.008808\n",
       "no           -0.009547\n",
       "ko           -0.010790\n",
       "te           -0.011490\n",
       "hu           -0.014510\n",
       "ta           -0.016646\n",
       "es           -0.020364\n",
       "zh           -0.025804\n",
       "cn           -0.030720\n",
       "Name: revenue, dtype: float64"
      ]
     },
     "execution_count": 20,
     "metadata": {},
     "output_type": "execute_result"
    }
   ],
   "source": [
    "corr_matrix = train.corr()\n",
    "corr_matrix[\"revenue\"].sort_values(ascending=False)"
   ]
  },
  {
   "cell_type": "markdown",
   "id": "58dd4db4",
   "metadata": {
    "papermill": {
     "duration": 0.022445,
     "end_time": "2022-11-16T14:56:10.722334",
     "exception": false,
     "start_time": "2022-11-16T14:56:10.699889",
     "status": "completed"
    },
    "tags": []
   },
   "source": [
    "Exploring if only english or not has correlation"
   ]
  },
  {
   "cell_type": "code",
   "execution_count": 21,
   "id": "1ac580ad",
   "metadata": {
    "execution": {
     "iopub.execute_input": "2022-11-16T14:56:10.768372Z",
     "iopub.status.busy": "2022-11-16T14:56:10.767896Z",
     "iopub.status.idle": "2022-11-16T14:56:11.124551Z",
     "shell.execute_reply": "2022-11-16T14:56:11.123370Z"
    },
    "papermill": {
     "duration": 0.383106,
     "end_time": "2022-11-16T14:56:11.127289",
     "exception": false,
     "start_time": "2022-11-16T14:56:10.744183",
     "status": "completed"
    },
    "tags": []
   },
   "outputs": [],
   "source": [
    "train = pd.read_csv(DATA/'train.csv')"
   ]
  },
  {
   "cell_type": "code",
   "execution_count": 22,
   "id": "14ad20ca",
   "metadata": {
    "execution": {
     "iopub.execute_input": "2022-11-16T14:56:11.173455Z",
     "iopub.status.busy": "2022-11-16T14:56:11.173049Z",
     "iopub.status.idle": "2022-11-16T14:56:11.179482Z",
     "shell.execute_reply": "2022-11-16T14:56:11.178374Z"
    },
    "papermill": {
     "duration": 0.031986,
     "end_time": "2022-11-16T14:56:11.181689",
     "exception": false,
     "start_time": "2022-11-16T14:56:11.149703",
     "status": "completed"
    },
    "tags": []
   },
   "outputs": [],
   "source": [
    "train['is_english'] = np.where(train['original_language']=='en', 1, 0)"
   ]
  },
  {
   "cell_type": "code",
   "execution_count": 23,
   "id": "1e8f8196",
   "metadata": {
    "execution": {
     "iopub.execute_input": "2022-11-16T14:56:11.226781Z",
     "iopub.status.busy": "2022-11-16T14:56:11.226364Z",
     "iopub.status.idle": "2022-11-16T14:56:11.237162Z",
     "shell.execute_reply": "2022-11-16T14:56:11.236075Z"
    },
    "papermill": {
     "duration": 0.035985,
     "end_time": "2022-11-16T14:56:11.239429",
     "exception": false,
     "start_time": "2022-11-16T14:56:11.203444",
     "status": "completed"
    },
    "tags": []
   },
   "outputs": [
    {
     "data": {
      "text/plain": [
       "revenue       1.000000\n",
       "budget        0.752965\n",
       "popularity    0.461460\n",
       "runtime       0.216380\n",
       "is_english    0.142130\n",
       "id            0.000610\n",
       "Name: revenue, dtype: float64"
      ]
     },
     "execution_count": 23,
     "metadata": {},
     "output_type": "execute_result"
    }
   ],
   "source": [
    "corr_matrix = train.corr()\n",
    "corr_matrix[\"revenue\"].sort_values(ascending=False)"
   ]
  },
  {
   "cell_type": "markdown",
   "id": "9373ec7f",
   "metadata": {
    "papermill": {
     "duration": 0.021477,
     "end_time": "2022-11-16T14:56:11.282656",
     "exception": false,
     "start_time": "2022-11-16T14:56:11.261179",
     "status": "completed"
    },
    "tags": []
   },
   "source": [
    "All languages seem to have no significant correlation to revenue. However, if it is in english or not has a much stronger correlation.\n",
    "\n",
    "Exploring release date"
   ]
  },
  {
   "cell_type": "code",
   "execution_count": 24,
   "id": "e9b2e9fb",
   "metadata": {
    "execution": {
     "iopub.execute_input": "2022-11-16T14:56:11.327979Z",
     "iopub.status.busy": "2022-11-16T14:56:11.327552Z",
     "iopub.status.idle": "2022-11-16T14:56:11.340702Z",
     "shell.execute_reply": "2022-11-16T14:56:11.339876Z"
    },
    "papermill": {
     "duration": 0.03899,
     "end_time": "2022-11-16T14:56:11.343325",
     "exception": false,
     "start_time": "2022-11-16T14:56:11.304335",
     "status": "completed"
    },
    "tags": []
   },
   "outputs": [
    {
     "data": {
      "text/html": [
       "<div>\n",
       "<style scoped>\n",
       "    .dataframe tbody tr th:only-of-type {\n",
       "        vertical-align: middle;\n",
       "    }\n",
       "\n",
       "    .dataframe tbody tr th {\n",
       "        vertical-align: top;\n",
       "    }\n",
       "\n",
       "    .dataframe thead th {\n",
       "        text-align: right;\n",
       "    }\n",
       "</style>\n",
       "<table border=\"1\" class=\"dataframe\">\n",
       "  <thead>\n",
       "    <tr style=\"text-align: right;\">\n",
       "      <th></th>\n",
       "      <th>release_date</th>\n",
       "    </tr>\n",
       "  </thead>\n",
       "  <tbody>\n",
       "    <tr>\n",
       "      <th>0</th>\n",
       "      <td>2/20/15</td>\n",
       "    </tr>\n",
       "    <tr>\n",
       "      <th>1</th>\n",
       "      <td>8/6/04</td>\n",
       "    </tr>\n",
       "    <tr>\n",
       "      <th>2</th>\n",
       "      <td>10/10/14</td>\n",
       "    </tr>\n",
       "    <tr>\n",
       "      <th>3</th>\n",
       "      <td>3/9/12</td>\n",
       "    </tr>\n",
       "    <tr>\n",
       "      <th>4</th>\n",
       "      <td>2/5/09</td>\n",
       "    </tr>\n",
       "  </tbody>\n",
       "</table>\n",
       "</div>"
      ],
      "text/plain": [
       "  release_date\n",
       "0      2/20/15\n",
       "1       8/6/04\n",
       "2     10/10/14\n",
       "3       3/9/12\n",
       "4       2/5/09"
      ]
     },
     "execution_count": 24,
     "metadata": {},
     "output_type": "execute_result"
    }
   ],
   "source": [
    "train[[\"release_date\"]].head()"
   ]
  },
  {
   "cell_type": "code",
   "execution_count": 25,
   "id": "e29520ba",
   "metadata": {
    "execution": {
     "iopub.execute_input": "2022-11-16T14:56:11.389149Z",
     "iopub.status.busy": "2022-11-16T14:56:11.388710Z",
     "iopub.status.idle": "2022-11-16T14:56:11.615772Z",
     "shell.execute_reply": "2022-11-16T14:56:11.614561Z"
    },
    "papermill": {
     "duration": 0.253008,
     "end_time": "2022-11-16T14:56:11.618693",
     "exception": false,
     "start_time": "2022-11-16T14:56:11.365685",
     "status": "completed"
    },
    "tags": []
   },
   "outputs": [],
   "source": [
    "train['year'] = pd.DatetimeIndex(train['release_date']).year"
   ]
  },
  {
   "cell_type": "markdown",
   "id": "870f80b8",
   "metadata": {
    "papermill": {
     "duration": 0.021625,
     "end_time": "2022-11-16T14:56:11.663237",
     "exception": false,
     "start_time": "2022-11-16T14:56:11.641612",
     "status": "completed"
    },
    "tags": []
   },
   "source": [
    "Restricting release_date to only year in \"year\" column, to see if recent or old film has correlation to revenue. "
   ]
  },
  {
   "cell_type": "code",
   "execution_count": 26,
   "id": "c7a89628",
   "metadata": {
    "execution": {
     "iopub.execute_input": "2022-11-16T14:56:11.708762Z",
     "iopub.status.busy": "2022-11-16T14:56:11.708350Z",
     "iopub.status.idle": "2022-11-16T14:56:11.734133Z",
     "shell.execute_reply": "2022-11-16T14:56:11.733037Z"
    },
    "papermill": {
     "duration": 0.051328,
     "end_time": "2022-11-16T14:56:11.736503",
     "exception": false,
     "start_time": "2022-11-16T14:56:11.685175",
     "status": "completed"
    },
    "tags": []
   },
   "outputs": [
    {
     "data": {
      "text/html": [
       "<div>\n",
       "<style scoped>\n",
       "    .dataframe tbody tr th:only-of-type {\n",
       "        vertical-align: middle;\n",
       "    }\n",
       "\n",
       "    .dataframe tbody tr th {\n",
       "        vertical-align: top;\n",
       "    }\n",
       "\n",
       "    .dataframe thead th {\n",
       "        text-align: right;\n",
       "    }\n",
       "</style>\n",
       "<table border=\"1\" class=\"dataframe\">\n",
       "  <thead>\n",
       "    <tr style=\"text-align: right;\">\n",
       "      <th></th>\n",
       "      <th>id</th>\n",
       "      <th>belongs_to_collection</th>\n",
       "      <th>budget</th>\n",
       "      <th>genres</th>\n",
       "      <th>homepage</th>\n",
       "      <th>imdb_id</th>\n",
       "      <th>original_language</th>\n",
       "      <th>original_title</th>\n",
       "      <th>overview</th>\n",
       "      <th>popularity</th>\n",
       "      <th>...</th>\n",
       "      <th>spoken_languages</th>\n",
       "      <th>status</th>\n",
       "      <th>tagline</th>\n",
       "      <th>title</th>\n",
       "      <th>Keywords</th>\n",
       "      <th>cast</th>\n",
       "      <th>crew</th>\n",
       "      <th>revenue</th>\n",
       "      <th>is_english</th>\n",
       "      <th>year</th>\n",
       "    </tr>\n",
       "  </thead>\n",
       "  <tbody>\n",
       "    <tr>\n",
       "      <th>0</th>\n",
       "      <td>1</td>\n",
       "      <td>[{'id': 313576, 'name': 'Hot Tub Time Machine ...</td>\n",
       "      <td>14000000</td>\n",
       "      <td>[{'id': 35, 'name': 'Comedy'}]</td>\n",
       "      <td>NaN</td>\n",
       "      <td>tt2637294</td>\n",
       "      <td>en</td>\n",
       "      <td>Hot Tub Time Machine 2</td>\n",
       "      <td>When Lou, who has become the \"father of the In...</td>\n",
       "      <td>6.575393</td>\n",
       "      <td>...</td>\n",
       "      <td>[{'iso_639_1': 'en', 'name': 'English'}]</td>\n",
       "      <td>Released</td>\n",
       "      <td>The Laws of Space and Time are About to be Vio...</td>\n",
       "      <td>Hot Tub Time Machine 2</td>\n",
       "      <td>[{'id': 4379, 'name': 'time travel'}, {'id': 9...</td>\n",
       "      <td>[{'cast_id': 4, 'character': 'Lou', 'credit_id...</td>\n",
       "      <td>[{'credit_id': '59ac067c92514107af02c8c8', 'de...</td>\n",
       "      <td>12314651</td>\n",
       "      <td>1</td>\n",
       "      <td>2015</td>\n",
       "    </tr>\n",
       "    <tr>\n",
       "      <th>1</th>\n",
       "      <td>2</td>\n",
       "      <td>[{'id': 107674, 'name': 'The Princess Diaries ...</td>\n",
       "      <td>40000000</td>\n",
       "      <td>[{'id': 35, 'name': 'Comedy'}, {'id': 18, 'nam...</td>\n",
       "      <td>NaN</td>\n",
       "      <td>tt0368933</td>\n",
       "      <td>en</td>\n",
       "      <td>The Princess Diaries 2: Royal Engagement</td>\n",
       "      <td>Mia Thermopolis is now a college graduate and ...</td>\n",
       "      <td>8.248895</td>\n",
       "      <td>...</td>\n",
       "      <td>[{'iso_639_1': 'en', 'name': 'English'}]</td>\n",
       "      <td>Released</td>\n",
       "      <td>It can take a lifetime to find true love; she'...</td>\n",
       "      <td>The Princess Diaries 2: Royal Engagement</td>\n",
       "      <td>[{'id': 2505, 'name': 'coronation'}, {'id': 42...</td>\n",
       "      <td>[{'cast_id': 1, 'character': 'Mia Thermopolis'...</td>\n",
       "      <td>[{'credit_id': '52fe43fe9251416c7502563d', 'de...</td>\n",
       "      <td>95149435</td>\n",
       "      <td>1</td>\n",
       "      <td>2004</td>\n",
       "    </tr>\n",
       "    <tr>\n",
       "      <th>2</th>\n",
       "      <td>3</td>\n",
       "      <td>NaN</td>\n",
       "      <td>3300000</td>\n",
       "      <td>[{'id': 18, 'name': 'Drama'}]</td>\n",
       "      <td>http://sonyclassics.com/whiplash/</td>\n",
       "      <td>tt2582802</td>\n",
       "      <td>en</td>\n",
       "      <td>Whiplash</td>\n",
       "      <td>Under the direction of a ruthless instructor, ...</td>\n",
       "      <td>64.299990</td>\n",
       "      <td>...</td>\n",
       "      <td>[{'iso_639_1': 'en', 'name': 'English'}]</td>\n",
       "      <td>Released</td>\n",
       "      <td>The road to greatness can take you to the edge.</td>\n",
       "      <td>Whiplash</td>\n",
       "      <td>[{'id': 1416, 'name': 'jazz'}, {'id': 1523, 'n...</td>\n",
       "      <td>[{'cast_id': 5, 'character': 'Andrew Neimann',...</td>\n",
       "      <td>[{'credit_id': '54d5356ec3a3683ba0000039', 'de...</td>\n",
       "      <td>13092000</td>\n",
       "      <td>1</td>\n",
       "      <td>2014</td>\n",
       "    </tr>\n",
       "    <tr>\n",
       "      <th>3</th>\n",
       "      <td>4</td>\n",
       "      <td>NaN</td>\n",
       "      <td>1200000</td>\n",
       "      <td>[{'id': 53, 'name': 'Thriller'}, {'id': 18, 'n...</td>\n",
       "      <td>http://kahaanithefilm.com/</td>\n",
       "      <td>tt1821480</td>\n",
       "      <td>hi</td>\n",
       "      <td>Kahaani</td>\n",
       "      <td>Vidya Bagchi (Vidya Balan) arrives in Kolkata ...</td>\n",
       "      <td>3.174936</td>\n",
       "      <td>...</td>\n",
       "      <td>[{'iso_639_1': 'en', 'name': 'English'}, {'iso...</td>\n",
       "      <td>Released</td>\n",
       "      <td>NaN</td>\n",
       "      <td>Kahaani</td>\n",
       "      <td>[{'id': 10092, 'name': 'mystery'}, {'id': 1054...</td>\n",
       "      <td>[{'cast_id': 1, 'character': 'Vidya Bagchi', '...</td>\n",
       "      <td>[{'credit_id': '52fe48779251416c9108d6eb', 'de...</td>\n",
       "      <td>16000000</td>\n",
       "      <td>0</td>\n",
       "      <td>2012</td>\n",
       "    </tr>\n",
       "    <tr>\n",
       "      <th>4</th>\n",
       "      <td>5</td>\n",
       "      <td>NaN</td>\n",
       "      <td>0</td>\n",
       "      <td>[{'id': 28, 'name': 'Action'}, {'id': 53, 'nam...</td>\n",
       "      <td>NaN</td>\n",
       "      <td>tt1380152</td>\n",
       "      <td>ko</td>\n",
       "      <td>마린보이</td>\n",
       "      <td>Marine Boy is the story of a former national s...</td>\n",
       "      <td>1.148070</td>\n",
       "      <td>...</td>\n",
       "      <td>[{'iso_639_1': 'ko', 'name': '한국어/조선말'}]</td>\n",
       "      <td>Released</td>\n",
       "      <td>NaN</td>\n",
       "      <td>Marine Boy</td>\n",
       "      <td>NaN</td>\n",
       "      <td>[{'cast_id': 3, 'character': 'Chun-soo', 'cred...</td>\n",
       "      <td>[{'credit_id': '52fe464b9251416c75073b43', 'de...</td>\n",
       "      <td>3923970</td>\n",
       "      <td>0</td>\n",
       "      <td>2009</td>\n",
       "    </tr>\n",
       "  </tbody>\n",
       "</table>\n",
       "<p>5 rows × 25 columns</p>\n",
       "</div>"
      ],
      "text/plain": [
       "   id                              belongs_to_collection    budget  \\\n",
       "0   1  [{'id': 313576, 'name': 'Hot Tub Time Machine ...  14000000   \n",
       "1   2  [{'id': 107674, 'name': 'The Princess Diaries ...  40000000   \n",
       "2   3                                                NaN   3300000   \n",
       "3   4                                                NaN   1200000   \n",
       "4   5                                                NaN         0   \n",
       "\n",
       "                                              genres  \\\n",
       "0                     [{'id': 35, 'name': 'Comedy'}]   \n",
       "1  [{'id': 35, 'name': 'Comedy'}, {'id': 18, 'nam...   \n",
       "2                      [{'id': 18, 'name': 'Drama'}]   \n",
       "3  [{'id': 53, 'name': 'Thriller'}, {'id': 18, 'n...   \n",
       "4  [{'id': 28, 'name': 'Action'}, {'id': 53, 'nam...   \n",
       "\n",
       "                            homepage    imdb_id original_language  \\\n",
       "0                                NaN  tt2637294                en   \n",
       "1                                NaN  tt0368933                en   \n",
       "2  http://sonyclassics.com/whiplash/  tt2582802                en   \n",
       "3         http://kahaanithefilm.com/  tt1821480                hi   \n",
       "4                                NaN  tt1380152                ko   \n",
       "\n",
       "                             original_title  \\\n",
       "0                    Hot Tub Time Machine 2   \n",
       "1  The Princess Diaries 2: Royal Engagement   \n",
       "2                                  Whiplash   \n",
       "3                                   Kahaani   \n",
       "4                                      마린보이   \n",
       "\n",
       "                                            overview  popularity  ...  \\\n",
       "0  When Lou, who has become the \"father of the In...    6.575393  ...   \n",
       "1  Mia Thermopolis is now a college graduate and ...    8.248895  ...   \n",
       "2  Under the direction of a ruthless instructor, ...   64.299990  ...   \n",
       "3  Vidya Bagchi (Vidya Balan) arrives in Kolkata ...    3.174936  ...   \n",
       "4  Marine Boy is the story of a former national s...    1.148070  ...   \n",
       "\n",
       "                                    spoken_languages    status  \\\n",
       "0           [{'iso_639_1': 'en', 'name': 'English'}]  Released   \n",
       "1           [{'iso_639_1': 'en', 'name': 'English'}]  Released   \n",
       "2           [{'iso_639_1': 'en', 'name': 'English'}]  Released   \n",
       "3  [{'iso_639_1': 'en', 'name': 'English'}, {'iso...  Released   \n",
       "4           [{'iso_639_1': 'ko', 'name': '한국어/조선말'}]  Released   \n",
       "\n",
       "                                             tagline  \\\n",
       "0  The Laws of Space and Time are About to be Vio...   \n",
       "1  It can take a lifetime to find true love; she'...   \n",
       "2    The road to greatness can take you to the edge.   \n",
       "3                                                NaN   \n",
       "4                                                NaN   \n",
       "\n",
       "                                      title  \\\n",
       "0                    Hot Tub Time Machine 2   \n",
       "1  The Princess Diaries 2: Royal Engagement   \n",
       "2                                  Whiplash   \n",
       "3                                   Kahaani   \n",
       "4                                Marine Boy   \n",
       "\n",
       "                                            Keywords  \\\n",
       "0  [{'id': 4379, 'name': 'time travel'}, {'id': 9...   \n",
       "1  [{'id': 2505, 'name': 'coronation'}, {'id': 42...   \n",
       "2  [{'id': 1416, 'name': 'jazz'}, {'id': 1523, 'n...   \n",
       "3  [{'id': 10092, 'name': 'mystery'}, {'id': 1054...   \n",
       "4                                                NaN   \n",
       "\n",
       "                                                cast  \\\n",
       "0  [{'cast_id': 4, 'character': 'Lou', 'credit_id...   \n",
       "1  [{'cast_id': 1, 'character': 'Mia Thermopolis'...   \n",
       "2  [{'cast_id': 5, 'character': 'Andrew Neimann',...   \n",
       "3  [{'cast_id': 1, 'character': 'Vidya Bagchi', '...   \n",
       "4  [{'cast_id': 3, 'character': 'Chun-soo', 'cred...   \n",
       "\n",
       "                                                crew   revenue is_english  \\\n",
       "0  [{'credit_id': '59ac067c92514107af02c8c8', 'de...  12314651          1   \n",
       "1  [{'credit_id': '52fe43fe9251416c7502563d', 'de...  95149435          1   \n",
       "2  [{'credit_id': '54d5356ec3a3683ba0000039', 'de...  13092000          1   \n",
       "3  [{'credit_id': '52fe48779251416c9108d6eb', 'de...  16000000          0   \n",
       "4  [{'credit_id': '52fe464b9251416c75073b43', 'de...   3923970          0   \n",
       "\n",
       "   year  \n",
       "0  2015  \n",
       "1  2004  \n",
       "2  2014  \n",
       "3  2012  \n",
       "4  2009  \n",
       "\n",
       "[5 rows x 25 columns]"
      ]
     },
     "execution_count": 26,
     "metadata": {},
     "output_type": "execute_result"
    }
   ],
   "source": [
    "train.head()"
   ]
  },
  {
   "cell_type": "code",
   "execution_count": 27,
   "id": "cf6f04ef",
   "metadata": {
    "execution": {
     "iopub.execute_input": "2022-11-16T14:56:11.782754Z",
     "iopub.status.busy": "2022-11-16T14:56:11.782344Z",
     "iopub.status.idle": "2022-11-16T14:56:11.792457Z",
     "shell.execute_reply": "2022-11-16T14:56:11.791404Z"
    },
    "papermill": {
     "duration": 0.035983,
     "end_time": "2022-11-16T14:56:11.794762",
     "exception": false,
     "start_time": "2022-11-16T14:56:11.758779",
     "status": "completed"
    },
    "tags": []
   },
   "outputs": [
    {
     "data": {
      "text/plain": [
       "revenue       1.000000\n",
       "budget        0.752965\n",
       "popularity    0.461460\n",
       "runtime       0.216380\n",
       "is_english    0.142130\n",
       "year          0.008273\n",
       "id            0.000610\n",
       "Name: revenue, dtype: float64"
      ]
     },
     "execution_count": 27,
     "metadata": {},
     "output_type": "execute_result"
    }
   ],
   "source": [
    "corr_matrix = train.corr()\n",
    "corr_matrix[\"revenue\"].sort_values(ascending=False)"
   ]
  },
  {
   "cell_type": "markdown",
   "id": "3f7941a5",
   "metadata": {
    "papermill": {
     "duration": 0.022089,
     "end_time": "2022-11-16T14:56:11.839403",
     "exception": false,
     "start_time": "2022-11-16T14:56:11.817314",
     "status": "completed"
    },
    "tags": []
   },
   "source": [
    "Release year seems to not have a strong correlation to revenue."
   ]
  },
  {
   "cell_type": "markdown",
   "id": "f617dcbe",
   "metadata": {
    "papermill": {
     "duration": 0.022074,
     "end_time": "2022-11-16T14:56:11.883822",
     "exception": false,
     "start_time": "2022-11-16T14:56:11.861748",
     "status": "completed"
    },
    "tags": []
   },
   "source": [
    "Combination: budget/runtime to see if the relationship between a films budget and runtime is correlated to revenue. Also popularity/runtime and budget/popularity to check more combinations."
   ]
  },
  {
   "cell_type": "markdown",
   "id": "258e980c",
   "metadata": {
    "papermill": {
     "duration": 0.022053,
     "end_time": "2022-11-16T14:56:11.928723",
     "exception": false,
     "start_time": "2022-11-16T14:56:11.906670",
     "status": "completed"
    },
    "tags": []
   },
   "source": []
  },
  {
   "cell_type": "code",
   "execution_count": 28,
   "id": "d7a91d34",
   "metadata": {
    "execution": {
     "iopub.execute_input": "2022-11-16T14:56:11.975099Z",
     "iopub.status.busy": "2022-11-16T14:56:11.974636Z",
     "iopub.status.idle": "2022-11-16T14:56:11.989623Z",
     "shell.execute_reply": "2022-11-16T14:56:11.988410Z"
    },
    "papermill": {
     "duration": 0.040881,
     "end_time": "2022-11-16T14:56:11.991906",
     "exception": false,
     "start_time": "2022-11-16T14:56:11.951025",
     "status": "completed"
    },
    "tags": []
   },
   "outputs": [
    {
     "data": {
      "text/plain": [
       "revenue                   1.000000\n",
       "budget                    0.752965\n",
       "budget_per_runtime        0.712007\n",
       "popularity                0.461460\n",
       "popularity_per_runtime    0.429610\n",
       "runtime                   0.216380\n",
       "budget_per_popularity     0.175036\n",
       "is_english                0.142130\n",
       "year                      0.008273\n",
       "id                        0.000610\n",
       "Name: revenue, dtype: float64"
      ]
     },
     "execution_count": 28,
     "metadata": {},
     "output_type": "execute_result"
    }
   ],
   "source": [
    "train[\"budget_per_runtime\"] = train[\"budget\"]/train[\"runtime\"]\n",
    "train[\"popularity_per_runtime\"] = train[\"popularity\"]/train[\"runtime\"]\n",
    "train[\"budget_per_popularity\"] = train[\"budget\"]/train[\"popularity\"]\n",
    "corr_matrix = train.corr()\n",
    "corr_matrix[\"revenue\"].sort_values(ascending=False)"
   ]
  },
  {
   "cell_type": "markdown",
   "id": "fabad5a4",
   "metadata": {
    "papermill": {
     "duration": 0.022159,
     "end_time": "2022-11-16T14:56:12.036591",
     "exception": false,
     "start_time": "2022-11-16T14:56:12.014432",
     "status": "completed"
    },
    "tags": []
   },
   "source": [
    "Result of this is a strong correlation that should be included in the ML model for predictions."
   ]
  },
  {
   "cell_type": "markdown",
   "id": "443e6494",
   "metadata": {
    "papermill": {
     "duration": 0.022079,
     "end_time": "2022-11-16T14:56:12.081188",
     "exception": false,
     "start_time": "2022-11-16T14:56:12.059109",
     "status": "completed"
    },
    "tags": []
   },
   "source": [
    "# Prepare data"
   ]
  },
  {
   "cell_type": "markdown",
   "id": "f1d94e64",
   "metadata": {
    "papermill": {
     "duration": 0.022338,
     "end_time": "2022-11-16T14:56:12.125938",
     "exception": false,
     "start_time": "2022-11-16T14:56:12.103600",
     "status": "completed"
    },
    "tags": []
   },
   "source": [
    "Dropping data not beeing used"
   ]
  },
  {
   "cell_type": "code",
   "execution_count": 29,
   "id": "b84cdc63",
   "metadata": {
    "execution": {
     "iopub.execute_input": "2022-11-16T14:56:12.173311Z",
     "iopub.status.busy": "2022-11-16T14:56:12.172305Z",
     "iopub.status.idle": "2022-11-16T14:56:12.191704Z",
     "shell.execute_reply": "2022-11-16T14:56:12.189819Z"
    },
    "papermill": {
     "duration": 0.04566,
     "end_time": "2022-11-16T14:56:12.194238",
     "exception": false,
     "start_time": "2022-11-16T14:56:12.148578",
     "status": "completed"
    },
    "tags": []
   },
   "outputs": [
    {
     "name": "stdout",
     "output_type": "stream",
     "text": [
      "<class 'pandas.core.frame.DataFrame'>\n",
      "RangeIndex: 3000 entries, 0 to 2999\n",
      "Data columns (total 28 columns):\n",
      " #   Column                  Non-Null Count  Dtype  \n",
      "---  ------                  --------------  -----  \n",
      " 0   id                      3000 non-null   int64  \n",
      " 1   belongs_to_collection   604 non-null    object \n",
      " 2   budget                  3000 non-null   int64  \n",
      " 3   genres                  2993 non-null   object \n",
      " 4   homepage                946 non-null    object \n",
      " 5   imdb_id                 3000 non-null   object \n",
      " 6   original_language       3000 non-null   object \n",
      " 7   original_title          3000 non-null   object \n",
      " 8   overview                2992 non-null   object \n",
      " 9   popularity              3000 non-null   float64\n",
      " 10  poster_path             2999 non-null   object \n",
      " 11  production_companies    2844 non-null   object \n",
      " 12  production_countries    2945 non-null   object \n",
      " 13  release_date            3000 non-null   object \n",
      " 14  runtime                 2998 non-null   float64\n",
      " 15  spoken_languages        2980 non-null   object \n",
      " 16  status                  3000 non-null   object \n",
      " 17  tagline                 2403 non-null   object \n",
      " 18  title                   3000 non-null   object \n",
      " 19  Keywords                2724 non-null   object \n",
      " 20  cast                    2987 non-null   object \n",
      " 21  crew                    2984 non-null   object \n",
      " 22  revenue                 3000 non-null   int64  \n",
      " 23  is_english              3000 non-null   int64  \n",
      " 24  year                    3000 non-null   int64  \n",
      " 25  budget_per_runtime      2992 non-null   float64\n",
      " 26  popularity_per_runtime  2998 non-null   float64\n",
      " 27  budget_per_popularity   3000 non-null   float64\n",
      "dtypes: float64(5), int64(5), object(18)\n",
      "memory usage: 656.4+ KB\n"
     ]
    }
   ],
   "source": [
    "train.info()"
   ]
  },
  {
   "cell_type": "code",
   "execution_count": 30,
   "id": "9b88cc04",
   "metadata": {
    "execution": {
     "iopub.execute_input": "2022-11-16T14:56:12.242104Z",
     "iopub.status.busy": "2022-11-16T14:56:12.241318Z",
     "iopub.status.idle": "2022-11-16T14:56:12.246895Z",
     "shell.execute_reply": "2022-11-16T14:56:12.245917Z"
    },
    "papermill": {
     "duration": 0.032214,
     "end_time": "2022-11-16T14:56:12.249187",
     "exception": false,
     "start_time": "2022-11-16T14:56:12.216973",
     "status": "completed"
    },
    "tags": []
   },
   "outputs": [],
   "source": [
    "train['budget'].replace(to_replace = 0, value = 1, inplace=True)"
   ]
  },
  {
   "cell_type": "code",
   "execution_count": 31,
   "id": "e62baa10",
   "metadata": {
    "execution": {
     "iopub.execute_input": "2022-11-16T14:56:12.297118Z",
     "iopub.status.busy": "2022-11-16T14:56:12.296386Z",
     "iopub.status.idle": "2022-11-16T14:56:12.314095Z",
     "shell.execute_reply": "2022-11-16T14:56:12.312990Z"
    },
    "papermill": {
     "duration": 0.044725,
     "end_time": "2022-11-16T14:56:12.316761",
     "exception": false,
     "start_time": "2022-11-16T14:56:12.272036",
     "status": "completed"
    },
    "tags": []
   },
   "outputs": [],
   "source": [
    "train.dropna()\n",
    "film = train.drop(\"revenue\", axis=1)\n",
    "film_2 = train._get_numeric_data()\n",
    "film_2 = film_2[np.isfinite(film_2).all(1)]\n",
    "\n",
    "film_labels = film_2[\"revenue\"].copy()\n",
    "\n",
    "film_num = film._get_numeric_data()\n",
    "film_num = film_num[np.isfinite(film_num).all(1)]"
   ]
  },
  {
   "cell_type": "code",
   "execution_count": 32,
   "id": "ecd78474",
   "metadata": {
    "execution": {
     "iopub.execute_input": "2022-11-16T14:56:12.365491Z",
     "iopub.status.busy": "2022-11-16T14:56:12.364782Z",
     "iopub.status.idle": "2022-11-16T14:56:12.372335Z",
     "shell.execute_reply": "2022-11-16T14:56:12.371133Z"
    },
    "papermill": {
     "duration": 0.034237,
     "end_time": "2022-11-16T14:56:12.374725",
     "exception": false,
     "start_time": "2022-11-16T14:56:12.340488",
     "status": "completed"
    },
    "tags": []
   },
   "outputs": [
    {
     "data": {
      "text/plain": [
       "<bound method NDFrame.head of 0        12314651\n",
       "1        95149435\n",
       "2        13092000\n",
       "3        16000000\n",
       "4         3923970\n",
       "          ...    \n",
       "2995      1596687\n",
       "2996       180590\n",
       "2997     89456761\n",
       "2998    171963386\n",
       "2999     82087155\n",
       "Name: revenue, Length: 2986, dtype: int64>"
      ]
     },
     "execution_count": 32,
     "metadata": {},
     "output_type": "execute_result"
    }
   ],
   "source": [
    "film_labels.head"
   ]
  },
  {
   "cell_type": "code",
   "execution_count": 33,
   "id": "0a942ae9",
   "metadata": {
    "execution": {
     "iopub.execute_input": "2022-11-16T14:56:12.425027Z",
     "iopub.status.busy": "2022-11-16T14:56:12.423868Z",
     "iopub.status.idle": "2022-11-16T14:56:12.433800Z",
     "shell.execute_reply": "2022-11-16T14:56:12.432771Z"
    },
    "papermill": {
     "duration": 0.036454,
     "end_time": "2022-11-16T14:56:12.436174",
     "exception": false,
     "start_time": "2022-11-16T14:56:12.399720",
     "status": "completed"
    },
    "tags": []
   },
   "outputs": [
    {
     "data": {
      "text/plain": [
       "id                        2986\n",
       "budget                    2986\n",
       "popularity                2986\n",
       "runtime                   2986\n",
       "is_english                2986\n",
       "year                      2986\n",
       "budget_per_runtime        2986\n",
       "popularity_per_runtime    2986\n",
       "budget_per_popularity     2986\n",
       "dtype: int64"
      ]
     },
     "execution_count": 33,
     "metadata": {},
     "output_type": "execute_result"
    }
   ],
   "source": [
    "film_num.count()"
   ]
  },
  {
   "cell_type": "markdown",
   "id": "933746f2",
   "metadata": {
    "papermill": {
     "duration": 0.022708,
     "end_time": "2022-11-16T14:56:12.482075",
     "exception": false,
     "start_time": "2022-11-16T14:56:12.459367",
     "status": "completed"
    },
    "tags": []
   },
   "source": [
    "Dealing with missing values using sklearn SimpleImputer class"
   ]
  },
  {
   "cell_type": "code",
   "execution_count": 34,
   "id": "6fb0d6e3",
   "metadata": {
    "execution": {
     "iopub.execute_input": "2022-11-16T14:56:12.530590Z",
     "iopub.status.busy": "2022-11-16T14:56:12.530175Z",
     "iopub.status.idle": "2022-11-16T14:56:12.728519Z",
     "shell.execute_reply": "2022-11-16T14:56:12.726875Z"
    },
    "papermill": {
     "duration": 0.22739,
     "end_time": "2022-11-16T14:56:12.732976",
     "exception": false,
     "start_time": "2022-11-16T14:56:12.505586",
     "status": "completed"
    },
    "tags": []
   },
   "outputs": [
    {
     "name": "stdout",
     "output_type": "stream",
     "text": [
      "<class 'pandas.core.frame.DataFrame'>\n",
      "Int64Index: 2986 entries, 0 to 2999\n",
      "Data columns (total 9 columns):\n",
      " #   Column                  Non-Null Count  Dtype  \n",
      "---  ------                  --------------  -----  \n",
      " 0   id                      2986 non-null   int64  \n",
      " 1   budget                  2986 non-null   float64\n",
      " 2   popularity              2986 non-null   float64\n",
      " 3   runtime                 2986 non-null   float64\n",
      " 4   is_english              2986 non-null   int64  \n",
      " 5   year                    2986 non-null   int64  \n",
      " 6   budget_per_runtime      2986 non-null   float64\n",
      " 7   popularity_per_runtime  2986 non-null   float64\n",
      " 8   budget_per_popularity   2986 non-null   float64\n",
      "dtypes: float64(6), int64(3)\n",
      "memory usage: 233.3 KB\n",
      "<class 'pandas.core.frame.DataFrame'>\n",
      "RangeIndex: 3000 entries, 0 to 2999\n",
      "Data columns (total 28 columns):\n",
      " #   Column                  Non-Null Count  Dtype  \n",
      "---  ------                  --------------  -----  \n",
      " 0   id                      3000 non-null   int64  \n",
      " 1   belongs_to_collection   604 non-null    object \n",
      " 2   budget                  3000 non-null   float64\n",
      " 3   genres                  2993 non-null   object \n",
      " 4   homepage                946 non-null    object \n",
      " 5   imdb_id                 3000 non-null   object \n",
      " 6   original_language       3000 non-null   object \n",
      " 7   original_title          3000 non-null   object \n",
      " 8   overview                2992 non-null   object \n",
      " 9   popularity              3000 non-null   float64\n",
      " 10  poster_path             2999 non-null   object \n",
      " 11  production_companies    2844 non-null   object \n",
      " 12  production_countries    2945 non-null   object \n",
      " 13  release_date            3000 non-null   object \n",
      " 14  runtime                 2998 non-null   float64\n",
      " 15  spoken_languages        2980 non-null   object \n",
      " 16  status                  3000 non-null   object \n",
      " 17  tagline                 2403 non-null   object \n",
      " 18  title                   3000 non-null   object \n",
      " 19  Keywords                2724 non-null   object \n",
      " 20  cast                    2987 non-null   object \n",
      " 21  crew                    2984 non-null   object \n",
      " 22  revenue                 3000 non-null   int64  \n",
      " 23  is_english              3000 non-null   int64  \n",
      " 24  year                    3000 non-null   int64  \n",
      " 25  budget_per_runtime      2992 non-null   float64\n",
      " 26  popularity_per_runtime  2998 non-null   float64\n",
      " 27  budget_per_popularity   3000 non-null   float64\n",
      "dtypes: float64(6), int64(4), object(18)\n",
      "memory usage: 656.4+ KB\n"
     ]
    },
    {
     "data": {
      "text/plain": [
       "SimpleImputer(strategy='median')"
      ]
     },
     "execution_count": 34,
     "metadata": {},
     "output_type": "execute_result"
    }
   ],
   "source": [
    "from sklearn.impute import SimpleImputer\n",
    "imputer = SimpleImputer(strategy=\"median\")\n",
    "\n",
    "film_num['budget'] = film_num['budget'].astype(float)\n",
    "train['budget'] = train['budget'].astype(float)\n",
    "film_num.info()\n",
    "train.info()\n",
    "imputer.fit(film_num)"
   ]
  },
  {
   "cell_type": "code",
   "execution_count": 35,
   "id": "dc60aaed",
   "metadata": {
    "execution": {
     "iopub.execute_input": "2022-11-16T14:56:12.782447Z",
     "iopub.status.busy": "2022-11-16T14:56:12.782054Z",
     "iopub.status.idle": "2022-11-16T14:56:12.791661Z",
     "shell.execute_reply": "2022-11-16T14:56:12.790637Z"
    },
    "papermill": {
     "duration": 0.036894,
     "end_time": "2022-11-16T14:56:12.794160",
     "exception": false,
     "start_time": "2022-11-16T14:56:12.757266",
     "status": "completed"
    },
    "tags": []
   },
   "outputs": [],
   "source": [
    "from sklearn.base import BaseEstimator, TransformerMixin\n",
    "budget_ix, popularity_ix, runtime_ix = 1, 2, 3\n",
    "class CombinedAttributesAdder(BaseEstimator, TransformerMixin):\n",
    " def __init__(self, add_budget_per_runtime = True): # no *args or **kargs\n",
    "     self.add_budget_per_runtime = add_budget_per_runtime\n",
    " def fit(self, X, y=None):\n",
    "     return self # nothing else to do\n",
    " def transform(self, X, y=None):\n",
    "     budget_per_popularity = X[:, budget_ix] / X[:, popularity_ix]\n",
    "     popularity_per_budget = X[:, popularity_ix] / X[:, budget_ix]\n",
    "     if self.add_budget_per_runtime:\n",
    "         budget_per_runtime = X[:, budget_ix] / X[:, runtime_ix]\n",
    "         return np.c_[X, popularity_per_budget, budget_per_popularity,\n",
    "                 budget_per_runtime]\n",
    "     else:\n",
    "         return np.c_[X, popularity_per_budget, budget_per_popularity]\n",
    "        \n",
    "        \n",
    "attr_adder = CombinedAttributesAdder(add_budget_per_runtime=False)\n",
    "train_extra_attribs = attr_adder.transform(film_num.values)"
   ]
  },
  {
   "cell_type": "markdown",
   "id": "60f527ab",
   "metadata": {
    "papermill": {
     "duration": 0.022943,
     "end_time": "2022-11-16T14:56:12.840523",
     "exception": false,
     "start_time": "2022-11-16T14:56:12.817580",
     "status": "completed"
    },
    "tags": []
   },
   "source": [
    "Transformer where hyperparameters can be added to help the ML algorithm."
   ]
  },
  {
   "cell_type": "code",
   "execution_count": 36,
   "id": "0cb6d2f7",
   "metadata": {
    "execution": {
     "iopub.execute_input": "2022-11-16T14:56:12.889660Z",
     "iopub.status.busy": "2022-11-16T14:56:12.889023Z",
     "iopub.status.idle": "2022-11-16T14:56:12.905331Z",
     "shell.execute_reply": "2022-11-16T14:56:12.904445Z"
    },
    "papermill": {
     "duration": 0.043948,
     "end_time": "2022-11-16T14:56:12.907687",
     "exception": false,
     "start_time": "2022-11-16T14:56:12.863739",
     "status": "completed"
    },
    "tags": []
   },
   "outputs": [],
   "source": [
    "from sklearn.pipeline import Pipeline\n",
    "from sklearn.preprocessing import StandardScaler\n",
    "\n",
    "num_pipeline = Pipeline([\n",
    "     ('imputer', SimpleImputer(strategy=\"median\")),\n",
    "     ('attribs_adder', CombinedAttributesAdder()),\n",
    "     ('std_scaler', StandardScaler()),\n",
    "    ])\n",
    "film_num_tr = num_pipeline.fit_transform(film_num)"
   ]
  },
  {
   "cell_type": "markdown",
   "id": "a16bc427",
   "metadata": {
    "papermill": {
     "duration": 0.022702,
     "end_time": "2022-11-16T14:56:12.953509",
     "exception": false,
     "start_time": "2022-11-16T14:56:12.930807",
     "status": "completed"
    },
    "tags": []
   },
   "source": [
    "Numeric pipeline from sklearn to help handle numeric data."
   ]
  },
  {
   "cell_type": "code",
   "execution_count": 37,
   "id": "819e292e",
   "metadata": {
    "execution": {
     "iopub.execute_input": "2022-11-16T14:56:13.002471Z",
     "iopub.status.busy": "2022-11-16T14:56:13.001473Z",
     "iopub.status.idle": "2022-11-16T14:56:13.025055Z",
     "shell.execute_reply": "2022-11-16T14:56:13.024033Z"
    },
    "papermill": {
     "duration": 0.050765,
     "end_time": "2022-11-16T14:56:13.027643",
     "exception": false,
     "start_time": "2022-11-16T14:56:12.976878",
     "status": "completed"
    },
    "tags": []
   },
   "outputs": [],
   "source": [
    "from sklearn.compose import ColumnTransformer\n",
    "\n",
    "num_attribs = list(film_num)\n",
    "cat_attribs = [\"is_english\"]\n",
    "full_pipeline = ColumnTransformer([\n",
    "     (\"num\", num_pipeline, num_attribs),\n",
    "     (\"cat\", OneHotEncoder(), cat_attribs),\n",
    "   ])\n",
    "film_prepared = full_pipeline.fit_transform(film_num)"
   ]
  },
  {
   "cell_type": "markdown",
   "id": "2755ad50",
   "metadata": {
    "papermill": {
     "duration": 0.022926,
     "end_time": "2022-11-16T14:56:13.074073",
     "exception": false,
     "start_time": "2022-11-16T14:56:13.051147",
     "status": "completed"
    },
    "tags": []
   },
   "source": [
    "Combining numeric data and categorical data with full pipeline resulting in data transformation that can be used by ML models."
   ]
  },
  {
   "cell_type": "markdown",
   "id": "ca80687a",
   "metadata": {
    "papermill": {
     "duration": 0.022675,
     "end_time": "2022-11-16T14:56:13.119813",
     "exception": false,
     "start_time": "2022-11-16T14:56:13.097138",
     "status": "completed"
    },
    "tags": []
   },
   "source": [
    "# Training"
   ]
  },
  {
   "cell_type": "markdown",
   "id": "697f5c16",
   "metadata": {
    "papermill": {
     "duration": 0.022764,
     "end_time": "2022-11-16T14:56:13.165641",
     "exception": false,
     "start_time": "2022-11-16T14:56:13.142877",
     "status": "completed"
    },
    "tags": []
   },
   "source": [
    "Trying different models and comparing their results with scores."
   ]
  },
  {
   "cell_type": "markdown",
   "id": "c6db3c58",
   "metadata": {
    "papermill": {
     "duration": 0.023013,
     "end_time": "2022-11-16T14:56:13.211914",
     "exception": false,
     "start_time": "2022-11-16T14:56:13.188901",
     "status": "completed"
    },
    "tags": []
   },
   "source": [
    "Linear regression"
   ]
  },
  {
   "cell_type": "code",
   "execution_count": 38,
   "id": "9b8d04f9",
   "metadata": {
    "execution": {
     "iopub.execute_input": "2022-11-16T14:56:13.260676Z",
     "iopub.status.busy": "2022-11-16T14:56:13.259934Z",
     "iopub.status.idle": "2022-11-16T14:56:13.289750Z",
     "shell.execute_reply": "2022-11-16T14:56:13.288184Z"
    },
    "papermill": {
     "duration": 0.058887,
     "end_time": "2022-11-16T14:56:13.294050",
     "exception": false,
     "start_time": "2022-11-16T14:56:13.235163",
     "status": "completed"
    },
    "tags": []
   },
   "outputs": [
    {
     "data": {
      "text/plain": [
       "LinearRegression()"
      ]
     },
     "execution_count": 38,
     "metadata": {},
     "output_type": "execute_result"
    }
   ],
   "source": [
    "from sklearn.linear_model import LinearRegression\n",
    "lin_reg = LinearRegression()\n",
    "lin_reg.fit(film_prepared, film_labels)"
   ]
  },
  {
   "cell_type": "code",
   "execution_count": 39,
   "id": "9dab8840",
   "metadata": {
    "execution": {
     "iopub.execute_input": "2022-11-16T14:56:13.415289Z",
     "iopub.status.busy": "2022-11-16T14:56:13.414380Z",
     "iopub.status.idle": "2022-11-16T14:56:13.433707Z",
     "shell.execute_reply": "2022-11-16T14:56:13.431995Z"
    },
    "papermill": {
     "duration": 0.08309,
     "end_time": "2022-11-16T14:56:13.438199",
     "exception": false,
     "start_time": "2022-11-16T14:56:13.355109",
     "status": "completed"
    },
    "tags": []
   },
   "outputs": [
    {
     "data": {
      "text/plain": [
       "84477149.87298246"
      ]
     },
     "execution_count": 39,
     "metadata": {},
     "output_type": "execute_result"
    }
   ],
   "source": [
    "from sklearn.metrics import mean_squared_error\n",
    "rev_predictions = lin_reg.predict(film_prepared)\n",
    "lin_mse = mean_squared_error(film_labels, rev_predictions)\n",
    "lin_rmse = np.sqrt(lin_mse)\n",
    "lin_rmse"
   ]
  },
  {
   "cell_type": "markdown",
   "id": "905159d4",
   "metadata": {
    "papermill": {
     "duration": 0.029875,
     "end_time": "2022-11-16T14:56:13.564750",
     "exception": false,
     "start_time": "2022-11-16T14:56:13.534875",
     "status": "completed"
    },
    "tags": []
   },
   "source": [
    "Decision tree regressor"
   ]
  },
  {
   "cell_type": "code",
   "execution_count": 40,
   "id": "8ec58089",
   "metadata": {
    "execution": {
     "iopub.execute_input": "2022-11-16T14:56:13.615904Z",
     "iopub.status.busy": "2022-11-16T14:56:13.614664Z",
     "iopub.status.idle": "2022-11-16T14:56:13.684566Z",
     "shell.execute_reply": "2022-11-16T14:56:13.683336Z"
    },
    "papermill": {
     "duration": 0.098602,
     "end_time": "2022-11-16T14:56:13.687282",
     "exception": false,
     "start_time": "2022-11-16T14:56:13.588680",
     "status": "completed"
    },
    "tags": []
   },
   "outputs": [
    {
     "data": {
      "text/plain": [
       "DecisionTreeRegressor()"
      ]
     },
     "execution_count": 40,
     "metadata": {},
     "output_type": "execute_result"
    }
   ],
   "source": [
    "from sklearn.tree import DecisionTreeRegressor\n",
    "tree_reg = DecisionTreeRegressor()\n",
    "tree_reg.fit(film_prepared, film_labels)"
   ]
  },
  {
   "cell_type": "code",
   "execution_count": 41,
   "id": "8b594ede",
   "metadata": {
    "execution": {
     "iopub.execute_input": "2022-11-16T14:56:13.735535Z",
     "iopub.status.busy": "2022-11-16T14:56:13.735131Z",
     "iopub.status.idle": "2022-11-16T14:56:13.745319Z",
     "shell.execute_reply": "2022-11-16T14:56:13.744193Z"
    },
    "papermill": {
     "duration": 0.037311,
     "end_time": "2022-11-16T14:56:13.747737",
     "exception": false,
     "start_time": "2022-11-16T14:56:13.710426",
     "status": "completed"
    },
    "tags": []
   },
   "outputs": [
    {
     "data": {
      "text/plain": [
       "0.0"
      ]
     },
     "execution_count": 41,
     "metadata": {},
     "output_type": "execute_result"
    }
   ],
   "source": [
    "film_predictions = tree_reg.predict(film_prepared)\n",
    "tree_mse = mean_squared_error(film_labels, film_predictions)\n",
    "tree_rmse = np.sqrt(tree_mse)\n",
    "tree_rmse"
   ]
  },
  {
   "cell_type": "markdown",
   "id": "e117b412",
   "metadata": {
    "papermill": {
     "duration": 0.022742,
     "end_time": "2022-11-16T14:56:13.793657",
     "exception": false,
     "start_time": "2022-11-16T14:56:13.770915",
     "status": "completed"
    },
    "tags": []
   },
   "source": [
    "Getting scores"
   ]
  },
  {
   "cell_type": "code",
   "execution_count": 42,
   "id": "43de5376",
   "metadata": {
    "execution": {
     "iopub.execute_input": "2022-11-16T14:56:13.842070Z",
     "iopub.status.busy": "2022-11-16T14:56:13.841589Z",
     "iopub.status.idle": "2022-11-16T14:56:14.190507Z",
     "shell.execute_reply": "2022-11-16T14:56:14.189316Z"
    },
    "papermill": {
     "duration": 0.376279,
     "end_time": "2022-11-16T14:56:14.193255",
     "exception": false,
     "start_time": "2022-11-16T14:56:13.816976",
     "status": "completed"
    },
    "tags": []
   },
   "outputs": [],
   "source": [
    "from sklearn.model_selection import cross_val_score\n",
    "scores = cross_val_score(tree_reg, film_prepared, film_labels,\n",
    " scoring=\"neg_mean_squared_error\", cv=10)\n",
    "tree_rmse_scores = np.sqrt(-scores)"
   ]
  },
  {
   "cell_type": "code",
   "execution_count": 43,
   "id": "70726482",
   "metadata": {
    "execution": {
     "iopub.execute_input": "2022-11-16T14:56:14.241966Z",
     "iopub.status.busy": "2022-11-16T14:56:14.241160Z",
     "iopub.status.idle": "2022-11-16T14:56:14.248810Z",
     "shell.execute_reply": "2022-11-16T14:56:14.247581Z"
    },
    "papermill": {
     "duration": 0.034823,
     "end_time": "2022-11-16T14:56:14.251362",
     "exception": false,
     "start_time": "2022-11-16T14:56:14.216539",
     "status": "completed"
    },
    "tags": []
   },
   "outputs": [
    {
     "name": "stdout",
     "output_type": "stream",
     "text": [
      "Scores: [1.17788803e+08 1.19315014e+08 1.23972242e+08 1.10023452e+08\n",
      " 1.26589297e+08 1.24018844e+08 8.69458492e+07 1.33260041e+08\n",
      " 1.07781780e+08 1.25025143e+08]\n",
      "Mean: 117472046.49422503\n",
      "Standard deviation: 12487096.537723737\n"
     ]
    }
   ],
   "source": [
    "def display_scores(scores):\n",
    "    print(\"Scores:\", scores)\n",
    "    print(\"Mean:\", scores.mean())\n",
    "    print(\"Standard deviation:\", scores.std())\n",
    "\n",
    "display_scores(tree_rmse_scores)"
   ]
  },
  {
   "cell_type": "code",
   "execution_count": 44,
   "id": "35818177",
   "metadata": {
    "execution": {
     "iopub.execute_input": "2022-11-16T14:56:14.299853Z",
     "iopub.status.busy": "2022-11-16T14:56:14.299433Z",
     "iopub.status.idle": "2022-11-16T14:56:14.369698Z",
     "shell.execute_reply": "2022-11-16T14:56:14.368034Z"
    },
    "papermill": {
     "duration": 0.099575,
     "end_time": "2022-11-16T14:56:14.374426",
     "exception": false,
     "start_time": "2022-11-16T14:56:14.274851",
     "status": "completed"
    },
    "tags": []
   },
   "outputs": [
    {
     "name": "stdout",
     "output_type": "stream",
     "text": [
      "Scores: [1.17788803e+08 1.19315014e+08 1.23972242e+08 1.10023452e+08\n",
      " 1.26589297e+08 1.24018844e+08 8.69458492e+07 1.33260041e+08\n",
      " 1.07781780e+08 1.25025143e+08]\n",
      "Mean: 117472046.49422503\n",
      "Standard deviation: 12487096.537723737\n"
     ]
    }
   ],
   "source": [
    "lin_scores = cross_val_score(lin_reg, film_prepared, film_labels,\n",
    "        scoring=\"neg_mean_squared_error\", cv=10)\n",
    "lin_rmse_scores = np.sqrt(-scores)\n",
    "display_scores(lin_rmse_scores)"
   ]
  },
  {
   "cell_type": "markdown",
   "id": "7736be4d",
   "metadata": {
    "papermill": {
     "duration": 0.05381,
     "end_time": "2022-11-16T14:56:14.488521",
     "exception": false,
     "start_time": "2022-11-16T14:56:14.434711",
     "status": "completed"
    },
    "tags": []
   },
   "source": [
    "Random forest regressor"
   ]
  },
  {
   "cell_type": "code",
   "execution_count": 45,
   "id": "c74823ea",
   "metadata": {
    "execution": {
     "iopub.execute_input": "2022-11-16T14:56:14.537294Z",
     "iopub.status.busy": "2022-11-16T14:56:14.536897Z",
     "iopub.status.idle": "2022-11-16T14:56:16.939270Z",
     "shell.execute_reply": "2022-11-16T14:56:16.937498Z"
    },
    "papermill": {
     "duration": 2.430591,
     "end_time": "2022-11-16T14:56:16.942518",
     "exception": false,
     "start_time": "2022-11-16T14:56:14.511927",
     "status": "completed"
    },
    "tags": []
   },
   "outputs": [
    {
     "name": "stdout",
     "output_type": "stream",
     "text": [
      "Scores: [8.60432418e+07 9.10574623e+07 9.54115100e+07 8.14606180e+07\n",
      " 8.31965378e+07 9.85693584e+07 7.05520184e+07 8.23601271e+07\n",
      " 1.09458065e+08 7.85332257e+07]\n",
      "Mean: 87664216.46047755\n",
      "Standard deviation: 10634080.433577735\n"
     ]
    }
   ],
   "source": [
    "from sklearn.ensemble import RandomForestRegressor\n",
    "forest_reg = RandomForestRegressor()\n",
    "forest_reg.fit(film_prepared, film_labels)\n",
    "\n",
    "forest_mse = mean_squared_error(film_labels, film_predictions)\n",
    "forest_rmse = np.sqrt(forest_mse)\n",
    "forest_rmse\n",
    "\n",
    "forest_rmse_scores = np.sqrt(-lin_scores)\n",
    "display_scores(forest_rmse_scores)"
   ]
  },
  {
   "cell_type": "markdown",
   "id": "7cdf51d7",
   "metadata": {
    "papermill": {
     "duration": 0.022982,
     "end_time": "2022-11-16T14:56:16.989283",
     "exception": false,
     "start_time": "2022-11-16T14:56:16.966301",
     "status": "completed"
    },
    "tags": []
   },
   "source": [
    "Random forest regressor has the best score"
   ]
  },
  {
   "cell_type": "markdown",
   "id": "2bfaaa7f",
   "metadata": {
    "papermill": {
     "duration": 0.022968,
     "end_time": "2022-11-16T14:56:17.035980",
     "exception": false,
     "start_time": "2022-11-16T14:56:17.013012",
     "status": "completed"
    },
    "tags": []
   },
   "source": [
    "# Tuning"
   ]
  },
  {
   "cell_type": "markdown",
   "id": "766a8e2b",
   "metadata": {
    "papermill": {
     "duration": 0.023107,
     "end_time": "2022-11-16T14:56:17.082392",
     "exception": false,
     "start_time": "2022-11-16T14:56:17.059285",
     "status": "completed"
    },
    "tags": []
   },
   "source": [
    "Grid search"
   ]
  },
  {
   "cell_type": "code",
   "execution_count": 46,
   "id": "d1679f9f",
   "metadata": {
    "execution": {
     "iopub.execute_input": "2022-11-16T14:56:17.130752Z",
     "iopub.status.busy": "2022-11-16T14:56:17.130358Z",
     "iopub.status.idle": "2022-11-16T14:56:45.529571Z",
     "shell.execute_reply": "2022-11-16T14:56:45.528364Z"
    },
    "papermill": {
     "duration": 28.426603,
     "end_time": "2022-11-16T14:56:45.532319",
     "exception": false,
     "start_time": "2022-11-16T14:56:17.105716",
     "status": "completed"
    },
    "tags": []
   },
   "outputs": [
    {
     "data": {
      "text/plain": [
       "GridSearchCV(cv=5, estimator=RandomForestRegressor(),\n",
       "             param_grid=[{'max_features': [1, 2, 3, 4],\n",
       "                          'n_estimators': [70, 75, 80]},\n",
       "                         {'bootstrap': [False], 'max_features': [2, 3, 4],\n",
       "                          'n_estimators': [3, 10]}],\n",
       "             return_train_score=True, scoring='neg_mean_squared_error')"
      ]
     },
     "execution_count": 46,
     "metadata": {},
     "output_type": "execute_result"
    }
   ],
   "source": [
    "from sklearn.model_selection import GridSearchCV\n",
    "param_grid = [\n",
    "     {'n_estimators': [70, 75, 80], 'max_features': [1, 2, 3, 4]},\n",
    "     {'bootstrap': [False], 'n_estimators': [3, 10], 'max_features': [2, 3, 4]},\n",
    "     ]\n",
    "forest_reg = RandomForestRegressor()\n",
    "grid_search = GridSearchCV(forest_reg, param_grid, cv=5,\n",
    "     scoring='neg_mean_squared_error',\n",
    "     return_train_score=True)\n",
    "grid_search.fit(film_prepared, film_labels)"
   ]
  },
  {
   "cell_type": "code",
   "execution_count": 47,
   "id": "e3708fea",
   "metadata": {
    "execution": {
     "iopub.execute_input": "2022-11-16T14:56:45.582309Z",
     "iopub.status.busy": "2022-11-16T14:56:45.581843Z",
     "iopub.status.idle": "2022-11-16T14:56:45.590792Z",
     "shell.execute_reply": "2022-11-16T14:56:45.589714Z"
    },
    "papermill": {
     "duration": 0.036698,
     "end_time": "2022-11-16T14:56:45.593061",
     "exception": false,
     "start_time": "2022-11-16T14:56:45.556363",
     "status": "completed"
    },
    "tags": []
   },
   "outputs": [
    {
     "data": {
      "text/plain": [
       "{'max_features': 2, 'n_estimators': 80}"
      ]
     },
     "execution_count": 47,
     "metadata": {},
     "output_type": "execute_result"
    }
   ],
   "source": [
    "grid_search.best_params_"
   ]
  },
  {
   "cell_type": "code",
   "execution_count": 48,
   "id": "52a1541d",
   "metadata": {
    "execution": {
     "iopub.execute_input": "2022-11-16T14:56:45.643610Z",
     "iopub.status.busy": "2022-11-16T14:56:45.642899Z",
     "iopub.status.idle": "2022-11-16T14:56:45.648856Z",
     "shell.execute_reply": "2022-11-16T14:56:45.648088Z"
    },
    "papermill": {
     "duration": 0.034568,
     "end_time": "2022-11-16T14:56:45.651305",
     "exception": false,
     "start_time": "2022-11-16T14:56:45.616737",
     "status": "completed"
    },
    "tags": []
   },
   "outputs": [
    {
     "data": {
      "text/plain": [
       "RandomForestRegressor(max_features=2, n_estimators=80)"
      ]
     },
     "execution_count": 48,
     "metadata": {},
     "output_type": "execute_result"
    }
   ],
   "source": [
    "grid_search.best_estimator_"
   ]
  },
  {
   "cell_type": "markdown",
   "id": "767065e2",
   "metadata": {
    "papermill": {
     "duration": 0.023568,
     "end_time": "2022-11-16T14:56:45.699286",
     "exception": false,
     "start_time": "2022-11-16T14:56:45.675718",
     "status": "completed"
    },
    "tags": []
   },
   "source": [
    "Using grid search to find good combinations of hyperparameters. Using .best_params to find best parameters of the grid search above. Taking these forward and trying new, repeat. Found best_params to be max_features=3, n_estimators=75 after multiple irerations."
   ]
  },
  {
   "cell_type": "code",
   "execution_count": 49,
   "id": "3f2198a1",
   "metadata": {
    "execution": {
     "iopub.execute_input": "2022-11-16T14:56:45.749203Z",
     "iopub.status.busy": "2022-11-16T14:56:45.748748Z",
     "iopub.status.idle": "2022-11-16T14:56:45.755994Z",
     "shell.execute_reply": "2022-11-16T14:56:45.754451Z"
    },
    "papermill": {
     "duration": 0.035219,
     "end_time": "2022-11-16T14:56:45.758578",
     "exception": false,
     "start_time": "2022-11-16T14:56:45.723359",
     "status": "completed"
    },
    "tags": []
   },
   "outputs": [
    {
     "name": "stdout",
     "output_type": "stream",
     "text": [
      "85943160.02013767 {'max_features': 1, 'n_estimators': 70}\n",
      "84918014.67272066 {'max_features': 1, 'n_estimators': 75}\n",
      "84547884.19099379 {'max_features': 1, 'n_estimators': 80}\n",
      "82785353.82382981 {'max_features': 2, 'n_estimators': 70}\n",
      "84057993.51046523 {'max_features': 2, 'n_estimators': 75}\n",
      "81418393.60208242 {'max_features': 2, 'n_estimators': 80}\n",
      "83590090.63171811 {'max_features': 3, 'n_estimators': 70}\n",
      "83918082.84733918 {'max_features': 3, 'n_estimators': 75}\n",
      "82685904.96294448 {'max_features': 3, 'n_estimators': 80}\n",
      "83089491.16478792 {'max_features': 4, 'n_estimators': 70}\n",
      "84067094.85385796 {'max_features': 4, 'n_estimators': 75}\n",
      "82965039.9075084 {'max_features': 4, 'n_estimators': 80}\n",
      "96856310.80146423 {'bootstrap': False, 'max_features': 2, 'n_estimators': 3}\n",
      "92080974.25031684 {'bootstrap': False, 'max_features': 2, 'n_estimators': 10}\n",
      "101169125.64561121 {'bootstrap': False, 'max_features': 3, 'n_estimators': 3}\n",
      "90928538.8971648 {'bootstrap': False, 'max_features': 3, 'n_estimators': 10}\n",
      "98522876.49316445 {'bootstrap': False, 'max_features': 4, 'n_estimators': 3}\n",
      "90588910.33703572 {'bootstrap': False, 'max_features': 4, 'n_estimators': 10}\n"
     ]
    }
   ],
   "source": [
    "cvres = grid_search.cv_results_\n",
    "for mean_score, params in zip(cvres[\"mean_test_score\"], cvres[\"params\"]):\n",
    "    print(np.sqrt(-mean_score), params)"
   ]
  },
  {
   "cell_type": "code",
   "execution_count": 50,
   "id": "924b231c",
   "metadata": {
    "execution": {
     "iopub.execute_input": "2022-11-16T14:56:45.810048Z",
     "iopub.status.busy": "2022-11-16T14:56:45.808641Z",
     "iopub.status.idle": "2022-11-16T14:56:46.137368Z",
     "shell.execute_reply": "2022-11-16T14:56:46.136419Z"
    },
    "papermill": {
     "duration": 0.357567,
     "end_time": "2022-11-16T14:56:46.140303",
     "exception": false,
     "start_time": "2022-11-16T14:56:45.782736",
     "status": "completed"
    },
    "tags": []
   },
   "outputs": [],
   "source": [
    "test[\"budget_per_runtime\"] = test[\"budget\"]/test[\"runtime\"]\n",
    "test[\"popularity_per_runtime\"] = test[\"popularity\"]/test[\"runtime\"]\n",
    "test[\"budget_per_popularity\"] = test[\"budget\"]/test[\"popularity\"]\n",
    "test['year'] = pd.DatetimeIndex(test['release_date']).year\n",
    "test['is_english'] = np.where(test['original_language']=='en', 1, 0)\n",
    "test['budget'].replace(to_replace = 0, value = 1, inplace=True)\n",
    "test_num = test._get_numeric_data()\n",
    "test_num = test_num[np.isfinite(test_num).all(1)]"
   ]
  },
  {
   "cell_type": "markdown",
   "id": "0c604220",
   "metadata": {
    "papermill": {
     "duration": 0.023928,
     "end_time": "2022-11-16T14:56:46.190386",
     "exception": false,
     "start_time": "2022-11-16T14:56:46.166458",
     "status": "completed"
    },
    "tags": []
   },
   "source": [
    "Formating the test dataframe the same way train was handled before. Fitting it into a final model for prediction."
   ]
  },
  {
   "cell_type": "code",
   "execution_count": 51,
   "id": "8f5ba8f0",
   "metadata": {
    "execution": {
     "iopub.execute_input": "2022-11-16T14:56:46.242792Z",
     "iopub.status.busy": "2022-11-16T14:56:46.241607Z",
     "iopub.status.idle": "2022-11-16T14:56:46.326394Z",
     "shell.execute_reply": "2022-11-16T14:56:46.325411Z"
    },
    "papermill": {
     "duration": 0.113911,
     "end_time": "2022-11-16T14:56:46.328966",
     "exception": false,
     "start_time": "2022-11-16T14:56:46.215055",
     "status": "completed"
    },
    "tags": []
   },
   "outputs": [],
   "source": [
    "final_model = grid_search.best_estimator_\n",
    "test_prepared = full_pipeline.transform(test_num)\n",
    "final_predictions = final_model.predict(test_prepared)"
   ]
  },
  {
   "cell_type": "markdown",
   "id": "ee3d4ccf",
   "metadata": {
    "papermill": {
     "duration": 0.024608,
     "end_time": "2022-11-16T14:56:46.378579",
     "exception": false,
     "start_time": "2022-11-16T14:56:46.353971",
     "status": "completed"
    },
    "tags": []
   },
   "source": [
    "# Submission"
   ]
  },
  {
   "cell_type": "code",
   "execution_count": 52,
   "id": "ec384769",
   "metadata": {
    "execution": {
     "iopub.execute_input": "2022-11-16T14:56:46.443168Z",
     "iopub.status.busy": "2022-11-16T14:56:46.442021Z",
     "iopub.status.idle": "2022-11-16T14:56:46.529202Z",
     "shell.execute_reply": "2022-11-16T14:56:46.527746Z"
    },
    "papermill": {
     "duration": 0.125031,
     "end_time": "2022-11-16T14:56:46.531942",
     "exception": false,
     "start_time": "2022-11-16T14:56:46.406911",
     "status": "completed"
    },
    "tags": []
   },
   "outputs": [
    {
     "data": {
      "text/plain": [
       "(4384, 4398)"
      ]
     },
     "execution_count": 52,
     "metadata": {},
     "output_type": "execute_result"
    }
   ],
   "source": [
    "y_pred = final_model.predict(test_prepared)\n",
    "y_pred[:10]\n",
    "len(y_pred), len(test)"
   ]
  },
  {
   "cell_type": "code",
   "execution_count": 53,
   "id": "54e77e89",
   "metadata": {
    "execution": {
     "iopub.execute_input": "2022-11-16T14:56:46.583609Z",
     "iopub.status.busy": "2022-11-16T14:56:46.582968Z",
     "iopub.status.idle": "2022-11-16T14:56:46.588978Z",
     "shell.execute_reply": "2022-11-16T14:56:46.588066Z"
    },
    "papermill": {
     "duration": 0.0347,
     "end_time": "2022-11-16T14:56:46.591657",
     "exception": false,
     "start_time": "2022-11-16T14:56:46.556957",
     "status": "completed"
    },
    "tags": []
   },
   "outputs": [],
   "source": [
    "submission = pd.DataFrame({'id': test_num.id, 'revenue': y_pred})"
   ]
  },
  {
   "cell_type": "code",
   "execution_count": 54,
   "id": "b079926a",
   "metadata": {
    "execution": {
     "iopub.execute_input": "2022-11-16T14:56:46.643998Z",
     "iopub.status.busy": "2022-11-16T14:56:46.643590Z",
     "iopub.status.idle": "2022-11-16T14:56:46.654801Z",
     "shell.execute_reply": "2022-11-16T14:56:46.653629Z"
    },
    "papermill": {
     "duration": 0.040423,
     "end_time": "2022-11-16T14:56:46.657114",
     "exception": false,
     "start_time": "2022-11-16T14:56:46.616691",
     "status": "completed"
    },
    "tags": []
   },
   "outputs": [
    {
     "data": {
      "text/html": [
       "<div>\n",
       "<style scoped>\n",
       "    .dataframe tbody tr th:only-of-type {\n",
       "        vertical-align: middle;\n",
       "    }\n",
       "\n",
       "    .dataframe tbody tr th {\n",
       "        vertical-align: top;\n",
       "    }\n",
       "\n",
       "    .dataframe thead th {\n",
       "        text-align: right;\n",
       "    }\n",
       "</style>\n",
       "<table border=\"1\" class=\"dataframe\">\n",
       "  <thead>\n",
       "    <tr style=\"text-align: right;\">\n",
       "      <th></th>\n",
       "      <th>id</th>\n",
       "      <th>revenue</th>\n",
       "    </tr>\n",
       "  </thead>\n",
       "  <tbody>\n",
       "    <tr>\n",
       "      <th>0</th>\n",
       "      <td>3001</td>\n",
       "      <td>7.618692e+06</td>\n",
       "    </tr>\n",
       "    <tr>\n",
       "      <th>1</th>\n",
       "      <td>3002</td>\n",
       "      <td>5.261959e+06</td>\n",
       "    </tr>\n",
       "    <tr>\n",
       "      <th>2</th>\n",
       "      <td>3003</td>\n",
       "      <td>1.444742e+07</td>\n",
       "    </tr>\n",
       "    <tr>\n",
       "      <th>3</th>\n",
       "      <td>3004</td>\n",
       "      <td>2.425622e+07</td>\n",
       "    </tr>\n",
       "    <tr>\n",
       "      <th>4</th>\n",
       "      <td>3005</td>\n",
       "      <td>1.055810e+07</td>\n",
       "    </tr>\n",
       "  </tbody>\n",
       "</table>\n",
       "</div>"
      ],
      "text/plain": [
       "     id       revenue\n",
       "0  3001  7.618692e+06\n",
       "1  3002  5.261959e+06\n",
       "2  3003  1.444742e+07\n",
       "3  3004  2.425622e+07\n",
       "4  3005  1.055810e+07"
      ]
     },
     "execution_count": 54,
     "metadata": {},
     "output_type": "execute_result"
    }
   ],
   "source": [
    "submission.head()"
   ]
  },
  {
   "cell_type": "code",
   "execution_count": 55,
   "id": "3fc44426",
   "metadata": {
    "execution": {
     "iopub.execute_input": "2022-11-16T14:56:46.709449Z",
     "iopub.status.busy": "2022-11-16T14:56:46.708789Z",
     "iopub.status.idle": "2022-11-16T14:56:46.726035Z",
     "shell.execute_reply": "2022-11-16T14:56:46.724994Z"
    },
    "papermill": {
     "duration": 0.046535,
     "end_time": "2022-11-16T14:56:46.728876",
     "exception": false,
     "start_time": "2022-11-16T14:56:46.682341",
     "status": "completed"
    },
    "tags": []
   },
   "outputs": [],
   "source": [
    "submission.to_csv('submission.csv', index=False)"
   ]
  }
 ],
 "metadata": {
  "kernelspec": {
   "display_name": "Python 3",
   "language": "python",
   "name": "python3"
  },
  "language_info": {
   "codemirror_mode": {
    "name": "ipython",
    "version": 3
   },
   "file_extension": ".py",
   "mimetype": "text/x-python",
   "name": "python",
   "nbconvert_exporter": "python",
   "pygments_lexer": "ipython3",
   "version": "3.7.12"
  },
  "papermill": {
   "default_parameters": {},
   "duration": 57.421068,
   "end_time": "2022-11-16T14:56:47.575554",
   "environment_variables": {},
   "exception": null,
   "input_path": "__notebook__.ipynb",
   "output_path": "__notebook__.ipynb",
   "parameters": {},
   "start_time": "2022-11-16T14:55:50.154486",
   "version": "2.3.4"
  }
 },
 "nbformat": 4,
 "nbformat_minor": 5
}
